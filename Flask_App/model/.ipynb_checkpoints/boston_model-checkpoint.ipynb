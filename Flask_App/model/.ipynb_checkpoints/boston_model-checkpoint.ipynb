{
 "cells": [
  {
   "cell_type": "code",
   "execution_count": 10,
   "metadata": {},
   "outputs": [],
   "source": [
    "# Import dependencies\n",
    "\n",
    "import matplotlib.pyplot as plt\n",
    "import numpy as np\n",
    "import pandas as pd\n",
    "import sys"
   ]
  },
  {
   "cell_type": "markdown",
   "metadata": {},
   "source": [
    "##### Regression Models \n",
    "\n",
    "**Variables/Columns**\n",
    "\n",
    "- `Age` - years\n",
    "- `5K etc. Duration` - seconds\n",
    "- `Temp` - Degrees Fahrenheit\n",
    "- `Height` - inches\n",
    "- `M/F` - Male or Female\n"
   ]
  },
  {
   "cell_type": "markdown",
   "metadata": {},
   "source": [
    "### Read the csv file into a pandas DataFrame"
   ]
  },
  {
   "cell_type": "code",
   "execution_count": 11,
   "metadata": {},
   "outputs": [
    {
     "data": {
      "text/plain": [
       "Index(['Year', 'Bib', 'Name', 'Age', 'M/F', 'City', 'State', 'Country',\n",
       "       'Citizen', 'Unnamed: 9', '5K', '10K', '15K', '20K', 'Half', '25K',\n",
       "       '30K', '35K', '40K', 'Pace', 'Proj Time', 'Official Time', 'Overall',\n",
       "       'Gender', 'Division', 'Temp (F)'],\n",
       "      dtype='object')"
      ]
     },
     "execution_count": 11,
     "metadata": {},
     "output_type": "execute_result"
    }
   ],
   "source": [
    "boston = pd.read_csv('marathon/Boston_Marathon_2015_to_2017.csv')\n",
    "#boston.head()\n",
    "#boston.shape\n",
    "boston.columns"
   ]
  },
  {
   "cell_type": "markdown",
   "metadata": {},
   "source": [
    "### Use Pandas get_dummies to convert categorical data"
   ]
  },
  {
   "cell_type": "code",
   "execution_count": 12,
   "metadata": {
    "nbgrader": {
     "grade": false,
     "grade_id": "cell-41760f7611f17b25",
     "locked": false,
     "schema_version": 1,
     "solution": true
    }
   },
   "outputs": [
    {
     "data": {
      "text/html": [
       "<div>\n",
       "<style scoped>\n",
       "    .dataframe tbody tr th:only-of-type {\n",
       "        vertical-align: middle;\n",
       "    }\n",
       "\n",
       "    .dataframe tbody tr th {\n",
       "        vertical-align: top;\n",
       "    }\n",
       "\n",
       "    .dataframe thead th {\n",
       "        text-align: right;\n",
       "    }\n",
       "</style>\n",
       "<table border=\"1\" class=\"dataframe\">\n",
       "  <thead>\n",
       "    <tr style=\"text-align: right;\">\n",
       "      <th></th>\n",
       "      <th>Year</th>\n",
       "      <th>Bib</th>\n",
       "      <th>Name</th>\n",
       "      <th>Age</th>\n",
       "      <th>M/F</th>\n",
       "      <th>City</th>\n",
       "      <th>State</th>\n",
       "      <th>Country</th>\n",
       "      <th>Citizen</th>\n",
       "      <th>Unnamed: 9</th>\n",
       "      <th>...</th>\n",
       "      <th>40K</th>\n",
       "      <th>Pace</th>\n",
       "      <th>Proj Time</th>\n",
       "      <th>Official Time</th>\n",
       "      <th>Overall</th>\n",
       "      <th>Gender</th>\n",
       "      <th>Division</th>\n",
       "      <th>Temp (F)</th>\n",
       "      <th>F</th>\n",
       "      <th>M</th>\n",
       "    </tr>\n",
       "  </thead>\n",
       "  <tbody>\n",
       "    <tr>\n",
       "      <th>0</th>\n",
       "      <td>2015</td>\n",
       "      <td>3</td>\n",
       "      <td>Desisa, Lelisa</td>\n",
       "      <td>25</td>\n",
       "      <td>M</td>\n",
       "      <td>Ambo</td>\n",
       "      <td>NaN</td>\n",
       "      <td>ETH</td>\n",
       "      <td>NaN</td>\n",
       "      <td>NaN</td>\n",
       "      <td>...</td>\n",
       "      <td>2:02:39</td>\n",
       "      <td>0:04:56</td>\n",
       "      <td>-</td>\n",
       "      <td>2:09:17</td>\n",
       "      <td>1</td>\n",
       "      <td>1</td>\n",
       "      <td>1</td>\n",
       "      <td>46</td>\n",
       "      <td>0</td>\n",
       "      <td>1</td>\n",
       "    </tr>\n",
       "    <tr>\n",
       "      <th>1</th>\n",
       "      <td>2015</td>\n",
       "      <td>4</td>\n",
       "      <td>Tsegay, Yemane Adhane</td>\n",
       "      <td>30</td>\n",
       "      <td>M</td>\n",
       "      <td>Addis Ababa</td>\n",
       "      <td>NaN</td>\n",
       "      <td>ETH</td>\n",
       "      <td>NaN</td>\n",
       "      <td>NaN</td>\n",
       "      <td>...</td>\n",
       "      <td>2:02:42</td>\n",
       "      <td>0:04:58</td>\n",
       "      <td>-</td>\n",
       "      <td>2:09:48</td>\n",
       "      <td>2</td>\n",
       "      <td>2</td>\n",
       "      <td>2</td>\n",
       "      <td>46</td>\n",
       "      <td>0</td>\n",
       "      <td>1</td>\n",
       "    </tr>\n",
       "    <tr>\n",
       "      <th>2</th>\n",
       "      <td>2015</td>\n",
       "      <td>8</td>\n",
       "      <td>Chebet, Wilson</td>\n",
       "      <td>29</td>\n",
       "      <td>M</td>\n",
       "      <td>Marakwet</td>\n",
       "      <td>NaN</td>\n",
       "      <td>KEN</td>\n",
       "      <td>NaN</td>\n",
       "      <td>NaN</td>\n",
       "      <td>...</td>\n",
       "      <td>2:03:01</td>\n",
       "      <td>0:04:59</td>\n",
       "      <td>-</td>\n",
       "      <td>2:10:22</td>\n",
       "      <td>3</td>\n",
       "      <td>3</td>\n",
       "      <td>3</td>\n",
       "      <td>46</td>\n",
       "      <td>0</td>\n",
       "      <td>1</td>\n",
       "    </tr>\n",
       "    <tr>\n",
       "      <th>3</th>\n",
       "      <td>2015</td>\n",
       "      <td>11</td>\n",
       "      <td>Kipyego, Bernard</td>\n",
       "      <td>28</td>\n",
       "      <td>M</td>\n",
       "      <td>Eldoret</td>\n",
       "      <td>NaN</td>\n",
       "      <td>KEN</td>\n",
       "      <td>NaN</td>\n",
       "      <td>NaN</td>\n",
       "      <td>...</td>\n",
       "      <td>2:03:47</td>\n",
       "      <td>0:05:00</td>\n",
       "      <td>-</td>\n",
       "      <td>2:10:47</td>\n",
       "      <td>4</td>\n",
       "      <td>4</td>\n",
       "      <td>4</td>\n",
       "      <td>46</td>\n",
       "      <td>0</td>\n",
       "      <td>1</td>\n",
       "    </tr>\n",
       "    <tr>\n",
       "      <th>4</th>\n",
       "      <td>2015</td>\n",
       "      <td>10</td>\n",
       "      <td>Korir, Wesley</td>\n",
       "      <td>32</td>\n",
       "      <td>M</td>\n",
       "      <td>Kitale</td>\n",
       "      <td>NaN</td>\n",
       "      <td>KEN</td>\n",
       "      <td>NaN</td>\n",
       "      <td>NaN</td>\n",
       "      <td>...</td>\n",
       "      <td>2:03:27</td>\n",
       "      <td>0:05:00</td>\n",
       "      <td>-</td>\n",
       "      <td>2:10:49</td>\n",
       "      <td>5</td>\n",
       "      <td>5</td>\n",
       "      <td>5</td>\n",
       "      <td>46</td>\n",
       "      <td>0</td>\n",
       "      <td>1</td>\n",
       "    </tr>\n",
       "  </tbody>\n",
       "</table>\n",
       "<p>5 rows × 28 columns</p>\n",
       "</div>"
      ],
      "text/plain": [
       "   Year  Bib                   Name  Age M/F         City State Country  \\\n",
       "0  2015    3         Desisa, Lelisa   25   M         Ambo   NaN     ETH   \n",
       "1  2015    4  Tsegay, Yemane Adhane   30   M  Addis Ababa   NaN     ETH   \n",
       "2  2015    8         Chebet, Wilson   29   M     Marakwet   NaN     KEN   \n",
       "3  2015   11       Kipyego, Bernard   28   M      Eldoret   NaN     KEN   \n",
       "4  2015   10          Korir, Wesley   32   M       Kitale   NaN     KEN   \n",
       "\n",
       "  Citizen Unnamed: 9 ...      40K     Pace Proj Time Official Time Overall  \\\n",
       "0     NaN        NaN ...  2:02:39  0:04:56         -       2:09:17       1   \n",
       "1     NaN        NaN ...  2:02:42  0:04:58         -       2:09:48       2   \n",
       "2     NaN        NaN ...  2:03:01  0:04:59         -       2:10:22       3   \n",
       "3     NaN        NaN ...  2:03:47  0:05:00         -       2:10:47       4   \n",
       "4     NaN        NaN ...  2:03:27  0:05:00         -       2:10:49       5   \n",
       "\n",
       "  Gender Division Temp (F)  F  M  \n",
       "0      1        1       46  0  1  \n",
       "1      2        2       46  0  1  \n",
       "2      3        3       46  0  1  \n",
       "3      4        4       46  0  1  \n",
       "4      5        5       46  0  1  \n",
       "\n",
       "[5 rows x 28 columns]"
      ]
     },
     "execution_count": 12,
     "metadata": {},
     "output_type": "execute_result"
    }
   ],
   "source": [
    "# convert male/female to 0/1s\n",
    "\n",
    "boston_mf=pd.get_dummies(boston['M/F'])\n",
    "\n",
    "# join the two dataframes\n",
    "\n",
    "boston_join=pd.concat([boston, boston_mf], axis=1) \n",
    "\n",
    "boston_join.head()\n",
    "# boston_join[['5K','10K','15K','20K','Half', '25K','30K']]"
   ]
  },
  {
   "cell_type": "code",
   "execution_count": 13,
   "metadata": {},
   "outputs": [
    {
     "data": {
      "text/html": [
       "<div>\n",
       "<style scoped>\n",
       "    .dataframe tbody tr th:only-of-type {\n",
       "        vertical-align: middle;\n",
       "    }\n",
       "\n",
       "    .dataframe tbody tr th {\n",
       "        vertical-align: top;\n",
       "    }\n",
       "\n",
       "    .dataframe thead th {\n",
       "        text-align: right;\n",
       "    }\n",
       "</style>\n",
       "<table border=\"1\" class=\"dataframe\">\n",
       "  <thead>\n",
       "    <tr style=\"text-align: right;\">\n",
       "      <th></th>\n",
       "      <th>Bib</th>\n",
       "      <th>5K Duration</th>\n",
       "      <th>10K Duration</th>\n",
       "      <th>15K Duration</th>\n",
       "      <th>20K Duration</th>\n",
       "      <th>Half Duration</th>\n",
       "      <th>25K Duration</th>\n",
       "      <th>30K Duration</th>\n",
       "      <th>Official Time Duration</th>\n",
       "    </tr>\n",
       "  </thead>\n",
       "  <tbody>\n",
       "    <tr>\n",
       "      <th>0</th>\n",
       "      <td>3</td>\n",
       "      <td>883</td>\n",
       "      <td>1783</td>\n",
       "      <td>2697</td>\n",
       "      <td>3629</td>\n",
       "      <td>3842</td>\n",
       "      <td>4567</td>\n",
       "      <td>5520</td>\n",
       "      <td>7757</td>\n",
       "    </tr>\n",
       "    <tr>\n",
       "      <th>1</th>\n",
       "      <td>4</td>\n",
       "      <td>883</td>\n",
       "      <td>1783</td>\n",
       "      <td>2698</td>\n",
       "      <td>3628</td>\n",
       "      <td>3841</td>\n",
       "      <td>4567</td>\n",
       "      <td>5519</td>\n",
       "      <td>7788</td>\n",
       "    </tr>\n",
       "    <tr>\n",
       "      <th>2</th>\n",
       "      <td>8</td>\n",
       "      <td>883</td>\n",
       "      <td>1783</td>\n",
       "      <td>2697</td>\n",
       "      <td>3629</td>\n",
       "      <td>3842</td>\n",
       "      <td>4567</td>\n",
       "      <td>5520</td>\n",
       "      <td>7822</td>\n",
       "    </tr>\n",
       "    <tr>\n",
       "      <th>3</th>\n",
       "      <td>11</td>\n",
       "      <td>883</td>\n",
       "      <td>1784</td>\n",
       "      <td>2701</td>\n",
       "      <td>3629</td>\n",
       "      <td>3842</td>\n",
       "      <td>4567</td>\n",
       "      <td>5520</td>\n",
       "      <td>7847</td>\n",
       "    </tr>\n",
       "    <tr>\n",
       "      <th>4</th>\n",
       "      <td>10</td>\n",
       "      <td>883</td>\n",
       "      <td>1784</td>\n",
       "      <td>2698</td>\n",
       "      <td>3628</td>\n",
       "      <td>3841</td>\n",
       "      <td>4567</td>\n",
       "      <td>5520</td>\n",
       "      <td>7849</td>\n",
       "    </tr>\n",
       "    <tr>\n",
       "      <th>5</th>\n",
       "      <td>9</td>\n",
       "      <td>884</td>\n",
       "      <td>1785</td>\n",
       "      <td>2699</td>\n",
       "      <td>3629</td>\n",
       "      <td>3842</td>\n",
       "      <td>4567</td>\n",
       "      <td>5520</td>\n",
       "      <td>7852</td>\n",
       "    </tr>\n",
       "    <tr>\n",
       "      <th>6</th>\n",
       "      <td>14</td>\n",
       "      <td>885</td>\n",
       "      <td>1785</td>\n",
       "      <td>2720</td>\n",
       "      <td>3643</td>\n",
       "      <td>3843</td>\n",
       "      <td>4565</td>\n",
       "      <td>5519</td>\n",
       "      <td>7880</td>\n",
       "    </tr>\n",
       "    <tr>\n",
       "      <th>7</th>\n",
       "      <td>1</td>\n",
       "      <td>884</td>\n",
       "      <td>1784</td>\n",
       "      <td>2699</td>\n",
       "      <td>3630</td>\n",
       "      <td>3842</td>\n",
       "      <td>4567</td>\n",
       "      <td>5519</td>\n",
       "      <td>7962</td>\n",
       "    </tr>\n",
       "    <tr>\n",
       "      <th>8</th>\n",
       "      <td>5</td>\n",
       "      <td>883</td>\n",
       "      <td>1783</td>\n",
       "      <td>2698</td>\n",
       "      <td>3628</td>\n",
       "      <td>3842</td>\n",
       "      <td>4567</td>\n",
       "      <td>5520</td>\n",
       "      <td>8015</td>\n",
       "    </tr>\n",
       "    <tr>\n",
       "      <th>9</th>\n",
       "      <td>16</td>\n",
       "      <td>914</td>\n",
       "      <td>1834</td>\n",
       "      <td>2765</td>\n",
       "      <td>3703</td>\n",
       "      <td>3907</td>\n",
       "      <td>4638</td>\n",
       "      <td>5591</td>\n",
       "      <td>8032</td>\n",
       "    </tr>\n",
       "    <tr>\n",
       "      <th>10</th>\n",
       "      <td>22</td>\n",
       "      <td>886</td>\n",
       "      <td>1790</td>\n",
       "      <td>2733</td>\n",
       "      <td>3680</td>\n",
       "      <td>3888</td>\n",
       "      <td>4628</td>\n",
       "      <td>5592</td>\n",
       "      <td>8032</td>\n",
       "    </tr>\n",
       "    <tr>\n",
       "      <th>11</th>\n",
       "      <td>19</td>\n",
       "      <td>914</td>\n",
       "      <td>1834</td>\n",
       "      <td>2766</td>\n",
       "      <td>3702</td>\n",
       "      <td>3907</td>\n",
       "      <td>4639</td>\n",
       "      <td>5610</td>\n",
       "      <td>8057</td>\n",
       "    </tr>\n",
       "    <tr>\n",
       "      <th>12</th>\n",
       "      <td>15</td>\n",
       "      <td>884</td>\n",
       "      <td>1784</td>\n",
       "      <td>2699</td>\n",
       "      <td>3629</td>\n",
       "      <td>3843</td>\n",
       "      <td>4567</td>\n",
       "      <td>5520</td>\n",
       "      <td>8185</td>\n",
       "    </tr>\n",
       "    <tr>\n",
       "      <th>13</th>\n",
       "      <td>20</td>\n",
       "      <td>884</td>\n",
       "      <td>1784</td>\n",
       "      <td>2714</td>\n",
       "      <td>3667</td>\n",
       "      <td>3875</td>\n",
       "      <td>4670</td>\n",
       "      <td>5743</td>\n",
       "      <td>8282</td>\n",
       "    </tr>\n",
       "    <tr>\n",
       "      <th>14</th>\n",
       "      <td>76</td>\n",
       "      <td>953</td>\n",
       "      <td>1937</td>\n",
       "      <td>2912</td>\n",
       "      <td>3889</td>\n",
       "      <td>4101</td>\n",
       "      <td>4877</td>\n",
       "      <td>5882</td>\n",
       "      <td>8324</td>\n",
       "    </tr>\n",
       "    <tr>\n",
       "      <th>15</th>\n",
       "      <td>28</td>\n",
       "      <td>968</td>\n",
       "      <td>1939</td>\n",
       "      <td>2921</td>\n",
       "      <td>3901</td>\n",
       "      <td>4118</td>\n",
       "      <td>4878</td>\n",
       "      <td>5881</td>\n",
       "      <td>8352</td>\n",
       "    </tr>\n",
       "    <tr>\n",
       "      <th>16</th>\n",
       "      <td>54</td>\n",
       "      <td>953</td>\n",
       "      <td>1937</td>\n",
       "      <td>2912</td>\n",
       "      <td>3889</td>\n",
       "      <td>4100</td>\n",
       "      <td>4877</td>\n",
       "      <td>5882</td>\n",
       "      <td>8357</td>\n",
       "    </tr>\n",
       "    <tr>\n",
       "      <th>17</th>\n",
       "      <td>29</td>\n",
       "      <td>957</td>\n",
       "      <td>1941</td>\n",
       "      <td>2923</td>\n",
       "      <td>3921</td>\n",
       "      <td>4140</td>\n",
       "      <td>4910</td>\n",
       "      <td>5926</td>\n",
       "      <td>8404</td>\n",
       "    </tr>\n",
       "    <tr>\n",
       "      <th>18</th>\n",
       "      <td>27</td>\n",
       "      <td>968</td>\n",
       "      <td>1937</td>\n",
       "      <td>2911</td>\n",
       "      <td>3884</td>\n",
       "      <td>4097</td>\n",
       "      <td>4855</td>\n",
       "      <td>5861</td>\n",
       "      <td>8425</td>\n",
       "    </tr>\n",
       "    <tr>\n",
       "      <th>19</th>\n",
       "      <td>33</td>\n",
       "      <td>968</td>\n",
       "      <td>1940</td>\n",
       "      <td>2922</td>\n",
       "      <td>3920</td>\n",
       "      <td>4138</td>\n",
       "      <td>4910</td>\n",
       "      <td>5920</td>\n",
       "      <td>8435</td>\n",
       "    </tr>\n",
       "    <tr>\n",
       "      <th>20</th>\n",
       "      <td>26</td>\n",
       "      <td>886</td>\n",
       "      <td>1791</td>\n",
       "      <td>2733</td>\n",
       "      <td>3687</td>\n",
       "      <td>3904</td>\n",
       "      <td>4685</td>\n",
       "      <td>5734</td>\n",
       "      <td>8442</td>\n",
       "    </tr>\n",
       "    <tr>\n",
       "      <th>21</th>\n",
       "      <td>32</td>\n",
       "      <td>968</td>\n",
       "      <td>1941</td>\n",
       "      <td>2922</td>\n",
       "      <td>3921</td>\n",
       "      <td>4139</td>\n",
       "      <td>4910</td>\n",
       "      <td>5926</td>\n",
       "      <td>8470</td>\n",
       "    </tr>\n",
       "    <tr>\n",
       "      <th>22</th>\n",
       "      <td>41</td>\n",
       "      <td>968</td>\n",
       "      <td>1942</td>\n",
       "      <td>2923</td>\n",
       "      <td>3921</td>\n",
       "      <td>4139</td>\n",
       "      <td>4911</td>\n",
       "      <td>5926</td>\n",
       "      <td>8476</td>\n",
       "    </tr>\n",
       "    <tr>\n",
       "      <th>23</th>\n",
       "      <td>35</td>\n",
       "      <td>968</td>\n",
       "      <td>1942</td>\n",
       "      <td>2922</td>\n",
       "      <td>3920</td>\n",
       "      <td>4139</td>\n",
       "      <td>4910</td>\n",
       "      <td>5925</td>\n",
       "      <td>8518</td>\n",
       "    </tr>\n",
       "    <tr>\n",
       "      <th>24</th>\n",
       "      <td>21</td>\n",
       "      <td>929</td>\n",
       "      <td>1865</td>\n",
       "      <td>2835</td>\n",
       "      <td>3827</td>\n",
       "      <td>4043</td>\n",
       "      <td>4821</td>\n",
       "      <td>5854</td>\n",
       "      <td>8525</td>\n",
       "    </tr>\n",
       "    <tr>\n",
       "      <th>25</th>\n",
       "      <td>24</td>\n",
       "      <td>952</td>\n",
       "      <td>1914</td>\n",
       "      <td>2897</td>\n",
       "      <td>3876</td>\n",
       "      <td>4089</td>\n",
       "      <td>4855</td>\n",
       "      <td>5861</td>\n",
       "      <td>8550</td>\n",
       "    </tr>\n",
       "    <tr>\n",
       "      <th>26</th>\n",
       "      <td>53</td>\n",
       "      <td>967</td>\n",
       "      <td>1941</td>\n",
       "      <td>2922</td>\n",
       "      <td>3910</td>\n",
       "      <td>4128</td>\n",
       "      <td>4903</td>\n",
       "      <td>5926</td>\n",
       "      <td>8601</td>\n",
       "    </tr>\n",
       "    <tr>\n",
       "      <th>27</th>\n",
       "      <td>78</td>\n",
       "      <td>968</td>\n",
       "      <td>1943</td>\n",
       "      <td>2955</td>\n",
       "      <td>4016</td>\n",
       "      <td>4246</td>\n",
       "      <td>5062</td>\n",
       "      <td>6121</td>\n",
       "      <td>8677</td>\n",
       "    </tr>\n",
       "    <tr>\n",
       "      <th>28</th>\n",
       "      <td>106</td>\n",
       "      <td>1012</td>\n",
       "      <td>2015</td>\n",
       "      <td>3040</td>\n",
       "      <td>4070</td>\n",
       "      <td>4293</td>\n",
       "      <td>5098</td>\n",
       "      <td>6139</td>\n",
       "      <td>8684</td>\n",
       "    </tr>\n",
       "    <tr>\n",
       "      <th>29</th>\n",
       "      <td>83</td>\n",
       "      <td>958</td>\n",
       "      <td>1940</td>\n",
       "      <td>2923</td>\n",
       "      <td>3966</td>\n",
       "      <td>4197</td>\n",
       "      <td>5016</td>\n",
       "      <td>6096</td>\n",
       "      <td>8689</td>\n",
       "    </tr>\n",
       "    <tr>\n",
       "      <th>...</th>\n",
       "      <td>...</td>\n",
       "      <td>...</td>\n",
       "      <td>...</td>\n",
       "      <td>...</td>\n",
       "      <td>...</td>\n",
       "      <td>...</td>\n",
       "      <td>...</td>\n",
       "      <td>...</td>\n",
       "      <td>...</td>\n",
       "    </tr>\n",
       "    <tr>\n",
       "      <th>79008</th>\n",
       "      <td>24952</td>\n",
       "      <td>2182</td>\n",
       "      <td>4591</td>\n",
       "      <td>7573</td>\n",
       "      <td>10176</td>\n",
       "      <td>10705</td>\n",
       "      <td>12805</td>\n",
       "      <td>15603</td>\n",
       "      <td>22175</td>\n",
       "    </tr>\n",
       "    <tr>\n",
       "      <th>79009</th>\n",
       "      <td>25779</td>\n",
       "      <td>2054</td>\n",
       "      <td>4213</td>\n",
       "      <td>6352</td>\n",
       "      <td>8549</td>\n",
       "      <td>8999</td>\n",
       "      <td>11083</td>\n",
       "      <td>14301</td>\n",
       "      <td>22178</td>\n",
       "    </tr>\n",
       "    <tr>\n",
       "      <th>79010</th>\n",
       "      <td>24894</td>\n",
       "      <td>2107</td>\n",
       "      <td>4463</td>\n",
       "      <td>6867</td>\n",
       "      <td>9425</td>\n",
       "      <td>9954</td>\n",
       "      <td>11986</td>\n",
       "      <td>14969</td>\n",
       "      <td>22219</td>\n",
       "    </tr>\n",
       "    <tr>\n",
       "      <th>79011</th>\n",
       "      <td>23144</td>\n",
       "      <td>2010</td>\n",
       "      <td>4183</td>\n",
       "      <td>6548</td>\n",
       "      <td>9077</td>\n",
       "      <td>9636</td>\n",
       "      <td>13033</td>\n",
       "      <td>15958</td>\n",
       "      <td>22406</td>\n",
       "    </tr>\n",
       "    <tr>\n",
       "      <th>79012</th>\n",
       "      <td>25182</td>\n",
       "      <td>2153</td>\n",
       "      <td>4362</td>\n",
       "      <td>6672</td>\n",
       "      <td>9071</td>\n",
       "      <td>9611</td>\n",
       "      <td>11612</td>\n",
       "      <td>15288</td>\n",
       "      <td>22406</td>\n",
       "    </tr>\n",
       "    <tr>\n",
       "      <th>79013</th>\n",
       "      <td>26163</td>\n",
       "      <td>2015</td>\n",
       "      <td>4318</td>\n",
       "      <td>6696</td>\n",
       "      <td>9196</td>\n",
       "      <td>9720</td>\n",
       "      <td>11812</td>\n",
       "      <td>14685</td>\n",
       "      <td>22445</td>\n",
       "    </tr>\n",
       "    <tr>\n",
       "      <th>79014</th>\n",
       "      <td>26889</td>\n",
       "      <td>2039</td>\n",
       "      <td>4269</td>\n",
       "      <td>6657</td>\n",
       "      <td>9254</td>\n",
       "      <td>9836</td>\n",
       "      <td>12159</td>\n",
       "      <td>15326</td>\n",
       "      <td>22564</td>\n",
       "    </tr>\n",
       "    <tr>\n",
       "      <th>79015</th>\n",
       "      <td>26873</td>\n",
       "      <td>2041</td>\n",
       "      <td>4272</td>\n",
       "      <td>6660</td>\n",
       "      <td>9257</td>\n",
       "      <td>9838</td>\n",
       "      <td>12161</td>\n",
       "      <td>15328</td>\n",
       "      <td>22565</td>\n",
       "    </tr>\n",
       "    <tr>\n",
       "      <th>79016</th>\n",
       "      <td>23458</td>\n",
       "      <td>1775</td>\n",
       "      <td>3678</td>\n",
       "      <td>5723</td>\n",
       "      <td>8035</td>\n",
       "      <td>8569</td>\n",
       "      <td>11481</td>\n",
       "      <td>14710</td>\n",
       "      <td>22610</td>\n",
       "    </tr>\n",
       "    <tr>\n",
       "      <th>79017</th>\n",
       "      <td>25179</td>\n",
       "      <td>2407</td>\n",
       "      <td>5092</td>\n",
       "      <td>7743</td>\n",
       "      <td>10339</td>\n",
       "      <td>10944</td>\n",
       "      <td>13038</td>\n",
       "      <td>15710</td>\n",
       "      <td>22616</td>\n",
       "    </tr>\n",
       "    <tr>\n",
       "      <th>79018</th>\n",
       "      <td>25265</td>\n",
       "      <td>2177</td>\n",
       "      <td>4622</td>\n",
       "      <td>7281</td>\n",
       "      <td>9912</td>\n",
       "      <td>10476</td>\n",
       "      <td>12712</td>\n",
       "      <td>15562</td>\n",
       "      <td>22933</td>\n",
       "    </tr>\n",
       "    <tr>\n",
       "      <th>79019</th>\n",
       "      <td>28988</td>\n",
       "      <td>2178</td>\n",
       "      <td>4653</td>\n",
       "      <td>7296</td>\n",
       "      <td>9947</td>\n",
       "      <td>10551</td>\n",
       "      <td>12725</td>\n",
       "      <td>15585</td>\n",
       "      <td>22933</td>\n",
       "    </tr>\n",
       "    <tr>\n",
       "      <th>79020</th>\n",
       "      <td>6893</td>\n",
       "      <td>1728</td>\n",
       "      <td>3628</td>\n",
       "      <td>5801</td>\n",
       "      <td>8382</td>\n",
       "      <td>9026</td>\n",
       "      <td>11538</td>\n",
       "      <td>14679</td>\n",
       "      <td>23043</td>\n",
       "    </tr>\n",
       "    <tr>\n",
       "      <th>79021</th>\n",
       "      <td>10603</td>\n",
       "      <td>2355</td>\n",
       "      <td>5069</td>\n",
       "      <td>7985</td>\n",
       "      <td>10811</td>\n",
       "      <td>11397</td>\n",
       "      <td>13722</td>\n",
       "      <td>16662</td>\n",
       "      <td>23191</td>\n",
       "    </tr>\n",
       "    <tr>\n",
       "      <th>79022</th>\n",
       "      <td>27054</td>\n",
       "      <td>2801</td>\n",
       "      <td>5329</td>\n",
       "      <td>7688</td>\n",
       "      <td>10069</td>\n",
       "      <td>10522</td>\n",
       "      <td>12497</td>\n",
       "      <td>15495</td>\n",
       "      <td>23230</td>\n",
       "    </tr>\n",
       "    <tr>\n",
       "      <th>79023</th>\n",
       "      <td>6170</td>\n",
       "      <td>2309</td>\n",
       "      <td>5073</td>\n",
       "      <td>7846</td>\n",
       "      <td>10669</td>\n",
       "      <td>11241</td>\n",
       "      <td>13727</td>\n",
       "      <td>16676</td>\n",
       "      <td>23584</td>\n",
       "    </tr>\n",
       "    <tr>\n",
       "      <th>79024</th>\n",
       "      <td>4631</td>\n",
       "      <td>2303</td>\n",
       "      <td>4914</td>\n",
       "      <td>7414</td>\n",
       "      <td>10142</td>\n",
       "      <td>10876</td>\n",
       "      <td>13439</td>\n",
       "      <td>16450</td>\n",
       "      <td>23868</td>\n",
       "    </tr>\n",
       "    <tr>\n",
       "      <th>79025</th>\n",
       "      <td>25262</td>\n",
       "      <td>2147</td>\n",
       "      <td>4622</td>\n",
       "      <td>7558</td>\n",
       "      <td>10353</td>\n",
       "      <td>11011</td>\n",
       "      <td>13412</td>\n",
       "      <td>16671</td>\n",
       "      <td>23905</td>\n",
       "    </tr>\n",
       "    <tr>\n",
       "      <th>79026</th>\n",
       "      <td>15536</td>\n",
       "      <td>1934</td>\n",
       "      <td>4224</td>\n",
       "      <td>7184</td>\n",
       "      <td>10274</td>\n",
       "      <td>10844</td>\n",
       "      <td>13608</td>\n",
       "      <td>17032</td>\n",
       "      <td>24124</td>\n",
       "    </tr>\n",
       "    <tr>\n",
       "      <th>79027</th>\n",
       "      <td>14851</td>\n",
       "      <td>1532</td>\n",
       "      <td>3282</td>\n",
       "      <td>5447</td>\n",
       "      <td>7892</td>\n",
       "      <td>8431</td>\n",
       "      <td>11635</td>\n",
       "      <td>15249</td>\n",
       "      <td>24289</td>\n",
       "    </tr>\n",
       "    <tr>\n",
       "      <th>79028</th>\n",
       "      <td>25263</td>\n",
       "      <td>2551</td>\n",
       "      <td>5265</td>\n",
       "      <td>8283</td>\n",
       "      <td>11152</td>\n",
       "      <td>11756</td>\n",
       "      <td>14150</td>\n",
       "      <td>17255</td>\n",
       "      <td>24390</td>\n",
       "    </tr>\n",
       "    <tr>\n",
       "      <th>79029</th>\n",
       "      <td>2605</td>\n",
       "      <td>1255</td>\n",
       "      <td>2531</td>\n",
       "      <td>3931</td>\n",
       "      <td>5555</td>\n",
       "      <td>5923</td>\n",
       "      <td>7414</td>\n",
       "      <td>10031</td>\n",
       "      <td>24434</td>\n",
       "    </tr>\n",
       "    <tr>\n",
       "      <th>79030</th>\n",
       "      <td>15547</td>\n",
       "      <td>1936</td>\n",
       "      <td>4213</td>\n",
       "      <td>6967</td>\n",
       "      <td>10210</td>\n",
       "      <td>10961</td>\n",
       "      <td>13448</td>\n",
       "      <td>16893</td>\n",
       "      <td>24635</td>\n",
       "    </tr>\n",
       "    <tr>\n",
       "      <th>79031</th>\n",
       "      <td>3070</td>\n",
       "      <td>1390</td>\n",
       "      <td>2840</td>\n",
       "      <td>4549</td>\n",
       "      <td>7058</td>\n",
       "      <td>7821</td>\n",
       "      <td>10918</td>\n",
       "      <td>16181</td>\n",
       "      <td>24730</td>\n",
       "    </tr>\n",
       "    <tr>\n",
       "      <th>79032</th>\n",
       "      <td>31283</td>\n",
       "      <td>2398</td>\n",
       "      <td>5153</td>\n",
       "      <td>7821</td>\n",
       "      <td>10867</td>\n",
       "      <td>11378</td>\n",
       "      <td>13986</td>\n",
       "      <td>17380</td>\n",
       "      <td>24971</td>\n",
       "    </tr>\n",
       "    <tr>\n",
       "      <th>79033</th>\n",
       "      <td>25141</td>\n",
       "      <td>2114</td>\n",
       "      <td>4233</td>\n",
       "      <td>6470</td>\n",
       "      <td>9238</td>\n",
       "      <td>9768</td>\n",
       "      <td>14471</td>\n",
       "      <td>16979</td>\n",
       "      <td>25473</td>\n",
       "    </tr>\n",
       "    <tr>\n",
       "      <th>79034</th>\n",
       "      <td>25166</td>\n",
       "      <td>2804</td>\n",
       "      <td>5741</td>\n",
       "      <td>8615</td>\n",
       "      <td>11564</td>\n",
       "      <td>12211</td>\n",
       "      <td>15126</td>\n",
       "      <td>18188</td>\n",
       "      <td>25779</td>\n",
       "    </tr>\n",
       "    <tr>\n",
       "      <th>79035</th>\n",
       "      <td>25178</td>\n",
       "      <td>1923</td>\n",
       "      <td>3933</td>\n",
       "      <td>6737</td>\n",
       "      <td>10181</td>\n",
       "      <td>10826</td>\n",
       "      <td>13819</td>\n",
       "      <td>17401</td>\n",
       "      <td>26219</td>\n",
       "    </tr>\n",
       "    <tr>\n",
       "      <th>79036</th>\n",
       "      <td>25268</td>\n",
       "      <td>2434</td>\n",
       "      <td>5239</td>\n",
       "      <td>8237</td>\n",
       "      <td>11500</td>\n",
       "      <td>12150</td>\n",
       "      <td>14770</td>\n",
       "      <td>18429</td>\n",
       "      <td>26444</td>\n",
       "    </tr>\n",
       "    <tr>\n",
       "      <th>79037</th>\n",
       "      <td>25266</td>\n",
       "      <td>2376</td>\n",
       "      <td>4632</td>\n",
       "      <td>7210</td>\n",
       "      <td>10735</td>\n",
       "      <td>11296</td>\n",
       "      <td>16034</td>\n",
       "      <td>20233</td>\n",
       "      <td>28694</td>\n",
       "    </tr>\n",
       "  </tbody>\n",
       "</table>\n",
       "<p>79038 rows × 9 columns</p>\n",
       "</div>"
      ],
      "text/plain": [
       "         Bib  5K Duration  10K Duration  15K Duration  20K Duration  \\\n",
       "0          3          883          1783          2697          3629   \n",
       "1          4          883          1783          2698          3628   \n",
       "2          8          883          1783          2697          3629   \n",
       "3         11          883          1784          2701          3629   \n",
       "4         10          883          1784          2698          3628   \n",
       "5          9          884          1785          2699          3629   \n",
       "6         14          885          1785          2720          3643   \n",
       "7          1          884          1784          2699          3630   \n",
       "8          5          883          1783          2698          3628   \n",
       "9         16          914          1834          2765          3703   \n",
       "10        22          886          1790          2733          3680   \n",
       "11        19          914          1834          2766          3702   \n",
       "12        15          884          1784          2699          3629   \n",
       "13        20          884          1784          2714          3667   \n",
       "14        76          953          1937          2912          3889   \n",
       "15        28          968          1939          2921          3901   \n",
       "16        54          953          1937          2912          3889   \n",
       "17        29          957          1941          2923          3921   \n",
       "18        27          968          1937          2911          3884   \n",
       "19        33          968          1940          2922          3920   \n",
       "20        26          886          1791          2733          3687   \n",
       "21        32          968          1941          2922          3921   \n",
       "22        41          968          1942          2923          3921   \n",
       "23        35          968          1942          2922          3920   \n",
       "24        21          929          1865          2835          3827   \n",
       "25        24          952          1914          2897          3876   \n",
       "26        53          967          1941          2922          3910   \n",
       "27        78          968          1943          2955          4016   \n",
       "28       106         1012          2015          3040          4070   \n",
       "29        83          958          1940          2923          3966   \n",
       "...      ...          ...           ...           ...           ...   \n",
       "79008  24952         2182          4591          7573         10176   \n",
       "79009  25779         2054          4213          6352          8549   \n",
       "79010  24894         2107          4463          6867          9425   \n",
       "79011  23144         2010          4183          6548          9077   \n",
       "79012  25182         2153          4362          6672          9071   \n",
       "79013  26163         2015          4318          6696          9196   \n",
       "79014  26889         2039          4269          6657          9254   \n",
       "79015  26873         2041          4272          6660          9257   \n",
       "79016  23458         1775          3678          5723          8035   \n",
       "79017  25179         2407          5092          7743         10339   \n",
       "79018  25265         2177          4622          7281          9912   \n",
       "79019  28988         2178          4653          7296          9947   \n",
       "79020   6893         1728          3628          5801          8382   \n",
       "79021  10603         2355          5069          7985         10811   \n",
       "79022  27054         2801          5329          7688         10069   \n",
       "79023   6170         2309          5073          7846         10669   \n",
       "79024   4631         2303          4914          7414         10142   \n",
       "79025  25262         2147          4622          7558         10353   \n",
       "79026  15536         1934          4224          7184         10274   \n",
       "79027  14851         1532          3282          5447          7892   \n",
       "79028  25263         2551          5265          8283         11152   \n",
       "79029   2605         1255          2531          3931          5555   \n",
       "79030  15547         1936          4213          6967         10210   \n",
       "79031   3070         1390          2840          4549          7058   \n",
       "79032  31283         2398          5153          7821         10867   \n",
       "79033  25141         2114          4233          6470          9238   \n",
       "79034  25166         2804          5741          8615         11564   \n",
       "79035  25178         1923          3933          6737         10181   \n",
       "79036  25268         2434          5239          8237         11500   \n",
       "79037  25266         2376          4632          7210         10735   \n",
       "\n",
       "       Half Duration  25K Duration  30K Duration  Official Time Duration  \n",
       "0               3842          4567          5520                    7757  \n",
       "1               3841          4567          5519                    7788  \n",
       "2               3842          4567          5520                    7822  \n",
       "3               3842          4567          5520                    7847  \n",
       "4               3841          4567          5520                    7849  \n",
       "5               3842          4567          5520                    7852  \n",
       "6               3843          4565          5519                    7880  \n",
       "7               3842          4567          5519                    7962  \n",
       "8               3842          4567          5520                    8015  \n",
       "9               3907          4638          5591                    8032  \n",
       "10              3888          4628          5592                    8032  \n",
       "11              3907          4639          5610                    8057  \n",
       "12              3843          4567          5520                    8185  \n",
       "13              3875          4670          5743                    8282  \n",
       "14              4101          4877          5882                    8324  \n",
       "15              4118          4878          5881                    8352  \n",
       "16              4100          4877          5882                    8357  \n",
       "17              4140          4910          5926                    8404  \n",
       "18              4097          4855          5861                    8425  \n",
       "19              4138          4910          5920                    8435  \n",
       "20              3904          4685          5734                    8442  \n",
       "21              4139          4910          5926                    8470  \n",
       "22              4139          4911          5926                    8476  \n",
       "23              4139          4910          5925                    8518  \n",
       "24              4043          4821          5854                    8525  \n",
       "25              4089          4855          5861                    8550  \n",
       "26              4128          4903          5926                    8601  \n",
       "27              4246          5062          6121                    8677  \n",
       "28              4293          5098          6139                    8684  \n",
       "29              4197          5016          6096                    8689  \n",
       "...              ...           ...           ...                     ...  \n",
       "79008          10705         12805         15603                   22175  \n",
       "79009           8999         11083         14301                   22178  \n",
       "79010           9954         11986         14969                   22219  \n",
       "79011           9636         13033         15958                   22406  \n",
       "79012           9611         11612         15288                   22406  \n",
       "79013           9720         11812         14685                   22445  \n",
       "79014           9836         12159         15326                   22564  \n",
       "79015           9838         12161         15328                   22565  \n",
       "79016           8569         11481         14710                   22610  \n",
       "79017          10944         13038         15710                   22616  \n",
       "79018          10476         12712         15562                   22933  \n",
       "79019          10551         12725         15585                   22933  \n",
       "79020           9026         11538         14679                   23043  \n",
       "79021          11397         13722         16662                   23191  \n",
       "79022          10522         12497         15495                   23230  \n",
       "79023          11241         13727         16676                   23584  \n",
       "79024          10876         13439         16450                   23868  \n",
       "79025          11011         13412         16671                   23905  \n",
       "79026          10844         13608         17032                   24124  \n",
       "79027           8431         11635         15249                   24289  \n",
       "79028          11756         14150         17255                   24390  \n",
       "79029           5923          7414         10031                   24434  \n",
       "79030          10961         13448         16893                   24635  \n",
       "79031           7821         10918         16181                   24730  \n",
       "79032          11378         13986         17380                   24971  \n",
       "79033           9768         14471         16979                   25473  \n",
       "79034          12211         15126         18188                   25779  \n",
       "79035          10826         13819         17401                   26219  \n",
       "79036          12150         14770         18429                   26444  \n",
       "79037          11296         16034         20233                   28694  \n",
       "\n",
       "[79038 rows x 9 columns]"
      ]
     },
     "execution_count": 13,
     "metadata": {},
     "output_type": "execute_result"
    }
   ],
   "source": [
    "# Convert HH:MM:SS to total seconds\n",
    "\n",
    "def time_convert(x):\n",
    "    if x == \"-\":\n",
    "        return None\n",
    "    else:\n",
    "        times = x.split(':')\n",
    "        return (3600*int(times[0])+60*int(times[1]))+int(times[2])\n",
    "\n",
    "\n",
    "boston_join['5K Duration'] = boston_join['5K'].apply(time_convert)\n",
    "boston_join['10K Duration'] = boston_join['10K'].apply(time_convert)\n",
    "boston_join['15K Duration'] = boston_join['15K'].apply(time_convert)\n",
    "boston_join['20K Duration'] = boston_join['20K'].apply(time_convert)\n",
    "boston_join['Half Duration'] = boston_join['Half'].apply(time_convert)\n",
    "boston_join['25K Duration'] = boston_join['25K'].apply(time_convert)\n",
    "boston_join['30K Duration'] = boston_join['30K'].apply(time_convert)\n",
    "boston_join['35K Duration'] = boston_join['35K'].apply(time_convert)\n",
    "boston_join['40K Duration'] = boston_join['40K'].apply(time_convert)\n",
    "boston_join['Official Time Duration'] = boston_join['Official Time'].apply(time_convert)\n",
    "\n",
    "# Drop rows with null values\n",
    "\n",
    "boston_join.dropna(inplace=True,subset=['Bib','Age','5K Duration','10K Duration','15K Duration','20K Duration', 'Half Duration', '25K Duration','30K Duration','35K Duration','40K Duration','Official Time Duration', 'Temp (F)'])\n",
    "\n",
    "boston_clean=boston_join[['Bib','Age','5K Duration','10K Duration','15K Duration','20K Duration', 'Half Duration', '25K Duration','30K Duration','35K Duration','40K Duration','Official Time Duration', 'Temp (F)', 'F', 'M']]\n",
    "\n",
    "# boston_clean.head(10)\n",
    "\n",
    "boston_clean[['Bib','5K Duration','10K Duration','15K Duration','20K Duration','Half Duration', '25K Duration','30K Duration','Official Time Duration']]"
   ]
  },
  {
   "cell_type": "markdown",
   "metadata": {},
   "source": [
    "### Assign X (data) and y (target)\n",
    "Make sure the data is in the appropriate shape"
   ]
  },
  {
   "cell_type": "code",
   "execution_count": 14,
   "metadata": {},
   "outputs": [
    {
     "name": "stdout",
     "output_type": "stream",
     "text": [
      "(79038, 6) (79038, 1)\n"
     ]
    }
   ],
   "source": [
    "### set up data for modeling\n",
    "X_5K = boston_clean[['Bib','Age','Official Time Duration', 'F', 'M', 'Temp (F)']]\n",
    "y_5K = boston_clean['5K Duration'].values.reshape(-1, 1)\n",
    "print(X_5K.shape, y_5K.shape)"
   ]
  },
  {
   "cell_type": "markdown",
   "metadata": {},
   "source": [
    "### Split the data into training and testing"
   ]
  },
  {
   "cell_type": "code",
   "execution_count": 15,
   "metadata": {
    "nbgrader": {
     "grade": false,
     "grade_id": "cell-62193e4c8caef9c5",
     "locked": false,
     "schema_version": 1,
     "solution": true
    }
   },
   "outputs": [
    {
     "data": {
      "text/html": [
       "<div>\n",
       "<style scoped>\n",
       "    .dataframe tbody tr th:only-of-type {\n",
       "        vertical-align: middle;\n",
       "    }\n",
       "\n",
       "    .dataframe tbody tr th {\n",
       "        vertical-align: top;\n",
       "    }\n",
       "\n",
       "    .dataframe thead th {\n",
       "        text-align: right;\n",
       "    }\n",
       "</style>\n",
       "<table border=\"1\" class=\"dataframe\">\n",
       "  <thead>\n",
       "    <tr style=\"text-align: right;\">\n",
       "      <th></th>\n",
       "      <th>Bib</th>\n",
       "      <th>Age</th>\n",
       "      <th>Official Time Duration</th>\n",
       "      <th>F</th>\n",
       "      <th>M</th>\n",
       "      <th>Temp (F)</th>\n",
       "    </tr>\n",
       "  </thead>\n",
       "  <tbody>\n",
       "    <tr>\n",
       "      <th>66445</th>\n",
       "      <td>30824</td>\n",
       "      <td>49</td>\n",
       "      <td>14006</td>\n",
       "      <td>0</td>\n",
       "      <td>1</td>\n",
       "      <td>73</td>\n",
       "    </tr>\n",
       "    <tr>\n",
       "      <th>56920</th>\n",
       "      <td>12298</td>\n",
       "      <td>26</td>\n",
       "      <td>11856</td>\n",
       "      <td>1</td>\n",
       "      <td>0</td>\n",
       "      <td>73</td>\n",
       "    </tr>\n",
       "    <tr>\n",
       "      <th>36463</th>\n",
       "      <td>20672</td>\n",
       "      <td>52</td>\n",
       "      <td>13093</td>\n",
       "      <td>1</td>\n",
       "      <td>0</td>\n",
       "      <td>61</td>\n",
       "    </tr>\n",
       "    <tr>\n",
       "      <th>57842</th>\n",
       "      <td>7090</td>\n",
       "      <td>51</td>\n",
       "      <td>12121</td>\n",
       "      <td>0</td>\n",
       "      <td>1</td>\n",
       "      <td>73</td>\n",
       "    </tr>\n",
       "    <tr>\n",
       "      <th>30644</th>\n",
       "      <td>4640</td>\n",
       "      <td>40</td>\n",
       "      <td>11853</td>\n",
       "      <td>0</td>\n",
       "      <td>1</td>\n",
       "      <td>61</td>\n",
       "    </tr>\n",
       "  </tbody>\n",
       "</table>\n",
       "</div>"
      ],
      "text/plain": [
       "         Bib  Age  Official Time Duration  F  M  Temp (F)\n",
       "66445  30824   49                   14006  0  1        73\n",
       "56920  12298   26                   11856  1  0        73\n",
       "36463  20672   52                   13093  1  0        61\n",
       "57842   7090   51                   12121  0  1        73\n",
       "30644   4640   40                   11853  0  1        61"
      ]
     },
     "execution_count": 15,
     "metadata": {},
     "output_type": "execute_result"
    }
   ],
   "source": [
    "from sklearn.model_selection import train_test_split\n",
    "\n",
    "X_train_5K, X_test_5K, y_train_5K, y_test_5K = train_test_split(X_5K, y_5K, random_state=29)\n",
    "\n",
    "X_train_5K.head()"
   ]
  },
  {
   "cell_type": "markdown",
   "metadata": {},
   "source": [
    "### Create a `StandardScaler` model and fit it to the training data"
   ]
  },
  {
   "cell_type": "code",
   "execution_count": 16,
   "metadata": {
    "nbgrader": {
     "grade": false,
     "grade_id": "cell-a885840c1f62d274",
     "locked": false,
     "schema_version": 1,
     "solution": true
    }
   },
   "outputs": [],
   "source": [
    "# from sklearn.preprocessing import StandardScaler\n",
    "\n",
    "\n",
    "# X_scaler = StandardScaler().fit(X_train)\n",
    "# y_scaler = StandardScaler().fit(y_train)\n",
    "\n",
    "### Transform the training and testing data using the your `StandardScaler` models created above\n",
    "\n",
    "# X_train_scaled = X_scaler.transform(X_train)\n",
    "# X_test_scaled = X_scaler.transform(X_test)\n",
    "# y_train_scaled = y_scaler.transform(y_train)\n",
    "# y_test_scaled = y_scaler.transform(y_test)"
   ]
  },
  {
   "cell_type": "markdown",
   "metadata": {},
   "source": [
    "### Create a LinearRegression model and fit it to the training data"
   ]
  },
  {
   "cell_type": "code",
   "execution_count": 17,
   "metadata": {
    "nbgrader": {
     "grade": false,
     "grade_id": "cell-4df70e615bb36ac1",
     "locked": false,
     "schema_version": 1,
     "solution": true
    }
   },
   "outputs": [
    {
     "data": {
      "text/plain": [
       "LinearRegression(copy_X=True, fit_intercept=True, n_jobs=None,\n",
       "         normalize=False)"
      ]
     },
     "execution_count": 17,
     "metadata": {},
     "output_type": "execute_result"
    }
   ],
   "source": [
    "from sklearn.linear_model import LinearRegression\n",
    "model_5K = LinearRegression()\n",
    "model_5K.fit(X_train_5K, y_train_5K)"
   ]
  },
  {
   "cell_type": "markdown",
   "metadata": {},
   "source": [
    "### Make predictions using the test data"
   ]
  },
  {
   "cell_type": "code",
   "execution_count": 18,
   "metadata": {},
   "outputs": [],
   "source": [
    "predictions_5K = model_5K.predict(X_test_5K)"
   ]
  },
  {
   "cell_type": "code",
   "execution_count": 19,
   "metadata": {},
   "outputs": [
    {
     "name": "stdout",
     "output_type": "stream",
     "text": [
      "[[1594.27894476]\n",
      " [1656.65883747]\n",
      " [1859.40813675]\n",
      " ...\n",
      " [1440.48644662]\n",
      " [1678.51869071]\n",
      " [1547.44660759]]\n"
     ]
    }
   ],
   "source": [
    "# Predictions is an array of predicted values\n",
    "print(predictions_5K)"
   ]
  },
  {
   "cell_type": "code",
   "execution_count": 20,
   "metadata": {},
   "outputs": [
    {
     "ename": "NameError",
     "evalue": "name 'df2' is not defined",
     "output_type": "error",
     "traceback": [
      "\u001b[1;31m---------------------------------------------------------------------------\u001b[0m",
      "\u001b[1;31mNameError\u001b[0m                                 Traceback (most recent call last)",
      "\u001b[1;32m<ipython-input-20-95a899a90f00>\u001b[0m in \u001b[0;36m<module>\u001b[1;34m()\u001b[0m\n\u001b[1;32m----> 1\u001b[1;33m \u001b[0mdf2\u001b[0m\u001b[1;33m.\u001b[0m\u001b[0miloc\u001b[0m\u001b[1;33m[\u001b[0m\u001b[1;33m:\u001b[0m\u001b[1;33m]\u001b[0m\u001b[1;33m\u001b[0m\u001b[0m\n\u001b[0m",
      "\u001b[1;31mNameError\u001b[0m: name 'df2' is not defined"
     ]
    }
   ],
   "source": [
    "df2.iloc[:]"
   ]
  },
  {
   "cell_type": "code",
   "execution_count": 21,
   "metadata": {},
   "outputs": [
    {
     "data": {
      "text/plain": [
       "array([[2069.96957642]])"
      ]
     },
     "execution_count": 21,
     "metadata": {},
     "output_type": "execute_result"
    }
   ],
   "source": [
    "df2=pd.DataFrame({'Bib':[25000], 'Age':[42],'Official Time Duration':[22175], 'F':[0], 'M':[1],'Temp (F)':[65]})\n",
    "model_5K.predict(df2)"
   ]
  },
  {
   "cell_type": "markdown",
   "metadata": {},
   "source": [
    "### Plot the residual plot for the predictions on the scaled training and test data "
   ]
  },
  {
   "cell_type": "code",
   "execution_count": 22,
   "metadata": {
    "nbgrader": {
     "grade": false,
     "grade_id": "cell-ec6532d8dc790021",
     "locked": false,
     "schema_version": 1,
     "solution": true
    }
   },
   "outputs": [
    {
     "data": {
      "image/png": "[encoded data removed]",
      "text/plain": [
       "<Figure size 432x288 with 1 Axes>"
      ]
     },
     "metadata": {
      "needs_background": "light"
     },
     "output_type": "display_data"
    }
   ],
   "source": [
    "plt.scatter(model_5K.predict(X_train_5K), model_5K.predict(X_train_5K) - y_train_5K, c=\"blue\", label=\"Training Data\")\n",
    "plt.scatter(model_5K.predict(X_test_5K), model_5K.predict(X_test_5K) - y_test_5K, c=\"orange\", label=\"Testing Data\")\n",
    "plt.legend()\n",
    "plt.hlines(y=0, xmin=y_test_5K.min(), xmax=y_test_5K.max())\n",
    "plt.title(\"Residual Plot for 5K\")\n",
    "plt.savefig('model_5k.png')\n",
    "plt.show()\n"
   ]
  },
  {
   "cell_type": "markdown",
   "metadata": {},
   "source": [
    "### Calculate MSE and $R^2$ for the model"
   ]
  },
  {
   "cell_type": "code",
   "execution_count": 23,
   "metadata": {
    "nbgrader": {
     "grade": false,
     "grade_id": "cell-deb1d9b663c1883f",
     "locked": false,
     "schema_version": 1,
     "solution": true
    }
   },
   "outputs": [
    {
     "name": "stdout",
     "output_type": "stream",
     "text": [
      "MSE: 7302.074522731132, R2: 0.8684670365890306\n"
     ]
    }
   ],
   "source": [
    "# Used X_test_5K, y_test_5K, and model.predict(X_test_5K) to calculate MSE and R2\n",
    "\n",
    "from sklearn.metrics import mean_squared_error\n",
    "\n",
    "MSE = mean_squared_error(y_test_5K, predictions_5K)\n",
    "r2 = model_5K.score(X_test_5K, y_test_5K)\n",
    "\n",
    "\n",
    "print(f\"MSE: {MSE}, R2: {r2}\")\n",
    "\n",
    "# create lists of MSE and r2 values for each model\n",
    "boston_r2=[]\n",
    "boston_mse=[]\n",
    "boston_models = []\n",
    "\n",
    "boston_models.append('5K')\n",
    "boston_mse.append(MSE)\n",
    "boston_r2.append(r2)\n",
    "\n"
   ]
  },
  {
   "cell_type": "code",
   "execution_count": 24,
   "metadata": {},
   "outputs": [
    {
     "data": {
      "text/plain": [
       "['model_5K.pk1']"
      ]
     },
     "execution_count": 24,
     "metadata": {},
     "output_type": "execute_result"
    }
   ],
   "source": [
    "# Save the model as a pickle file\n",
    "\n",
    "import pickle\n",
    "from sklearn.externals import joblib\n",
    "\n",
    "joblib.dump(model_5K, 'model_5K.pkl')"
   ]
  },
  {
   "cell_type": "code",
   "execution_count": 25,
   "metadata": {},
   "outputs": [
    {
     "data": {
      "text/plain": [
       "array([[1594.27894476],\n",
       "       [1656.65883747],\n",
       "       [1859.40813675],\n",
       "       ...,\n",
       "       [1440.48644662],\n",
       "       [1678.51869071],\n",
       "       [1547.44660759]])"
      ]
     },
     "execution_count": 25,
     "metadata": {},
     "output_type": "execute_result"
    }
   ],
   "source": [
    "# To save the model without the training data, in order to make predictions without re-training the model\n",
    "# Source: https://www.geeksforgeeks.org/saving-a-machine-learning-model/\n",
    "\n",
    "import pickle\n",
    "from sklearn.externals import joblib \n",
    "  \n",
    "# Save the model as a pickle in a file \n",
    "joblib.dump(model_5K, 'model_5K.pkl') \n",
    "  \n",
    "# Load the model from the file \n",
    "model_5K_from_joblib = joblib.load('model_5K.pkl')  \n",
    "  \n",
    "# Use the loaded model to make predictions \n",
    "model_5K_from_joblib.predict(X_test_5K) "
   ]
  },
  {
   "cell_type": "markdown",
   "metadata": {},
   "source": [
    "### LASSO model\n",
    "\n",
    "performs feature selection by reducing small coefficient values to absolute zero"
   ]
  },
  {
   "cell_type": "code",
   "execution_count": 412,
   "metadata": {
    "nbgrader": {
     "grade": false,
     "grade_id": "cell-1dbfa38f409ceb7c",
     "locked": false,
     "schema_version": 1,
     "solution": true
    }
   },
   "outputs": [
    {
     "name": "stdout",
     "output_type": "stream",
     "text": [
      "MSE: 7302.074522731132, R2: 0.8684679246721407\n"
     ]
    }
   ],
   "source": [
    "# Note: Use an alpha of .01 when creating the model for this activity\n",
    "from sklearn.linear_model import Lasso\n",
    "\n",
    "lasso = Lasso(alpha=.01).fit(X_train_5K, y_train_5K)\n",
    "\n",
    "predictions = lasso.predict(X_test_5K)\n",
    "\n",
    "MSE = mean_squared_error(y_test_5K, predictions_5K)\n",
    "r2 = lasso.score(X_test_5K, y_test_5K)\n",
    "\n",
    "print(f\"MSE: {MSE}, R2: {r2}\")"
   ]
  },
  {
   "cell_type": "markdown",
   "metadata": {},
   "source": [
    "### Ridge model\n",
    "\n",
    "reduces multicollinearity\n",
    "create plot to show differences in coefficient values\n",
    "use code from here: https://www.analyticsvidhya.com/blog/2017/06/a-comprehensive-guide-for-linear-ridge-and-lasso-regression/"
   ]
  },
  {
   "cell_type": "code",
   "execution_count": 413,
   "metadata": {
    "nbgrader": {
     "grade": false,
     "grade_id": "cell-d7adb5db2fc7b236",
     "locked": false,
     "schema_version": 1,
     "solution": true
    }
   },
   "outputs": [
    {
     "name": "stdout",
     "output_type": "stream",
     "text": [
      "MSE: 7302.025220648334, R2: 0.8684670366340624\n"
     ]
    }
   ],
   "source": [
    "# Note: Use an alpha of .01 when creating the model for this activity\n",
    "from sklearn.linear_model import Ridge\n",
    "\n",
    "ridge_5K = Ridge(alpha=.01).fit(X_train_5K, y_train_5K)\n",
    "\n",
    "predictions_5K = ridge_5K.predict(X_test_5K)\n",
    "\n",
    "MSE = mean_squared_error(y_test_5K, predictions)\n",
    "r2 = ridge_5K.score(X_test_5K, y_test_5K)\n",
    "\n",
    "print(f\"MSE: {MSE}, R2: {r2}\")"
   ]
  },
  {
   "cell_type": "markdown",
   "metadata": {},
   "source": [
    "### ElasticNet model"
   ]
  },
  {
   "cell_type": "code",
   "execution_count": 414,
   "metadata": {
    "nbgrader": {
     "grade": false,
     "grade_id": "cell-5b0241abbdaa88e9",
     "locked": false,
     "schema_version": 1,
     "solution": true
    }
   },
   "outputs": [
    {
     "name": "stdout",
     "output_type": "stream",
     "text": [
      "MSE: 7302.025220648334, R2: 0.8684687609607744\n"
     ]
    }
   ],
   "source": [
    "# Note: Use an alpha of .01 when creating the model for this activity\n",
    "from sklearn.linear_model import ElasticNet\n",
    "\n",
    "elasticnet_5K = ElasticNet(alpha=.01).fit(X_train_5K, y_train_5K)\n",
    "\n",
    "predictions_5K = elasticnet_5K.predict(X_test_5K)\n",
    "\n",
    "MSE = mean_squared_error(y_test_5K, predictions)\n",
    "r2 = elasticnet_5K.score(X_test_5K, y_test_5K)\n",
    "\n",
    "\n",
    "print(f\"MSE: {MSE}, R2: {r2}\")"
   ]
  },
  {
   "cell_type": "code",
   "execution_count": 415,
   "metadata": {},
   "outputs": [
    {
     "name": "stdout",
     "output_type": "stream",
     "text": [
      "(79038, 5) (79038, 1)\n"
     ]
    },
    {
     "data": {
      "image/png": "[encoded data removed]",
      "text/plain": [
       "<Figure size 432x288 with 1 Axes>"
      ]
     },
     "metadata": {
      "needs_background": "light"
     },
     "output_type": "display_data"
    }
   ],
   "source": [
    "# Re-run the model without the Bib numbers as a feature to test if Bib numbers are helpful\n",
    "\n",
    "### set up data for modeling\n",
    "X_nobib = boston_clean[['Age','Official Time Duration', 'F', 'M', 'Temp (F)']]\n",
    "y_nobib = boston_clean['5K Duration'].values.reshape(-1, 1)\n",
    "print(X_nobib.shape, y_nobib.shape)\n",
    "\n",
    "# split the data into test and train subsets\n",
    "\n",
    "from sklearn.model_selection import train_test_split\n",
    "\n",
    "X_train_nobib, X_test_nobib, y_train_nobib, y_test_nobib = train_test_split(X_nobib, y_nobib, random_state=29)\n",
    "# X_train_nobib.head()\n",
    "\n",
    "# Create a linear regression model and fit it to the training data\n",
    "\n",
    "from sklearn.linear_model import LinearRegression\n",
    "model_nobib = LinearRegression()\n",
    "model_nobib.fit(X_train_nobib, y_train_nobib)\n",
    "\n",
    "# Make predictions\n",
    "\n",
    "predictions_nobib = model_nobib.predict(X_test_nobib)\n",
    "\n",
    "# Plot the residuals\n",
    "\n",
    "plt.scatter(model_nobib.predict(X_train_nobib), model_nobib.predict(X_train_nobib) - y_train_nobib, c=\"blue\", label=\"Training Data\")\n",
    "plt.scatter(model_nobib.predict(X_test_nobib), model_nobib.predict(X_test_nobib) - y_test_nobib, c=\"orange\", label=\"Testing Data\")\n",
    "plt.legend()\n",
    "plt.hlines(y=0, xmin=y_test_nobib.min(), xmax=y_test_nobib.max())\n",
    "plt.title(\"Residual Plot No Bib Model\")\n",
    "plt.savefig('model_nonbib.png')\n",
    "plt.show()"
   ]
  },
  {
   "cell_type": "code",
   "execution_count": 416,
   "metadata": {},
   "outputs": [
    {
     "name": "stdout",
     "output_type": "stream",
     "text": [
      "MSE: 7302.025220648334, R2: 0.805284760701195\n"
     ]
    }
   ],
   "source": [
    "# Used X_test, y_test, and model.predict(X_test) to calculate MSE and R2\n",
    "\n",
    "from sklearn.metrics import mean_squared_error\n",
    "\n",
    "MSE = mean_squared_error(y_test_nobib, predictions)\n",
    "r2 = model_nobib.score(X_test_nobib, y_test_nobib)\n",
    "\n",
    "\n",
    "print(f\"MSE: {MSE}, R2: {r2}\")\n",
    "\n",
    "# Model built without Bib numbers has a smaller R2 value, so Bib numbers was helping model predictions\n",
    "\n",
    "# create lists of MSE and r2 values for each model\n",
    "\n",
    "# boston_models.append('nobib')\n",
    "# boston_mse.append(MSE)\n",
    "# boston_r2.append(r2)\n"
   ]
  },
  {
   "cell_type": "code",
   "execution_count": 417,
   "metadata": {},
   "outputs": [
    {
     "name": "stdout",
     "output_type": "stream",
     "text": [
      "(79038, 7) (79038, 1)\n"
     ]
    },
    {
     "data": {
      "image/png": "[encoded data removed]",
      "text/plain": [
       "<Figure size 432x288 with 1 Axes>"
      ]
     },
     "metadata": {
      "needs_background": "light"
     },
     "output_type": "display_data"
    }
   ],
   "source": [
    "# Re-run the model with the Bib numbers as a feature and for the 5K split times to predict 10K time\n",
    "\n",
    "### set up data for modeling\n",
    "X_10K = boston_clean[['Bib', 'Age','Official Time Duration', 'F', 'M', 'Temp (F)', '5K Duration']]\n",
    "y_10K = boston_clean['10K Duration'].values.reshape(-1, 1)\n",
    "print(X_10K.shape, y_10K.shape)\n",
    "\n",
    "# split the data into test and train subsets\n",
    "\n",
    "from sklearn.model_selection import train_test_split\n",
    "\n",
    "X_train_10K, X_test_10K, y_train_10K, y_test_10K = train_test_split(X_10K, y_10K, random_state=29)\n",
    "# X_train_5K.head()\n",
    "\n",
    "# Create a linear regression model and fit it to the training data\n",
    "\n",
    "from sklearn.linear_model import LinearRegression\n",
    "model_10K = LinearRegression()\n",
    "model_10K.fit(X_train_10K, y_train_10K)\n",
    "\n",
    "# Make predictions\n",
    "\n",
    "predictions_10K = model_10K.predict(X_test_10K)\n",
    "\n",
    "# Plot the residuals\n",
    "\n",
    "plt.scatter(model_10K.predict(X_train_10K), model_10K.predict(X_train_10K) - y_train_10K, c=\"blue\", label=\"Training Data\")\n",
    "plt.scatter(model_10K.predict(X_test_10K), model_10K.predict(X_test_10K) - y_test_10K, c=\"orange\", label=\"Testing Data\")\n",
    "plt.legend()\n",
    "plt.hlines(y=0, xmin=y_test_10K.min(), xmax=y_test_10K.max())\n",
    "plt.title(\"Residual Plot 10K\")\n",
    "plt.savefig('model_10k.png')\n",
    "plt.show()\n"
   ]
  },
  {
   "cell_type": "code",
   "execution_count": 418,
   "metadata": {},
   "outputs": [
    {
     "data": {
      "text/plain": [
       "array([[3056.10076138],\n",
       "       [3592.10492139],\n",
       "       [3803.95565389],\n",
       "       ...,\n",
       "       [2853.06198174],\n",
       "       [3368.00961459],\n",
       "       [3134.12713497]])"
      ]
     },
     "execution_count": 418,
     "metadata": {},
     "output_type": "execute_result"
    }
   ],
   "source": [
    "predictions_10K"
   ]
  },
  {
   "cell_type": "code",
   "execution_count": 419,
   "metadata": {},
   "outputs": [
    {
     "name": "stdout",
     "output_type": "stream",
     "text": [
      "MSE: 2994.148451799666, R2: 0.9866864130443542\n"
     ]
    }
   ],
   "source": [
    "# Used X_test, y_test, and model.predict(X_test) to calculate MSE and R2\n",
    "\n",
    "from sklearn.metrics import mean_squared_error\n",
    "\n",
    "MSE = mean_squared_error(y_test_10K, predictions_10K)\n",
    "r2 = model_10K.score(X_test_10K, y_test_10K)\n",
    "\n",
    "\n",
    "print(f\"MSE: {MSE}, R2: {r2}\")\n",
    "\n",
    "# create lists of MSE and r2 values for each model\n",
    "\n",
    "boston_models.append('10K')\n",
    "boston_mse.append(MSE)\n",
    "boston_r2.append(r2)\n"
   ]
  },
  {
   "cell_type": "code",
   "execution_count": 420,
   "metadata": {},
   "outputs": [
    {
     "data": {
      "text/plain": [
       "['model_10K.pk1']"
      ]
     },
     "execution_count": 420,
     "metadata": {},
     "output_type": "execute_result"
    }
   ],
   "source": [
    "# Save the model as pickle file\n",
    "\n",
    "import pickle\n",
    "from sklearn.externals import joblib\n",
    "\n",
    "joblib.dump(model_10K, 'model_10K.pk1')"
   ]
  },
  {
   "cell_type": "code",
   "execution_count": 421,
   "metadata": {},
   "outputs": [
    {
     "name": "stdout",
     "output_type": "stream",
     "text": [
      "(79038, 8) (79038, 1)\n"
     ]
    },
    {
     "data": {
      "image/png": "[encoded data removed]",
      "text/plain": [
       "<Figure size 432x288 with 1 Axes>"
      ]
     },
     "metadata": {
      "needs_background": "light"
     },
     "output_type": "display_data"
    }
   ],
   "source": [
    "# Re-run the model with the Bib numbers as a feature and for the 5K and 10K split times to predict 15K time\n",
    "\n",
    "### set up data for modeling\n",
    "X_15K = boston_clean[['Bib', 'Age','Official Time Duration', 'F', 'M', 'Temp (F)', '5K Duration', '10K Duration']]\n",
    "y_15K = boston_clean['15K Duration'].values.reshape(-1, 1)\n",
    "print(X_15K.shape, y_15K.shape)\n",
    "\n",
    "# split the data into test and train subsets\n",
    "\n",
    "from sklearn.model_selection import train_test_split\n",
    "\n",
    "X_train_15K, X_test_15K, y_train_15K, y_test_15K = train_test_split(X_15K, y_15K, random_state=29)\n",
    "# X_train_15K.head()\n",
    "\n",
    "# Create a linear regression model and fit it to the training data\n",
    "\n",
    "from sklearn.linear_model import LinearRegression\n",
    "model_15K = LinearRegression()\n",
    "model_15K.fit(X_train_15K, y_train_15K)\n",
    "\n",
    "# Make predictions\n",
    "\n",
    "predictions_15K = model_15K.predict(X_test_15K)\n",
    "\n",
    "# Plot the residuals\n",
    "\n",
    "plt.scatter(model_15K.predict(X_train_15K), model_15K.predict(X_train_15K) - y_train_15K, c=\"blue\", label=\"Training Data\")\n",
    "plt.scatter(model_15K.predict(X_test_15K), model_15K.predict(X_test_15K) - y_test_15K, c=\"orange\", label=\"Testing Data\")\n",
    "plt.legend()\n",
    "plt.hlines(y=0, xmin=y_test_15K.min(), xmax=y_test_15K.max())\n",
    "plt.title(\"Residual Plot 15K\")\n",
    "plt.savefig('model_15k.png')\n",
    "plt.show()\n"
   ]
  },
  {
   "cell_type": "code",
   "execution_count": 422,
   "metadata": {},
   "outputs": [
    {
     "name": "stdout",
     "output_type": "stream",
     "text": [
      "MSE: 2828.968308130163, R2: 0.9946497344654838\n"
     ]
    }
   ],
   "source": [
    "# Used X_test, y_test, and model.predict(X_test) to calculate MSE and R2\n",
    "\n",
    "from sklearn.metrics import mean_squared_error\n",
    "\n",
    "MSE = mean_squared_error(y_test_15K, predictions_15K)\n",
    "r2 = model_15K.score(X_test_15K, y_test_15K)\n",
    "\n",
    "\n",
    "print(f\"MSE: {MSE}, R2: {r2}\")\n",
    "\n",
    "# create lists of MSE and r2 values for each model\n",
    "\n",
    "boston_models.append('15K')\n",
    "boston_mse.append(MSE)\n",
    "boston_r2.append(r2)\n"
   ]
  },
  {
   "cell_type": "code",
   "execution_count": 423,
   "metadata": {},
   "outputs": [
    {
     "data": {
      "text/plain": [
       "['model_15K.pk1']"
      ]
     },
     "execution_count": 423,
     "metadata": {},
     "output_type": "execute_result"
    }
   ],
   "source": [
    "# Save the model as pickle file\n",
    "\n",
    "import pickle\n",
    "from sklearn.externals import joblib\n",
    "\n",
    "joblib.dump(model_15K, 'model_15K.pk1')"
   ]
  },
  {
   "cell_type": "code",
   "execution_count": 424,
   "metadata": {},
   "outputs": [
    {
     "name": "stdout",
     "output_type": "stream",
     "text": [
      "(79038, 9) (79038, 1)\n"
     ]
    },
    {
     "data": {
      "image/png": "[encoded data removed]",
      "text/plain": [
       "<Figure size 432x288 with 1 Axes>"
      ]
     },
     "metadata": {
      "needs_background": "light"
     },
     "output_type": "display_data"
    }
   ],
   "source": [
    "# Re-run the model with the Bib numbers as a feature and for the 5K, 10K and 15K split times to predict 20K time\n",
    "\n",
    "### set up data for modeling\n",
    "X_20K = boston_clean[['Bib', 'Age','Official Time Duration', 'F', 'M', 'Temp (F)', '5K Duration', '10K Duration', '15K Duration']]\n",
    "y_20K = boston_clean['20K Duration'].values.reshape(-1, 1)\n",
    "print(X_20K.shape, y_20K.shape)\n",
    "\n",
    "# split the data into test and train subsets\n",
    "\n",
    "from sklearn.model_selection import train_test_split\n",
    "\n",
    "X_train_20K, X_test_20K, y_train_20K, y_test_20K = train_test_split(X_20K, y_20K, random_state=29)\n",
    "# X_train_20K.head()\n",
    "\n",
    "# Create a linear regression model and fit it to the training data\n",
    "\n",
    "from sklearn.linear_model import LinearRegression\n",
    "model_20K = LinearRegression()\n",
    "model_20K.fit(X_train_20K, y_train_20K)\n",
    "\n",
    "# Make predictions\n",
    "\n",
    "predictions_20K = model_20K.predict(X_test_20K)\n",
    "\n",
    "# Plot the residuals\n",
    "\n",
    "plt.scatter(model_20K.predict(X_train_20K), model_20K.predict(X_train_20K) - y_train_20K, c=\"blue\", label=\"Training Data\")\n",
    "plt.scatter(model_20K.predict(X_test_20K), model_20K.predict(X_test_20K) - y_test_20K, c=\"orange\", label=\"Testing Data\")\n",
    "plt.legend()\n",
    "plt.hlines(y=0, xmin=y_test_20K.min(), xmax=y_test_20K.max())\n",
    "plt.title(\"Residual Plot 20K\")\n",
    "plt.savefig('model_20k.png')\n",
    "plt.show()\n"
   ]
  },
  {
   "cell_type": "code",
   "execution_count": 425,
   "metadata": {},
   "outputs": [
    {
     "name": "stdout",
     "output_type": "stream",
     "text": [
      "MSE: 5065.672006739615, R2: 0.9949920389034161\n"
     ]
    }
   ],
   "source": [
    "# Used X_test, y_test, and model.predict(X_test) to calculate MSE and R2\n",
    "\n",
    "from sklearn.metrics import mean_squared_error\n",
    "\n",
    "MSE = mean_squared_error(y_test_20K, predictions_20K)\n",
    "r2 = model_20K.score(X_test_20K, y_test_20K)\n",
    "\n",
    "\n",
    "print(f\"MSE: {MSE}, R2: {r2}\")\n",
    "\n",
    "# create lists of MSE and r2 values for each model\n",
    "\n",
    "boston_models.append('20K')\n",
    "boston_mse.append(MSE)\n",
    "boston_r2.append(r2)\n"
   ]
  },
  {
   "cell_type": "code",
   "execution_count": 426,
   "metadata": {},
   "outputs": [
    {
     "data": {
      "text/plain": [
       "['model_20K.pk1']"
      ]
     },
     "execution_count": 426,
     "metadata": {},
     "output_type": "execute_result"
    }
   ],
   "source": [
    "# Save the model as pickle file\n",
    "\n",
    "import pickle\n",
    "from sklearn.externals import joblib\n",
    "\n",
    "joblib.dump(model_20K, 'model_20K.pk1')"
   ]
  },
  {
   "cell_type": "code",
   "execution_count": 427,
   "metadata": {},
   "outputs": [
    {
     "name": "stdout",
     "output_type": "stream",
     "text": [
      "(79038, 10) (79038, 1)\n"
     ]
    },
    {
     "data": {
      "image/png": "[encoded data removed]",
      "text/plain": [
       "<Figure size 432x288 with 1 Axes>"
      ]
     },
     "metadata": {
      "needs_background": "light"
     },
     "output_type": "display_data"
    }
   ],
   "source": [
    "# Re-run the model with the Bib numbers as a feature and for the 5K, 10K 15K and 20K split times to predict Half marathon time\n",
    "\n",
    "### set up data for modeling\n",
    "X_Half = boston_clean[['Bib', 'Age','Official Time Duration', 'F', 'M', 'Temp (F)', '5K Duration', '10K Duration', '15K Duration', '20K Duration']]\n",
    "y_Half = boston_clean['Half Duration'].values.reshape(-1, 1)\n",
    "print(X_Half.shape, y_Half.shape)\n",
    "\n",
    "# split the data into test and train subsets\n",
    "\n",
    "from sklearn.model_selection import train_test_split\n",
    "\n",
    "X_train_Half, X_test_Half, y_train_Half, y_test_Half = train_test_split(X_Half, y_Half, random_state=29)\n",
    "# X_train_Half.head()\n",
    "\n",
    "# Create a linear regression model and fit it to the training data\n",
    "\n",
    "from sklearn.linear_model import LinearRegression\n",
    "model_Half = LinearRegression()\n",
    "model_Half.fit(X_train_Half, y_train_Half)\n",
    "\n",
    "# Make predictions\n",
    "\n",
    "predictions_Half = model_Half.predict(X_test_Half)\n",
    "\n",
    "# Plot the residuals\n",
    "\n",
    "plt.scatter(model_Half.predict(X_train_Half), model_Half.predict(X_train_Half) - y_train_Half, c=\"blue\", label=\"Training Data\")\n",
    "plt.scatter(model_Half.predict(X_test_Half), model_Half.predict(X_test_Half) - y_test_Half, c=\"orange\", label=\"Testing Data\")\n",
    "plt.legend()\n",
    "plt.hlines(y=0, xmin=y_test_Half.min(), xmax=y_test_Half.max())\n",
    "plt.title(\"Residual Plot Half Marathon\")\n",
    "plt.savefig('model_Half.png')\n",
    "plt.show()\n"
   ]
  },
  {
   "cell_type": "code",
   "execution_count": 428,
   "metadata": {},
   "outputs": [
    {
     "name": "stdout",
     "output_type": "stream",
     "text": [
      "MSE: 320.63732522905667, R2: 0.9997163561866615\n"
     ]
    }
   ],
   "source": [
    "# Used X_test, y_test, and model.predict(X_test) to calculate MSE and R2\n",
    "\n",
    "from sklearn.metrics import mean_squared_error\n",
    "\n",
    "MSE = mean_squared_error(y_test_Half, predictions_Half)\n",
    "r2 = model_Half.score(X_test_Half, y_test_Half)\n",
    "\n",
    "\n",
    "print(f\"MSE: {MSE}, R2: {r2}\")\n",
    "\n",
    "# create lists of MSE and r2 values for each model\n",
    "\n",
    "boston_models.append('Half')\n",
    "boston_mse.append(MSE)\n",
    "boston_r2.append(r2)\n"
   ]
  },
  {
   "cell_type": "code",
   "execution_count": 429,
   "metadata": {},
   "outputs": [
    {
     "data": {
      "text/plain": [
       "['model_Half.pk1']"
      ]
     },
     "execution_count": 429,
     "metadata": {},
     "output_type": "execute_result"
    }
   ],
   "source": [
    "# Save the model as pickle file\n",
    "\n",
    "import pickle\n",
    "from sklearn.externals import joblib\n",
    "\n",
    "joblib.dump(model_Half, 'model_Half.pk1')"
   ]
  },
  {
   "cell_type": "code",
   "execution_count": 430,
   "metadata": {},
   "outputs": [
    {
     "name": "stdout",
     "output_type": "stream",
     "text": [
      "(79038, 11) (79038, 1)\n"
     ]
    },
    {
     "data": {
      "image/png": "[encoded data removed]",
      "text/plain": [
       "<Figure size 432x288 with 1 Axes>"
      ]
     },
     "metadata": {
      "needs_background": "light"
     },
     "output_type": "display_data"
    }
   ],
   "source": [
    "# Re-run the model with the Bib numbers as a feature and for the 5K, 10K 15K 20K and Half split times to predict 25K time\n",
    "\n",
    "### set up data for modeling\n",
    "X_25K = boston_clean[['Bib', 'Age','Official Time Duration', 'F', 'M', 'Temp (F)', '5K Duration', '10K Duration', '15K Duration', '20K Duration', 'Half Duration']]\n",
    "y_25K = boston_clean['25K Duration'].values.reshape(-1, 1)\n",
    "print(X_25K.shape, y_25K.shape)\n",
    "\n",
    "# split the data into test and train subsets\n",
    "\n",
    "from sklearn.model_selection import train_test_split\n",
    "\n",
    "X_train_25K, X_test_25K, y_train_25K, y_test_25K = train_test_split(X_25K, y_25K, random_state=29)\n",
    "# X_train_25K.head()\n",
    "\n",
    "# Create a linear regression model and fit it to the training data\n",
    "\n",
    "from sklearn.linear_model import LinearRegression\n",
    "model_25K = LinearRegression()\n",
    "model_25K.fit(X_train_25K, y_train_25K)\n",
    "\n",
    "# Make predictions\n",
    "\n",
    "predictions_25K = model_25K.predict(X_test_25K)\n",
    "\n",
    "# Plot the residuals\n",
    "\n",
    "plt.scatter(model_25K.predict(X_train_25K), model_25K.predict(X_train_25K) - y_train_25K, c=\"blue\", label=\"Training Data\")\n",
    "plt.scatter(model_25K.predict(X_test_25K), model_25K.predict(X_test_25K) - y_test_25K, c=\"orange\", label=\"Testing Data\")\n",
    "plt.legend()\n",
    "plt.hlines(y=0, xmin=y_test_25K.min(), xmax=y_test_25K.max())\n",
    "plt.title(\"Residual Plot 25K\")\n",
    "plt.savefig('model_25k.png')\n",
    "plt.show()\n"
   ]
  },
  {
   "cell_type": "code",
   "execution_count": 431,
   "metadata": {},
   "outputs": [
    {
     "name": "stdout",
     "output_type": "stream",
     "text": [
      "MSE: 6579.135267226174, R2: 0.9961762820043337\n"
     ]
    }
   ],
   "source": [
    "# Used X_test, y_test, and model.predict(X_test) to calculate MSE and R2\n",
    "\n",
    "from sklearn.metrics import mean_squared_error\n",
    "\n",
    "MSE = mean_squared_error(y_test_25K, predictions_25K)\n",
    "r2 = model_25K.score(X_test_25K, y_test_25K)\n",
    "\n",
    "\n",
    "print(f\"MSE: {MSE}, R2: {r2}\")\n",
    "\n",
    "# create lists of MSE and r2 values for each model\n",
    "\n",
    "boston_models.append('25K')\n",
    "boston_mse.append(MSE)\n",
    "boston_r2.append(r2)\n"
   ]
  },
  {
   "cell_type": "code",
   "execution_count": 432,
   "metadata": {},
   "outputs": [
    {
     "data": {
      "text/plain": [
       "['model_25K.pk1']"
      ]
     },
     "execution_count": 432,
     "metadata": {},
     "output_type": "execute_result"
    }
   ],
   "source": [
    "# Save the model as pickle file\n",
    "\n",
    "import pickle\n",
    "from sklearn.externals import joblib\n",
    "\n",
    "joblib.dump(model_25K, 'model_25K.pk1')"
   ]
  },
  {
   "cell_type": "code",
   "execution_count": 433,
   "metadata": {},
   "outputs": [
    {
     "name": "stdout",
     "output_type": "stream",
     "text": [
      "(79038, 12) (79038, 1)\n"
     ]
    },
    {
     "data": {
      "image/png": "[encoded data removed]",
      "text/plain": [
       "<Figure size 432x288 with 1 Axes>"
      ]
     },
     "metadata": {
      "needs_background": "light"
     },
     "output_type": "display_data"
    }
   ],
   "source": [
    "# Re-run the model with the Bib numbers as a feature and for the 5K, 10K 15K 20K 25K and half split times to predict 30K time\n",
    "\n",
    "### set up data for modeling\n",
    "X_30K = boston_clean[['Bib', 'Age','Official Time Duration', 'F', 'M', 'Temp (F)', '5K Duration', '10K Duration', '15K Duration', '20K Duration', '25K Duration', 'Half Duration']]\n",
    "y_30K = boston_clean['30K Duration'].values.reshape(-1, 1)\n",
    "print(X_30K.shape, y_30K.shape)\n",
    "\n",
    "# split the data into test and train subsets\n",
    "\n",
    "from sklearn.model_selection import train_test_split\n",
    "\n",
    "X_train_30K, X_test_30K, y_train_30K, y_test_30K = train_test_split(X_30K, y_30K, random_state=29)\n",
    "# X_train_30K.head()\n",
    "\n",
    "# Create a linear regression model and fit it to the training data\n",
    "\n",
    "from sklearn.linear_model import LinearRegression\n",
    "model_30K = LinearRegression()\n",
    "model_30K.fit(X_train_30K, y_train_30K)\n",
    "\n",
    "# Make predictions\n",
    "\n",
    "predictions_30K = model_30K.predict(X_test_30K)\n",
    "\n",
    "# Plot the residuals\n",
    "\n",
    "plt.scatter(model_30K.predict(X_train_30K), model_30K.predict(X_train_30K) - y_train_30K, c=\"blue\", label=\"Training Data\")\n",
    "plt.scatter(model_30K.predict(X_test_30K), model_30K.predict(X_test_30K) - y_test_30K, c=\"orange\", label=\"Testing Data\")\n",
    "plt.legend()\n",
    "plt.hlines(y=0, xmin=y_test_30K.min(), xmax=y_test_30K.max())\n",
    "plt.title(\"Residual Plot 30K\")\n",
    "plt.savefig('model_30k.png')\n",
    "plt.show()\n"
   ]
  },
  {
   "cell_type": "code",
   "execution_count": 434,
   "metadata": {},
   "outputs": [
    {
     "name": "stdout",
     "output_type": "stream",
     "text": [
      "MSE: 10553.949084271524, R2: 0.9961142998468477\n"
     ]
    }
   ],
   "source": [
    "# Used X_test, y_test, and model.predict(X_test) to calculate MSE and R2\n",
    "\n",
    "from sklearn.metrics import mean_squared_error\n",
    "\n",
    "MSE = mean_squared_error(y_test_30K, predictions_30K)\n",
    "r2 = model_30K.score(X_test_30K, y_test_30K)\n",
    "\n",
    "\n",
    "print(f\"MSE: {MSE}, R2: {r2}\")\n",
    "\n",
    "# create lists of MSE and r2 values for each model\n",
    "\n",
    "boston_models.append('30K')\n",
    "boston_mse.append(MSE)\n",
    "boston_r2.append(r2)\n"
   ]
  },
  {
   "cell_type": "code",
   "execution_count": 435,
   "metadata": {},
   "outputs": [
    {
     "data": {
      "text/plain": [
       "['model_30K.pk1']"
      ]
     },
     "execution_count": 435,
     "metadata": {},
     "output_type": "execute_result"
    }
   ],
   "source": [
    "# Save the model as pickle file\n",
    "\n",
    "import pickle\n",
    "from sklearn.externals import joblib\n",
    "\n",
    "joblib.dump(model_30K, 'model_30K.pk1')"
   ]
  },
  {
   "cell_type": "code",
   "execution_count": 436,
   "metadata": {},
   "outputs": [
    {
     "name": "stdout",
     "output_type": "stream",
     "text": [
      "(79038, 12) (79038, 1)\n"
     ]
    },
    {
     "data": {
      "image/png": "[encoded data removed]",
      "text/plain": [
       "<Figure size 432x288 with 1 Axes>"
      ]
     },
     "metadata": {
      "needs_background": "light"
     },
     "output_type": "display_data"
    }
   ],
   "source": [
    "# Re-run the model with the Bib numbers as a feature and for the 5K, 10K 15K 20K 25K half and 30K split times to predict 35K time\n",
    "\n",
    "### set up data for modeling\n",
    "X_35K = boston_clean[['Bib', 'Age','Official Time Duration', 'F', 'M', 'Temp (F)', '5K Duration', '10K Duration', '15K Duration', '20K Duration', '25K Duration', 'Half Duration', '30K Duration']]\n",
    "y_35K = boston_clean['35K Duration'].values.reshape(-1, 1)\n",
    "print(X_30K.shape, y_30K.shape)\n",
    "\n",
    "# split the data into test and train subsets\n",
    "\n",
    "from sklearn.model_selection import train_test_split\n",
    "\n",
    "X_train_35K, X_test_35K, y_train_35K, y_test_35K = train_test_split(X_35K, y_35K, random_state=29)\n",
    "# X_train_30K.head()\n",
    "\n",
    "# Create a linear regression model and fit it to the training data\n",
    "\n",
    "from sklearn.linear_model import LinearRegression\n",
    "model_35K = LinearRegression()\n",
    "model_35K.fit(X_train_35K, y_train_35K)\n",
    "\n",
    "# Make predictions\n",
    "\n",
    "predictions_35K = model_35K.predict(X_test_35K)\n",
    "\n",
    "# Plot the residuals\n",
    "\n",
    "plt.scatter(model_35K.predict(X_train_35K), model_35K.predict(X_train_35K) - y_train_35K, c=\"blue\", label=\"Training Data\")\n",
    "plt.scatter(model_35K.predict(X_test_35K), model_35K.predict(X_test_35K) - y_test_35K, c=\"orange\", label=\"Testing Data\")\n",
    "plt.legend()\n",
    "plt.hlines(y=0, xmin=y_test_35K.min(), xmax=y_test_35K.max())\n",
    "plt.title(\"Residual Plot 35K\")\n",
    "plt.savefig('model_35k.png')\n",
    "plt.show()\n"
   ]
  },
  {
   "cell_type": "code",
   "execution_count": 437,
   "metadata": {},
   "outputs": [
    {
     "name": "stdout",
     "output_type": "stream",
     "text": [
      "MSE: 11479.539783322489, R2: 0.9971232931237148\n"
     ]
    }
   ],
   "source": [
    "# Used X_test, y_test, and model.predict(X_test) to calculate MSE and R2\n",
    "\n",
    "from sklearn.metrics import mean_squared_error\n",
    "\n",
    "MSE = mean_squared_error(y_test_35K, predictions_35K)\n",
    "r2 = model_35K.score(X_test_35K, y_test_35K)\n",
    "\n",
    "\n",
    "print(f\"MSE: {MSE}, R2: {r2}\")\n",
    "\n",
    "# create lists of MSE and r2 values for each model\n",
    "\n",
    "boston_models.append('35K')\n",
    "boston_mse.append(MSE)\n",
    "boston_r2.append(r2)\n"
   ]
  },
  {
   "cell_type": "code",
   "execution_count": 438,
   "metadata": {},
   "outputs": [
    {
     "data": {
      "text/plain": [
       "['model_35K.pk1']"
      ]
     },
     "execution_count": 438,
     "metadata": {},
     "output_type": "execute_result"
    }
   ],
   "source": [
    "# Save the model as pickle file\n",
    "\n",
    "import pickle\n",
    "from sklearn.externals import joblib\n",
    "\n",
    "joblib.dump(model_35K, 'model_35K.pk1')"
   ]
  },
  {
   "cell_type": "code",
   "execution_count": 439,
   "metadata": {},
   "outputs": [
    {
     "name": "stdout",
     "output_type": "stream",
     "text": [
      "(79038, 7) (79038, 1)\n"
     ]
    },
    {
     "data": {
      "image/png": "[encoded data removed]",
      "text/plain": [
       "<Figure size 432x288 with 1 Axes>"
      ]
     },
     "metadata": {
      "needs_background": "light"
     },
     "output_type": "display_data"
    }
   ],
   "source": [
    "# Re-run the model with the Bib numbers as a feature and for the 5K, 10K 15K 20K 25K, half and 35K split times to predict 40K time\n",
    "\n",
    "### set up data for modeling\n",
    "# X_40K = boston_clean[['Bib', 'Age','Official Time Duration', 'F', 'M', 'Temp (F)', '5K Duration', '10K Duration', '15K Duration', '20K Duration', '25K Duration', 'Half Duration', '35K Duration']]\n",
    "X_40K = boston_clean[['Bib', 'Age','Official Time Duration', 'F', 'M', 'Temp (F)','35K Duration']]\n",
    "y_40K = boston_clean['40K Duration'].values.reshape(-1, 1)\n",
    "print(X_40K.shape, y_40K.shape)\n",
    "\n",
    "# split the data into test and train subsets\n",
    "\n",
    "from sklearn.model_selection import train_test_split\n",
    "\n",
    "X_train_40K, X_test_40K, y_train_40K, y_test_40K = train_test_split(X_40K, y_40K, random_state=29)\n",
    "# X_train_40K.head()\n",
    "\n",
    "# Create a linear regression model and fit it to the training data\n",
    "\n",
    "from sklearn.linear_model import LinearRegression\n",
    "model_40K = LinearRegression()\n",
    "model_40K.fit(X_train_40K, y_train_40K)\n",
    "\n",
    "# Make predictions\n",
    "\n",
    "predictions_40K = model_40K.predict(X_test_40K)\n",
    "\n",
    "# Plot the residuals\n",
    "\n",
    "plt.scatter(model_40K.predict(X_train_40K), model_40K.predict(X_train_40K) - y_train_40K, c=\"blue\", label=\"Training Data\")\n",
    "plt.scatter(model_40K.predict(X_test_40K), model_40K.predict(X_test_40K) - y_test_40K, c=\"orange\", label=\"Testing Data\")\n",
    "plt.legend()\n",
    "plt.hlines(y=0, xmin=y_test_40K.min(), xmax=y_test_40K.max())\n",
    "plt.title(\"Residual Plot 40K\")\n",
    "plt.savefig('model_40k.png')\n",
    "plt.show()\n"
   ]
  },
  {
   "cell_type": "code",
   "execution_count": 440,
   "metadata": {},
   "outputs": [
    {
     "name": "stdout",
     "output_type": "stream",
     "text": [
      "MSE: 4286.497591554647, R2: 0.9992083603232802\n"
     ]
    }
   ],
   "source": [
    "# Used X_test, y_test, and model.predict(X_test) to calculate MSE and R2\n",
    "\n",
    "from sklearn.metrics import mean_squared_error\n",
    "\n",
    "MSE = mean_squared_error(y_test_40K, predictions_40K)\n",
    "r2 = model_40K.score(X_test_40K, y_test_40K)\n",
    "\n",
    "\n",
    "print(f\"MSE: {MSE}, R2: {r2}\")\n",
    "\n",
    "# create lists of MSE and r2 values for each model\n",
    "\n",
    "boston_models.append('40K')\n",
    "boston_mse.append(MSE)\n",
    "boston_r2.append(r2)"
   ]
  },
  {
   "cell_type": "code",
   "execution_count": 441,
   "metadata": {},
   "outputs": [
    {
     "data": {
      "text/plain": [
       "['model_40K.pk1']"
      ]
     },
     "execution_count": 441,
     "metadata": {},
     "output_type": "execute_result"
    }
   ],
   "source": [
    "# Save the model as pickle file\n",
    "\n",
    "import pickle\n",
    "from sklearn.externals import joblib\n",
    "\n",
    "joblib.dump(model_40K, 'model_40K.pk1')"
   ]
  },
  {
   "cell_type": "code",
   "execution_count": 442,
   "metadata": {},
   "outputs": [
    {
     "name": "stdout",
     "output_type": "stream",
     "text": [
      "(79038, 13) (79038, 1)\n"
     ]
    },
    {
     "data": {
      "image/png": "[encoded data removed]",
      "text/plain": [
       "<Figure size 432x288 with 1 Axes>"
      ]
     },
     "metadata": {
      "needs_background": "light"
     },
     "output_type": "display_data"
    }
   ],
   "source": [
    "# Re-run the model with the Bib numbers as a feature and for the 5K, 10K 15K 20K 25K, half, 35K and 40K split times to predict Final time\n",
    "\n",
    "### set up data for modeling\n",
    "X_Final = boston_clean[['Bib', 'Age', 'F', 'M', 'Temp (F)', '5K Duration', '10K Duration', '15K Duration', '20K Duration', '25K Duration', 'Half Duration', '35K Duration', '40K Duration']]\n",
    "y_Final = boston_clean['Official Time Duration'].values.reshape(-1, 1)\n",
    "print(X_Final.shape, y_Final.shape)\n",
    "\n",
    "# split the data into test and train subsets\n",
    "\n",
    "from sklearn.model_selection import train_test_split\n",
    "\n",
    "X_train_Final, X_test_Final, y_train_Final, y_test_Final = train_test_split(X_Final, y_Final, random_state=29)\n",
    "# X_train_Final.head()\n",
    "\n",
    "# Create a linear regression model and fit it to the training data\n",
    "\n",
    "from sklearn.linear_model import LinearRegression\n",
    "model_Final = LinearRegression()\n",
    "model_Final.fit(X_train_Final, y_train_Final)\n",
    "\n",
    "# Make predictions\n",
    "\n",
    "predictions_Final = model_Final.predict(X_test_Final)\n",
    "\n",
    "# Plot the residuals\n",
    "\n",
    "plt.scatter(model_Final.predict(X_train_Final), model_Final.predict(X_train_Final) - y_train_Final, c=\"blue\", label=\"Training Data\")\n",
    "plt.scatter(model_Final.predict(X_test_Final), model_Final.predict(X_test_Final) - y_test_Final, c=\"orange\", label=\"Testing Data\")\n",
    "plt.legend()\n",
    "plt.hlines(y=0, xmin=y_test_Final.min(), xmax=y_test_Final.max())\n",
    "plt.title(\"Residual Plot Final\")\n",
    "plt.savefig('model_Final.png')\n",
    "plt.show()\n"
   ]
  },
  {
   "cell_type": "code",
   "execution_count": 443,
   "metadata": {},
   "outputs": [
    {
     "name": "stdout",
     "output_type": "stream",
     "text": [
      "MSE: 7505.016614294072, R2: 0.9987574348236969\n"
     ]
    }
   ],
   "source": [
    "# Used X_test, y_test, and model.predict(X_test) to calculate MSE and R2\n",
    "\n",
    "from sklearn.metrics import mean_squared_error\n",
    "\n",
    "MSE = mean_squared_error(y_test_Final, predictions_Final)\n",
    "r2 = model_Final.score(X_test_Final, y_test_Final)\n",
    "\n",
    "\n",
    "print(f\"MSE: {MSE}, R2: {r2}\")\n",
    "\n",
    "# create lists of MSE and r2 values for each model\n",
    "\n",
    "boston_models.append('Final')\n",
    "boston_mse.append(MSE)\n",
    "boston_r2.append(r2)\n"
   ]
  },
  {
   "cell_type": "code",
   "execution_count": 444,
   "metadata": {},
   "outputs": [
    {
     "data": {
      "text/plain": [
       "['model_Final.pk1']"
      ]
     },
     "execution_count": 444,
     "metadata": {},
     "output_type": "execute_result"
    }
   ],
   "source": [
    "# Save the model as pickle file\n",
    "\n",
    "import pickle\n",
    "from sklearn.externals import joblib\n",
    "\n",
    "joblib.dump(model_Final, 'model_Final.pk1')"
   ]
  },
  {
   "cell_type": "code",
   "execution_count": 445,
   "metadata": {},
   "outputs": [
    {
     "data": {
      "text/plain": [
       "Index(['Bib', 'Age', '5K Duration', '10K Duration', '15K Duration',\n",
       "       '20K Duration', 'Half Duration', '25K Duration', '30K Duration',\n",
       "       '35K Duration', '40K Duration', 'Official Time Duration', 'Temp (F)',\n",
       "       'F', 'M'],\n",
       "      dtype='object')"
      ]
     },
     "execution_count": 445,
     "metadata": {},
     "output_type": "execute_result"
    }
   ],
   "source": [
    "boston_clean.columns"
   ]
  },
  {
   "cell_type": "code",
   "execution_count": 446,
   "metadata": {},
   "outputs": [
    {
     "data": {
      "text/plain": [
       "[7302.074522731132,\n",
       " 2994.148451799666,\n",
       " 2828.968308130163,\n",
       " 5065.672006739615,\n",
       " 320.63732522905667,\n",
       " 6579.135267226174,\n",
       " 10553.949084271524,\n",
       " 11479.539783322489,\n",
       " 4286.497591554647,\n",
       " 7505.016614294072]"
      ]
     },
     "execution_count": 446,
     "metadata": {},
     "output_type": "execute_result"
    }
   ],
   "source": [
    "boston_mse"
   ]
  },
  {
   "cell_type": "code",
   "execution_count": 447,
   "metadata": {},
   "outputs": [
    {
     "data": {
      "text/plain": [
       "[0.8684670365890306,\n",
       " 0.9866864130443542,\n",
       " 0.9946497344654838,\n",
       " 0.9949920389034161,\n",
       " 0.9997163561866615,\n",
       " 0.9961762820043337,\n",
       " 0.9961142998468477,\n",
       " 0.9971232931237148,\n",
       " 0.9992083603232802,\n",
       " 0.9987574348236969]"
      ]
     },
     "execution_count": 447,
     "metadata": {},
     "output_type": "execute_result"
    }
   ],
   "source": [
    "boston_r2"
   ]
  },
  {
   "cell_type": "code",
   "execution_count": 448,
   "metadata": {
    "nbgrader": {
     "grade": false,
     "grade_id": "cell-ec6532d8dc790021",
     "locked": false,
     "schema_version": 1,
     "solution": true
    }
   },
   "outputs": [
    {
     "data": {
      "text/html": [
       "<div>\n",
       "<style scoped>\n",
       "    .dataframe tbody tr th:only-of-type {\n",
       "        vertical-align: middle;\n",
       "    }\n",
       "\n",
       "    .dataframe tbody tr th {\n",
       "        vertical-align: top;\n",
       "    }\n",
       "\n",
       "    .dataframe thead th {\n",
       "        text-align: right;\n",
       "    }\n",
       "</style>\n",
       "<table border=\"1\" class=\"dataframe\">\n",
       "  <thead>\n",
       "    <tr style=\"text-align: right;\">\n",
       "      <th></th>\n",
       "      <th>boston_models</th>\n",
       "      <th>boston_mse</th>\n",
       "      <th>boston_r2</th>\n",
       "    </tr>\n",
       "  </thead>\n",
       "  <tbody>\n",
       "    <tr>\n",
       "      <th>0</th>\n",
       "      <td>5K</td>\n",
       "      <td>7302.074523</td>\n",
       "      <td>0.868467</td>\n",
       "    </tr>\n",
       "    <tr>\n",
       "      <th>1</th>\n",
       "      <td>10K</td>\n",
       "      <td>2994.148452</td>\n",
       "      <td>0.986686</td>\n",
       "    </tr>\n",
       "    <tr>\n",
       "      <th>2</th>\n",
       "      <td>15K</td>\n",
       "      <td>2828.968308</td>\n",
       "      <td>0.994650</td>\n",
       "    </tr>\n",
       "    <tr>\n",
       "      <th>3</th>\n",
       "      <td>20K</td>\n",
       "      <td>5065.672007</td>\n",
       "      <td>0.994992</td>\n",
       "    </tr>\n",
       "    <tr>\n",
       "      <th>4</th>\n",
       "      <td>Half</td>\n",
       "      <td>320.637325</td>\n",
       "      <td>0.999716</td>\n",
       "    </tr>\n",
       "    <tr>\n",
       "      <th>5</th>\n",
       "      <td>25K</td>\n",
       "      <td>6579.135267</td>\n",
       "      <td>0.996176</td>\n",
       "    </tr>\n",
       "    <tr>\n",
       "      <th>6</th>\n",
       "      <td>30K</td>\n",
       "      <td>10553.949084</td>\n",
       "      <td>0.996114</td>\n",
       "    </tr>\n",
       "    <tr>\n",
       "      <th>7</th>\n",
       "      <td>35K</td>\n",
       "      <td>11479.539783</td>\n",
       "      <td>0.997123</td>\n",
       "    </tr>\n",
       "    <tr>\n",
       "      <th>8</th>\n",
       "      <td>40K</td>\n",
       "      <td>4286.497592</td>\n",
       "      <td>0.999208</td>\n",
       "    </tr>\n",
       "    <tr>\n",
       "      <th>9</th>\n",
       "      <td>Final</td>\n",
       "      <td>7505.016614</td>\n",
       "      <td>0.998757</td>\n",
       "    </tr>\n",
       "  </tbody>\n",
       "</table>\n",
       "</div>"
      ],
      "text/plain": [
       "  boston_models    boston_mse  boston_r2\n",
       "0            5K   7302.074523   0.868467\n",
       "1           10K   2994.148452   0.986686\n",
       "2           15K   2828.968308   0.994650\n",
       "3           20K   5065.672007   0.994992\n",
       "4          Half    320.637325   0.999716\n",
       "5           25K   6579.135267   0.996176\n",
       "6           30K  10553.949084   0.996114\n",
       "7           35K  11479.539783   0.997123\n",
       "8           40K   4286.497592   0.999208\n",
       "9         Final   7505.016614   0.998757"
      ]
     },
     "execution_count": 448,
     "metadata": {},
     "output_type": "execute_result"
    }
   ],
   "source": [
    "boston_residuals_df=pd.DataFrame({\n",
    "    'boston_models':boston_models,\n",
    "    'boston_mse':boston_mse,\n",
    "    'boston_r2':boston_r2\n",
    "})\n",
    "boston_residuals_df"
   ]
  },
  {
   "cell_type": "code",
   "execution_count": 449,
   "metadata": {},
   "outputs": [
    {
     "data": {
      "image/png": "[encoded data removed]",
      "text/plain": [
       "<Figure size 432x288 with 1 Axes>"
      ]
     },
     "metadata": {
      "needs_background": "light"
     },
     "output_type": "display_data"
    },
    {
     "data": {
      "text/plain": [
       "<Figure size 432x288 with 0 Axes>"
      ]
     },
     "metadata": {},
     "output_type": "display_data"
    }
   ],
   "source": [
    "# Plot the residuals of each model\n",
    "\n",
    "plt.scatter(boston_residuals_df['boston_models'], boston_mse, c=\"red\", label=\"MSE\")\n",
    "\n",
    "# plt.scatter(model_Final.predict(X_test_Final), model_Final.predict(X_test_Final) - y_test_Final, c=\"orange\", label=\"Testing Data\")\n",
    "# plt.legend()\n",
    "# plt.hlines(y=0, xmin=y_test_Final.min(), xmax=y_test_Final.max())\n",
    "plt.title(\"Mean Square Error for each model\")\n",
    "plt.savefig('MSE.png')\n",
    "plt.show()\n"
   ]
  },
  {
   "cell_type": "code",
   "execution_count": 450,
   "metadata": {},
   "outputs": [
    {
     "data": {
      "image/png": "[encoded data removed]",
      "text/plain": [
       "<Figure size 432x288 with 1 Axes>"
      ]
     },
     "metadata": {
      "needs_background": "light"
     },
     "output_type": "display_data"
    },
    {
     "data": {
      "text/plain": [
       "<Figure size 432x288 with 0 Axes>"
      ]
     },
     "metadata": {},
     "output_type": "display_data"
    }
   ],
   "source": [
    "plt.scatter(boston_residuals_df['boston_models'], boston_r2, c=\"blue\", label=\"R2\")\n",
    "# plt.legend()\n",
    "plt.title(\"R2 for each model\")\n",
    "plt.savefig('R2.png')\n",
    "plt.show()\n"
   ]
  },
  {
   "cell_type": "code",
   "execution_count": null,
   "metadata": {},
   "outputs": [],
   "source": []
  }
 ],
 "metadata": {
  "celltoolbar": "Create Assignment",
  "kernelspec": {
   "display_name": "Python 3",
   "language": "python",
   "name": "python3"
  },
  "language_info": {
   "codemirror_mode": {
    "name": "ipython",
    "version": 3
   },
   "file_extension": ".py",
   "mimetype": "text/x-python",
   "name": "python",
   "nbconvert_exporter": "python",
   "pygments_lexer": "ipython3",
   "version": "3.7.0"
  },
  "varInspector": {
   "cols": {
    "lenName": 16,
    "lenType": 16,
    "lenVar": 40
   },
   "kernels_config": {
    "python": {
     "delete_cmd_postfix": "",
     "delete_cmd_prefix": "del ",
     "library": "var_list.py",
     "varRefreshCmd": "print(var_dic_list())"
    },
    "r": {
     "delete_cmd_postfix": ") ",
     "delete_cmd_prefix": "rm(",
     "library": "var_list.r",
     "varRefreshCmd": "cat(var_dic_list()) "
    }
   },
   "types_to_exclude": [
    "module",
    "function",
    "builtin_function_or_method",
    "instance",
    "_Feature"
   ],
   "window_display": false
  }
 },
 "nbformat": 4,
 "nbformat_minor": 2
}
