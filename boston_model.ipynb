{
 "cells": [
  {
   "cell_type": "code",
   "execution_count": 139,
   "metadata": {},
   "outputs": [],
   "source": [
    "# Import dependencies\n",
    "\n",
    "import matplotlib.pyplot as plt\n",
    "import numpy as np\n",
    "import pandas as pd\n",
    "import sys"
   ]
  },
  {
   "cell_type": "markdown",
   "metadata": {},
   "source": [
    "##### Regression Models \n",
    "\n",
    "**Variables/Columns**\n",
    "\n",
    "- `Age` - years\n",
    "- `5K etc. Duration` - seconds\n",
    "- `Height` - inches\n",
    "- `M/F` - Male or Female\n"
   ]
  },
  {
   "cell_type": "markdown",
   "metadata": {},
   "source": [
    "### Read the csv file into a pandas DataFrame"
   ]
  },
  {
   "cell_type": "code",
   "execution_count": 140,
   "metadata": {},
   "outputs": [
    {
     "data": {
      "text/plain": [
       "Index(['Bib', 'Name', 'Age', 'M/F', 'City', 'State', 'Country', 'Citizen',\n",
       "       '5K', '10K', '15K', '20K', 'Half', '25K', '30K', '35K', '40K', 'Pace',\n",
       "       'Proj Time', 'Official Time', 'Overall', 'Gender', 'Division'],\n",
       "      dtype='object')"
      ]
     },
     "execution_count": 140,
     "metadata": {},
     "output_type": "execute_result"
    }
   ],
   "source": [
    "boston2016 = pd.read_csv('marathon/boston_marathon_results_2016.csv')\n",
    "#boston2016.head()\n",
    "#boston2016.shape\n",
    "boston2016.columns"
   ]
  },
  {
   "cell_type": "markdown",
   "metadata": {},
   "source": [
    "### Use Pandas get_dummies to convert categorical data"
   ]
  },
  {
   "cell_type": "code",
   "execution_count": 120,
   "metadata": {
    "nbgrader": {
     "grade": false,
     "grade_id": "cell-41760f7611f17b25",
     "locked": false,
     "schema_version": 1,
     "solution": true
    }
   },
   "outputs": [
    {
     "data": {
      "text/html": [
       "<div>\n",
       "<style scoped>\n",
       "    .dataframe tbody tr th:only-of-type {\n",
       "        vertical-align: middle;\n",
       "    }\n",
       "\n",
       "    .dataframe tbody tr th {\n",
       "        vertical-align: top;\n",
       "    }\n",
       "\n",
       "    .dataframe thead th {\n",
       "        text-align: right;\n",
       "    }\n",
       "</style>\n",
       "<table border=\"1\" class=\"dataframe\">\n",
       "  <thead>\n",
       "    <tr style=\"text-align: right;\">\n",
       "      <th></th>\n",
       "      <th>Bib</th>\n",
       "      <th>Name</th>\n",
       "      <th>Age</th>\n",
       "      <th>M/F</th>\n",
       "      <th>City</th>\n",
       "      <th>State</th>\n",
       "      <th>Country</th>\n",
       "      <th>Citizen</th>\n",
       "      <th>5K</th>\n",
       "      <th>10K</th>\n",
       "      <th>...</th>\n",
       "      <th>35K</th>\n",
       "      <th>40K</th>\n",
       "      <th>Pace</th>\n",
       "      <th>Proj Time</th>\n",
       "      <th>Official Time</th>\n",
       "      <th>Overall</th>\n",
       "      <th>Gender</th>\n",
       "      <th>Division</th>\n",
       "      <th>F</th>\n",
       "      <th>M</th>\n",
       "    </tr>\n",
       "  </thead>\n",
       "  <tbody>\n",
       "    <tr>\n",
       "      <th>0</th>\n",
       "      <td>5</td>\n",
       "      <td>Hayle, Lemi Berhanu</td>\n",
       "      <td>21</td>\n",
       "      <td>M</td>\n",
       "      <td>Addis Ababa</td>\n",
       "      <td>NaN</td>\n",
       "      <td>ETH</td>\n",
       "      <td>NaN</td>\n",
       "      <td>0:15:47</td>\n",
       "      <td>0:31:20</td>\n",
       "      <td>...</td>\n",
       "      <td>1:50:24</td>\n",
       "      <td>2:05:59</td>\n",
       "      <td>0:05:04</td>\n",
       "      <td>2:12:45</td>\n",
       "      <td>2:12:45</td>\n",
       "      <td>1</td>\n",
       "      <td>1</td>\n",
       "      <td>1</td>\n",
       "      <td>0</td>\n",
       "      <td>1</td>\n",
       "    </tr>\n",
       "    <tr>\n",
       "      <th>1</th>\n",
       "      <td>1</td>\n",
       "      <td>Desisa, Lelisa</td>\n",
       "      <td>26</td>\n",
       "      <td>M</td>\n",
       "      <td>Ambo</td>\n",
       "      <td>NaN</td>\n",
       "      <td>ETH</td>\n",
       "      <td>NaN</td>\n",
       "      <td>0:15:47</td>\n",
       "      <td>0:31:21</td>\n",
       "      <td>...</td>\n",
       "      <td>1:50:24</td>\n",
       "      <td>2:05:59</td>\n",
       "      <td>0:05:06</td>\n",
       "      <td>2:13:32</td>\n",
       "      <td>2:13:32</td>\n",
       "      <td>2</td>\n",
       "      <td>2</td>\n",
       "      <td>2</td>\n",
       "      <td>0</td>\n",
       "      <td>1</td>\n",
       "    </tr>\n",
       "    <tr>\n",
       "      <th>2</th>\n",
       "      <td>6</td>\n",
       "      <td>Tsegay, Yemane Adhane</td>\n",
       "      <td>31</td>\n",
       "      <td>M</td>\n",
       "      <td>Addis Ababa</td>\n",
       "      <td>NaN</td>\n",
       "      <td>ETH</td>\n",
       "      <td>NaN</td>\n",
       "      <td>0:15:46</td>\n",
       "      <td>0:31:20</td>\n",
       "      <td>...</td>\n",
       "      <td>1:50:48</td>\n",
       "      <td>2:06:47</td>\n",
       "      <td>0:05:07</td>\n",
       "      <td>2:14:02</td>\n",
       "      <td>2:14:02</td>\n",
       "      <td>3</td>\n",
       "      <td>3</td>\n",
       "      <td>3</td>\n",
       "      <td>0</td>\n",
       "      <td>1</td>\n",
       "    </tr>\n",
       "    <tr>\n",
       "      <th>3</th>\n",
       "      <td>11</td>\n",
       "      <td>Korir, Wesley</td>\n",
       "      <td>33</td>\n",
       "      <td>M</td>\n",
       "      <td>Kitale</td>\n",
       "      <td>NaN</td>\n",
       "      <td>KEN</td>\n",
       "      <td>NaN</td>\n",
       "      <td>0:15:46</td>\n",
       "      <td>0:31:21</td>\n",
       "      <td>...</td>\n",
       "      <td>1:50:48</td>\n",
       "      <td>2:06:47</td>\n",
       "      <td>0:05:07</td>\n",
       "      <td>2:14:05</td>\n",
       "      <td>2:14:05</td>\n",
       "      <td>4</td>\n",
       "      <td>4</td>\n",
       "      <td>4</td>\n",
       "      <td>0</td>\n",
       "      <td>1</td>\n",
       "    </tr>\n",
       "    <tr>\n",
       "      <th>4</th>\n",
       "      <td>14</td>\n",
       "      <td>Lonyangata, Paul</td>\n",
       "      <td>23</td>\n",
       "      <td>M</td>\n",
       "      <td>Eldoret</td>\n",
       "      <td>NaN</td>\n",
       "      <td>KEN</td>\n",
       "      <td>NaN</td>\n",
       "      <td>0:15:46</td>\n",
       "      <td>0:31:21</td>\n",
       "      <td>...</td>\n",
       "      <td>1:51:30</td>\n",
       "      <td>2:08:11</td>\n",
       "      <td>0:05:11</td>\n",
       "      <td>2:15:45</td>\n",
       "      <td>2:15:45</td>\n",
       "      <td>5</td>\n",
       "      <td>5</td>\n",
       "      <td>5</td>\n",
       "      <td>0</td>\n",
       "      <td>1</td>\n",
       "    </tr>\n",
       "  </tbody>\n",
       "</table>\n",
       "<p>5 rows × 25 columns</p>\n",
       "</div>"
      ],
      "text/plain": [
       "   Bib                   Name  Age M/F         City State Country Citizen  \\\n",
       "0    5    Hayle, Lemi Berhanu   21   M  Addis Ababa   NaN     ETH     NaN   \n",
       "1    1         Desisa, Lelisa   26   M         Ambo   NaN     ETH     NaN   \n",
       "2    6  Tsegay, Yemane Adhane   31   M  Addis Ababa   NaN     ETH     NaN   \n",
       "3   11          Korir, Wesley   33   M       Kitale   NaN     KEN     NaN   \n",
       "4   14       Lonyangata, Paul   23   M      Eldoret   NaN     KEN     NaN   \n",
       "\n",
       "        5K      10K ...      35K      40K     Pace Proj Time Official Time  \\\n",
       "0  0:15:47  0:31:20 ...  1:50:24  2:05:59  0:05:04   2:12:45       2:12:45   \n",
       "1  0:15:47  0:31:21 ...  1:50:24  2:05:59  0:05:06   2:13:32       2:13:32   \n",
       "2  0:15:46  0:31:20 ...  1:50:48  2:06:47  0:05:07   2:14:02       2:14:02   \n",
       "3  0:15:46  0:31:21 ...  1:50:48  2:06:47  0:05:07   2:14:05       2:14:05   \n",
       "4  0:15:46  0:31:21 ...  1:51:30  2:08:11  0:05:11   2:15:45       2:15:45   \n",
       "\n",
       "  Overall Gender Division  F  M  \n",
       "0       1      1        1  0  1  \n",
       "1       2      2        2  0  1  \n",
       "2       3      3        3  0  1  \n",
       "3       4      4        4  0  1  \n",
       "4       5      5        5  0  1  \n",
       "\n",
       "[5 rows x 25 columns]"
      ]
     },
     "execution_count": 120,
     "metadata": {},
     "output_type": "execute_result"
    }
   ],
   "source": [
    "# convert male/female to 0/1s\n",
    "\n",
    "boston2016_mf=pd.get_dummies(boston2016['M/F'])\n",
    "\n",
    "# join the two dataframes\n",
    "\n",
    "boston2016_join=pd.concat([boston2016, boston2016_mf], axis=1) \n",
    "\n",
    "boston2016_join.head()"
   ]
  },
  {
   "cell_type": "code",
   "execution_count": 121,
   "metadata": {},
   "outputs": [
    {
     "data": {
      "text/html": [
       "<div>\n",
       "<style scoped>\n",
       "    .dataframe tbody tr th:only-of-type {\n",
       "        vertical-align: middle;\n",
       "    }\n",
       "\n",
       "    .dataframe tbody tr th {\n",
       "        vertical-align: top;\n",
       "    }\n",
       "\n",
       "    .dataframe thead th {\n",
       "        text-align: right;\n",
       "    }\n",
       "</style>\n",
       "<table border=\"1\" class=\"dataframe\">\n",
       "  <thead>\n",
       "    <tr style=\"text-align: right;\">\n",
       "      <th></th>\n",
       "      <th>Bib</th>\n",
       "      <th>Age</th>\n",
       "      <th>5K Duration</th>\n",
       "      <th>10K Duration</th>\n",
       "      <th>15K Duration</th>\n",
       "      <th>20K Duration</th>\n",
       "      <th>Half Duration</th>\n",
       "      <th>25K Duration</th>\n",
       "      <th>30K Duration</th>\n",
       "      <th>35K Duration</th>\n",
       "      <th>40K Duration</th>\n",
       "      <th>Official Time Duration</th>\n",
       "      <th>F</th>\n",
       "      <th>M</th>\n",
       "    </tr>\n",
       "  </thead>\n",
       "  <tbody>\n",
       "    <tr>\n",
       "      <th>0</th>\n",
       "      <td>5</td>\n",
       "      <td>21</td>\n",
       "      <td>947.0</td>\n",
       "      <td>1880.0</td>\n",
       "      <td>2827.0</td>\n",
       "      <td>254.0</td>\n",
       "      <td>465.0</td>\n",
       "      <td>1215.0</td>\n",
       "      <td>2117.0</td>\n",
       "      <td>3084.0</td>\n",
       "      <td>479.0</td>\n",
       "      <td>885</td>\n",
       "      <td>0</td>\n",
       "      <td>1</td>\n",
       "    </tr>\n",
       "    <tr>\n",
       "      <th>1</th>\n",
       "      <td>1</td>\n",
       "      <td>26</td>\n",
       "      <td>947.0</td>\n",
       "      <td>1881.0</td>\n",
       "      <td>2828.0</td>\n",
       "      <td>254.0</td>\n",
       "      <td>466.0</td>\n",
       "      <td>1215.0</td>\n",
       "      <td>2117.0</td>\n",
       "      <td>3084.0</td>\n",
       "      <td>479.0</td>\n",
       "      <td>932</td>\n",
       "      <td>0</td>\n",
       "      <td>1</td>\n",
       "    </tr>\n",
       "    <tr>\n",
       "      <th>2</th>\n",
       "      <td>6</td>\n",
       "      <td>31</td>\n",
       "      <td>946.0</td>\n",
       "      <td>1880.0</td>\n",
       "      <td>2827.0</td>\n",
       "      <td>253.0</td>\n",
       "      <td>464.0</td>\n",
       "      <td>1215.0</td>\n",
       "      <td>2145.0</td>\n",
       "      <td>3108.0</td>\n",
       "      <td>527.0</td>\n",
       "      <td>962</td>\n",
       "      <td>0</td>\n",
       "      <td>1</td>\n",
       "    </tr>\n",
       "    <tr>\n",
       "      <th>3</th>\n",
       "      <td>11</td>\n",
       "      <td>33</td>\n",
       "      <td>946.0</td>\n",
       "      <td>1881.0</td>\n",
       "      <td>2827.0</td>\n",
       "      <td>254.0</td>\n",
       "      <td>466.0</td>\n",
       "      <td>1216.0</td>\n",
       "      <td>2145.0</td>\n",
       "      <td>3108.0</td>\n",
       "      <td>527.0</td>\n",
       "      <td>965</td>\n",
       "      <td>0</td>\n",
       "      <td>1</td>\n",
       "    </tr>\n",
       "    <tr>\n",
       "      <th>4</th>\n",
       "      <td>14</td>\n",
       "      <td>23</td>\n",
       "      <td>946.0</td>\n",
       "      <td>1881.0</td>\n",
       "      <td>2828.0</td>\n",
       "      <td>254.0</td>\n",
       "      <td>466.0</td>\n",
       "      <td>1218.0</td>\n",
       "      <td>2146.0</td>\n",
       "      <td>3150.0</td>\n",
       "      <td>611.0</td>\n",
       "      <td>1065</td>\n",
       "      <td>0</td>\n",
       "      <td>1</td>\n",
       "    </tr>\n",
       "    <tr>\n",
       "      <th>5</th>\n",
       "      <td>3</td>\n",
       "      <td>29</td>\n",
       "      <td>946.0</td>\n",
       "      <td>1881.0</td>\n",
       "      <td>2828.0</td>\n",
       "      <td>254.0</td>\n",
       "      <td>466.0</td>\n",
       "      <td>1217.0</td>\n",
       "      <td>2163.0</td>\n",
       "      <td>3199.0</td>\n",
       "      <td>667.0</td>\n",
       "      <td>1123</td>\n",
       "      <td>0</td>\n",
       "      <td>1</td>\n",
       "    </tr>\n",
       "    <tr>\n",
       "      <th>6</th>\n",
       "      <td>9</td>\n",
       "      <td>31</td>\n",
       "      <td>947.0</td>\n",
       "      <td>1881.0</td>\n",
       "      <td>2827.0</td>\n",
       "      <td>254.0</td>\n",
       "      <td>467.0</td>\n",
       "      <td>1226.0</td>\n",
       "      <td>2145.0</td>\n",
       "      <td>3109.0</td>\n",
       "      <td>612.0</td>\n",
       "      <td>1132</td>\n",
       "      <td>0</td>\n",
       "      <td>1</td>\n",
       "    </tr>\n",
       "    <tr>\n",
       "      <th>7</th>\n",
       "      <td>17</td>\n",
       "      <td>27</td>\n",
       "      <td>947.0</td>\n",
       "      <td>1881.0</td>\n",
       "      <td>2828.0</td>\n",
       "      <td>255.0</td>\n",
       "      <td>467.0</td>\n",
       "      <td>1216.0</td>\n",
       "      <td>2152.0</td>\n",
       "      <td>3144.0</td>\n",
       "      <td>638.0</td>\n",
       "      <td>1205</td>\n",
       "      <td>0</td>\n",
       "      <td>1</td>\n",
       "    </tr>\n",
       "    <tr>\n",
       "      <th>8</th>\n",
       "      <td>7</td>\n",
       "      <td>29</td>\n",
       "      <td>946.0</td>\n",
       "      <td>1880.0</td>\n",
       "      <td>2827.0</td>\n",
       "      <td>253.0</td>\n",
       "      <td>465.0</td>\n",
       "      <td>1217.0</td>\n",
       "      <td>2199.0</td>\n",
       "      <td>3292.0</td>\n",
       "      <td>777.0</td>\n",
       "      <td>1246</td>\n",
       "      <td>0</td>\n",
       "      <td>1</td>\n",
       "    </tr>\n",
       "    <tr>\n",
       "      <th>9</th>\n",
       "      <td>43</td>\n",
       "      <td>28</td>\n",
       "      <td>963.0</td>\n",
       "      <td>1928.0</td>\n",
       "      <td>2894.0</td>\n",
       "      <td>325.0</td>\n",
       "      <td>537.0</td>\n",
       "      <td>1298.0</td>\n",
       "      <td>2306.0</td>\n",
       "      <td>3346.0</td>\n",
       "      <td>887.0</td>\n",
       "      <td>1417</td>\n",
       "      <td>0</td>\n",
       "      <td>1</td>\n",
       "    </tr>\n",
       "  </tbody>\n",
       "</table>\n",
       "</div>"
      ],
      "text/plain": [
       "   Bib  Age  5K Duration  10K Duration  15K Duration  20K Duration  \\\n",
       "0    5   21        947.0        1880.0        2827.0         254.0   \n",
       "1    1   26        947.0        1881.0        2828.0         254.0   \n",
       "2    6   31        946.0        1880.0        2827.0         253.0   \n",
       "3   11   33        946.0        1881.0        2827.0         254.0   \n",
       "4   14   23        946.0        1881.0        2828.0         254.0   \n",
       "5    3   29        946.0        1881.0        2828.0         254.0   \n",
       "6    9   31        947.0        1881.0        2827.0         254.0   \n",
       "7   17   27        947.0        1881.0        2828.0         255.0   \n",
       "8    7   29        946.0        1880.0        2827.0         253.0   \n",
       "9   43   28        963.0        1928.0        2894.0         325.0   \n",
       "\n",
       "   Half Duration  25K Duration  30K Duration  35K Duration  40K Duration  \\\n",
       "0          465.0        1215.0        2117.0        3084.0         479.0   \n",
       "1          466.0        1215.0        2117.0        3084.0         479.0   \n",
       "2          464.0        1215.0        2145.0        3108.0         527.0   \n",
       "3          466.0        1216.0        2145.0        3108.0         527.0   \n",
       "4          466.0        1218.0        2146.0        3150.0         611.0   \n",
       "5          466.0        1217.0        2163.0        3199.0         667.0   \n",
       "6          467.0        1226.0        2145.0        3109.0         612.0   \n",
       "7          467.0        1216.0        2152.0        3144.0         638.0   \n",
       "8          465.0        1217.0        2199.0        3292.0         777.0   \n",
       "9          537.0        1298.0        2306.0        3346.0         887.0   \n",
       "\n",
       "   Official Time Duration  F  M  \n",
       "0                     885  0  1  \n",
       "1                     932  0  1  \n",
       "2                     962  0  1  \n",
       "3                     965  0  1  \n",
       "4                    1065  0  1  \n",
       "5                    1123  0  1  \n",
       "6                    1132  0  1  \n",
       "7                    1205  0  1  \n",
       "8                    1246  0  1  \n",
       "9                    1417  0  1  "
      ]
     },
     "execution_count": 121,
     "metadata": {},
     "output_type": "execute_result"
    }
   ],
   "source": [
    "# Convert HH:MM:SS to total seconds\n",
    "\n",
    "def time_convert(x):\n",
    "    if x == \"-\":\n",
    "        return None\n",
    "    else:\n",
    "        times = x.split(':')\n",
    "        return (60*int(times[0])+60*int(times[1]))+int(times[2])\n",
    "\n",
    "\n",
    "boston2016_join['5K Duration'] = boston2016_join['5K'].apply(time_convert)\n",
    "boston2016_join['10K Duration'] = boston2016_join['10K'].apply(time_convert)\n",
    "boston2016_join['15K Duration'] = boston2016_join['15K'].apply(time_convert)\n",
    "boston2016_join['20K Duration'] = boston2016_join['20K'].apply(time_convert)\n",
    "boston2016_join['Half Duration'] = boston2016_join['Half'].apply(time_convert)\n",
    "boston2016_join['25K Duration'] = boston2016_join['25K'].apply(time_convert)\n",
    "boston2016_join['30K Duration'] = boston2016_join['30K'].apply(time_convert)\n",
    "boston2016_join['35K Duration'] = boston2016_join['35K'].apply(time_convert)\n",
    "boston2016_join['40K Duration'] = boston2016_join['40K'].apply(time_convert)\n",
    "boston2016_join['Official Time Duration'] = boston2016_join['Official Time'].apply(time_convert)\n",
    "\n",
    "# Drop rows with null values\n",
    "\n",
    "boston2016_join.dropna(inplace=True,subset=['Bib','Age','5K Duration','10K Duration','15K Duration','20K Duration', 'Half Duration', '25K Duration','30K Duration','35K Duration','40K Duration','Official Time Duration'])\n",
    "\n",
    "boston2016_clean=boston2016_join[['Bib','Age','5K Duration','10K Duration','15K Duration','20K Duration', 'Half Duration', '25K Duration','30K Duration','35K Duration','40K Duration','Official Time Duration', 'F', 'M']]\n",
    "\n",
    "boston2016_clean.head(10)"
   ]
  },
  {
   "cell_type": "markdown",
   "metadata": {},
   "source": [
    "### Assign X (data) and y (target)\n",
    "Make sure the data is in the appropriate shape"
   ]
  },
  {
   "cell_type": "code",
   "execution_count": 141,
   "metadata": {},
   "outputs": [
    {
     "name": "stdout",
     "output_type": "stream",
     "text": [
      "(26481, 5) (26481, 1)\n"
     ]
    }
   ],
   "source": [
    "### set up data for modeling\n",
    "X_5K = boston2016_clean[['Bib','Age','Official Time Duration', 'F', 'M']]\n",
    "y_5K = boston2016_clean['5K Duration'].values.reshape(-1, 1)\n",
    "print(X_5K.shape, y_5K.shape)"
   ]
  },
  {
   "cell_type": "markdown",
   "metadata": {},
   "source": [
    "### Split the data into training and testing"
   ]
  },
  {
   "cell_type": "code",
   "execution_count": 142,
   "metadata": {
    "nbgrader": {
     "grade": false,
     "grade_id": "cell-62193e4c8caef9c5",
     "locked": false,
     "schema_version": 1,
     "solution": true
    }
   },
   "outputs": [
    {
     "data": {
      "text/html": [
       "<div>\n",
       "<style scoped>\n",
       "    .dataframe tbody tr th:only-of-type {\n",
       "        vertical-align: middle;\n",
       "    }\n",
       "\n",
       "    .dataframe tbody tr th {\n",
       "        vertical-align: top;\n",
       "    }\n",
       "\n",
       "    .dataframe thead th {\n",
       "        text-align: right;\n",
       "    }\n",
       "</style>\n",
       "<table border=\"1\" class=\"dataframe\">\n",
       "  <thead>\n",
       "    <tr style=\"text-align: right;\">\n",
       "      <th></th>\n",
       "      <th>Bib</th>\n",
       "      <th>Age</th>\n",
       "      <th>Official Time Duration</th>\n",
       "      <th>F</th>\n",
       "      <th>M</th>\n",
       "    </tr>\n",
       "  </thead>\n",
       "  <tbody>\n",
       "    <tr>\n",
       "      <th>6096</th>\n",
       "      <td>10585</td>\n",
       "      <td>26</td>\n",
       "      <td>1646</td>\n",
       "      <td>1</td>\n",
       "      <td>0</td>\n",
       "    </tr>\n",
       "    <tr>\n",
       "      <th>10532</th>\n",
       "      <td>13379</td>\n",
       "      <td>35</td>\n",
       "      <td>2530</td>\n",
       "      <td>1</td>\n",
       "      <td>0</td>\n",
       "    </tr>\n",
       "    <tr>\n",
       "      <th>4147</th>\n",
       "      <td>2669</td>\n",
       "      <td>29</td>\n",
       "      <td>1166</td>\n",
       "      <td>0</td>\n",
       "      <td>1</td>\n",
       "    </tr>\n",
       "    <tr>\n",
       "      <th>20675</th>\n",
       "      <td>24573</td>\n",
       "      <td>54</td>\n",
       "      <td>1521</td>\n",
       "      <td>1</td>\n",
       "      <td>0</td>\n",
       "    </tr>\n",
       "    <tr>\n",
       "      <th>20937</th>\n",
       "      <td>21812</td>\n",
       "      <td>49</td>\n",
       "      <td>1626</td>\n",
       "      <td>1</td>\n",
       "      <td>0</td>\n",
       "    </tr>\n",
       "  </tbody>\n",
       "</table>\n",
       "</div>"
      ],
      "text/plain": [
       "         Bib  Age  Official Time Duration  F  M\n",
       "6096   10585   26                    1646  1  0\n",
       "10532  13379   35                    2530  1  0\n",
       "4147    2669   29                    1166  0  1\n",
       "20675  24573   54                    1521  1  0\n",
       "20937  21812   49                    1626  1  0"
      ]
     },
     "execution_count": 142,
     "metadata": {},
     "output_type": "execute_result"
    }
   ],
   "source": [
    "from sklearn.model_selection import train_test_split\n",
    "\n",
    "X_train_5K, X_test_5K, y_train_5K, y_test_5K = train_test_split(X_5K, y_5K, random_state=29)\n",
    "\n",
    "X_train_5K.head()"
   ]
  },
  {
   "cell_type": "markdown",
   "metadata": {},
   "source": [
    "### Create a `StandardScaler` model and fit it to the training data"
   ]
  },
  {
   "cell_type": "code",
   "execution_count": 124,
   "metadata": {
    "nbgrader": {
     "grade": false,
     "grade_id": "cell-a885840c1f62d274",
     "locked": false,
     "schema_version": 1,
     "solution": true
    }
   },
   "outputs": [],
   "source": [
    "# from sklearn.preprocessing import StandardScaler\n",
    "\n",
    "\n",
    "# X_scaler = StandardScaler().fit(X_train)\n",
    "# y_scaler = StandardScaler().fit(y_train)\n",
    "\n",
    "### Transform the training and testing data using the your `StandardScaler` models created above\n",
    "\n",
    "# X_train_scaled = X_scaler.transform(X_train)\n",
    "# X_test_scaled = X_scaler.transform(X_test)\n",
    "# y_train_scaled = y_scaler.transform(y_train)\n",
    "# y_test_scaled = y_scaler.transform(y_test)"
   ]
  },
  {
   "cell_type": "markdown",
   "metadata": {},
   "source": [
    "### Create a LinearRegression model and fit it to the training data"
   ]
  },
  {
   "cell_type": "code",
   "execution_count": 143,
   "metadata": {
    "nbgrader": {
     "grade": false,
     "grade_id": "cell-4df70e615bb36ac1",
     "locked": false,
     "schema_version": 1,
     "solution": true
    }
   },
   "outputs": [
    {
     "data": {
      "text/plain": [
       "LinearRegression(copy_X=True, fit_intercept=True, n_jobs=1, normalize=False)"
      ]
     },
     "execution_count": 143,
     "metadata": {},
     "output_type": "execute_result"
    }
   ],
   "source": [
    "from sklearn.linear_model import LinearRegression\n",
    "model_5K = LinearRegression()\n",
    "model_5K.fit(X_train_5K, y_train_5K)"
   ]
  },
  {
   "cell_type": "markdown",
   "metadata": {},
   "source": [
    "### Make predictions using the test data"
   ]
  },
  {
   "cell_type": "code",
   "execution_count": 146,
   "metadata": {},
   "outputs": [],
   "source": [
    "predictions_5K = model_5K.predict(X_test_5K)"
   ]
  },
  {
   "cell_type": "code",
   "execution_count": 147,
   "metadata": {},
   "outputs": [
    {
     "name": "stdout",
     "output_type": "stream",
     "text": [
      "[[1659.97393391]\n",
      " [1463.38373941]\n",
      " [1557.81727481]\n",
      " ...\n",
      " [1262.92761755]\n",
      " [1526.71372115]\n",
      " [1565.73926387]]\n"
     ]
    }
   ],
   "source": [
    "# Predictions is a list of predicted values\n",
    "print(predictions_5K)"
   ]
  },
  {
   "cell_type": "markdown",
   "metadata": {},
   "source": [
    "### Plot the residual plot for the predictions on the scaled training and test data "
   ]
  },
  {
   "cell_type": "code",
   "execution_count": 148,
   "metadata": {
    "nbgrader": {
     "grade": false,
     "grade_id": "cell-ec6532d8dc790021",
     "locked": false,
     "schema_version": 1,
     "solution": true
    }
   },
   "outputs": [
    {
     "data": {
      "image/png": "[encoded data removed]",
      "text/plain": [
       "<Figure size 432x288 with 1 Axes>"
      ]
     },
     "metadata": {
      "needs_background": "light"
     },
     "output_type": "display_data"
    }
   ],
   "source": [
    "plt.scatter(model.predict(X_train_5K), model.predict(X_train_5K) - y_train_5K, c=\"blue\", label=\"Training Data\")\n",
    "plt.scatter(model.predict(X_test_5K), model.predict(X_test_5K) - y_test_5K, c=\"orange\", label=\"Testing Data\")\n",
    "plt.legend()\n",
    "plt.hlines(y=0, xmin=y_test_5K.min(), xmax=y_test_5K.max())\n",
    "plt.title(\"Residual Plot for 5K\")\n",
    "plt.show()"
   ]
  },
  {
   "cell_type": "markdown",
   "metadata": {},
   "source": [
    "### Calculate MSE and $R^2$ for the model"
   ]
  },
  {
   "cell_type": "code",
   "execution_count": 170,
   "metadata": {
    "nbgrader": {
     "grade": false,
     "grade_id": "cell-deb1d9b663c1883f",
     "locked": false,
     "schema_version": 1,
     "solution": true
    }
   },
   "outputs": [
    {
     "name": "stdout",
     "output_type": "stream",
     "text": [
      "MSE: 173650.2187460721, R2: 0.7359632009546694\n"
     ]
    }
   ],
   "source": [
    "# Used X_test_5K, y_test_5K, and model.predict(X_test_5K) to calculate MSE and R2\n",
    "\n",
    "from sklearn.metrics import mean_squared_error\n",
    "\n",
    "MSE = mean_squared_error(y_test_5K, predictions)\n",
    "r2 = model.score(X_test_5K, y_test_5K)\n",
    "\n",
    "\n",
    "print(f\"MSE: {MSE}, R2: {r2}\")"
   ]
  },
  {
   "cell_type": "code",
   "execution_count": 171,
   "metadata": {},
   "outputs": [
    {
     "data": {
      "text/plain": [
       "['model_5K.pk1']"
      ]
     },
     "execution_count": 171,
     "metadata": {},
     "output_type": "execute_result"
    }
   ],
   "source": [
    "# Save the model as pickle file\n",
    "\n",
    "import pickle\n",
    "from sklearn.externals import joblib\n",
    "\n",
    "joblib.dump(model_5K, 'model_5K.pk1')"
   ]
  },
  {
   "cell_type": "code",
   "execution_count": null,
   "metadata": {},
   "outputs": [],
   "source": [
    "# # To save the model without the training data, in order to make predictions without re-training the model\n",
    "# # Source: https://www.geeksforgeeks.org/saving-a-machine-learning-model/\n",
    "\n",
    "# import pickle\n",
    "# from sklearn.externals import joblib \n",
    "  \n",
    "# # Save the model as a pickle in a file \n",
    "# joblib.dump(model_5K, 'model_5K.pkl') \n",
    "  \n",
    "# # Load the model from the file \n",
    "# model_5K_from_joblib = joblib.load('model_5K.pkl')  \n",
    "  \n",
    "# # Use the loaded model to make predictions \n",
    "# model_5K_from_joblib.predict(X_test_5K) "
   ]
  },
  {
   "cell_type": "markdown",
   "metadata": {},
   "source": [
    "### LASSO model\n",
    "\n",
    "performs feature selection by reducing small coefficient values to absolute zero"
   ]
  },
  {
   "cell_type": "code",
   "execution_count": 153,
   "metadata": {
    "nbgrader": {
     "grade": false,
     "grade_id": "cell-1dbfa38f409ceb7c",
     "locked": false,
     "schema_version": 1,
     "solution": true
    }
   },
   "outputs": [
    {
     "name": "stdout",
     "output_type": "stream",
     "text": [
      "MSE: 14624.734715712539, R2: 0.7359646302882223\n"
     ]
    }
   ],
   "source": [
    "# Note: Use an alpha of .01 when creating the model for this activity\n",
    "from sklearn.linear_model import Lasso\n",
    "\n",
    "lasso = Lasso(alpha=.01).fit(X_train_5K, y_train_5K)\n",
    "\n",
    "predictions = lasso.predict(X_test_5K)\n",
    "\n",
    "MSE = mean_squared_error(y_test_5K, predictions)\n",
    "r2 = lasso.score(X_test_5K, y_test_5K)\n",
    "\n",
    "print(f\"MSE: {MSE}, R2: {r2}\")"
   ]
  },
  {
   "cell_type": "markdown",
   "metadata": {},
   "source": [
    "### Ridge model\n",
    "\n",
    "reduces multicollinearity\n",
    "create plot to show differences in coefficient values\n",
    "use code from here: https://www.analyticsvidhya.com/blog/2017/06/a-comprehensive-guide-for-linear-ridge-and-lasso-regression/"
   ]
  },
  {
   "cell_type": "code",
   "execution_count": 156,
   "metadata": {
    "nbgrader": {
     "grade": false,
     "grade_id": "cell-d7adb5db2fc7b236",
     "locked": false,
     "schema_version": 1,
     "solution": true
    }
   },
   "outputs": [
    {
     "name": "stdout",
     "output_type": "stream",
     "text": [
      "MSE: 14624.813882118813, R2: 0.7359632010157087\n"
     ]
    }
   ],
   "source": [
    "# Note: Use an alpha of .01 when creating the model for this activity\n",
    "from sklearn.linear_model import Ridge\n",
    "\n",
    "### BEGIN SOLUTION\n",
    "ridge_5K = Ridge(alpha=.01).fit(X_train_5K, y_train_5K)\n",
    "\n",
    "predictions_5K = ridge_5K.predict(X_test_5K)\n",
    "\n",
    "MSE = mean_squared_error(y_test_5K, predictions)\n",
    "r2 = ridge_5K.score(X_test_5K, y_test_5K)\n",
    "### END SOLUTION\n",
    "\n",
    "print(f\"MSE: {MSE}, R2: {r2}\")"
   ]
  },
  {
   "cell_type": "markdown",
   "metadata": {},
   "source": [
    "### ElasticNet model"
   ]
  },
  {
   "cell_type": "code",
   "execution_count": 157,
   "metadata": {
    "nbgrader": {
     "grade": false,
     "grade_id": "cell-5b0241abbdaa88e9",
     "locked": false,
     "schema_version": 1,
     "solution": true
    }
   },
   "outputs": [
    {
     "name": "stdout",
     "output_type": "stream",
     "text": [
      "MSE: 14624.813882118813, R2: 0.7359644998768371\n"
     ]
    }
   ],
   "source": [
    "# Note: Use an alpha of .01 when creating the model for this activity\n",
    "from sklearn.linear_model import ElasticNet\n",
    "\n",
    "elasticnet_5K = ElasticNet(alpha=.01).fit(X_train_5K, y_train_5K)\n",
    "\n",
    "predictions_5K = elasticnet_5K.predict(X_test_5K)\n",
    "\n",
    "MSE = mean_squared_error(y_test_5K, predictions)\n",
    "r2 = elasticnet_5K.score(X_test_5K, y_test_5K)\n",
    "\n",
    "\n",
    "print(f\"MSE: {MSE}, R2: {r2}\")"
   ]
  },
  {
   "cell_type": "code",
   "execution_count": 158,
   "metadata": {},
   "outputs": [
    {
     "name": "stdout",
     "output_type": "stream",
     "text": [
      "(26481, 4) (26481, 1)\n"
     ]
    },
    {
     "data": {
      "image/png": "[encoded data removed]",
      "text/plain": [
       "<Figure size 432x288 with 1 Axes>"
      ]
     },
     "metadata": {
      "needs_background": "light"
     },
     "output_type": "display_data"
    }
   ],
   "source": [
    "# Re-run the model without the Bib numbers as a feature to test if Bib numbers are helpful\n",
    "\n",
    "### set up data for modeling\n",
    "X_nobib = boston2016_clean[['Age','Official Time Duration', 'F', 'M']]\n",
    "y_nobib = boston2016_clean['5K Duration'].values.reshape(-1, 1)\n",
    "print(X_nobib.shape, y_nobib.shape)\n",
    "\n",
    "# split the data into test and train subsets\n",
    "\n",
    "from sklearn.model_selection import train_test_split\n",
    "\n",
    "X_train_nobib, X_test_nobib, y_train_nobib, y_test_nobib = train_test_split(X_nobib, y_nobib, random_state=29)\n",
    "# X_train_nobib.head()\n",
    "\n",
    "# Create a linear regression model and fit it to the training data\n",
    "\n",
    "from sklearn.linear_model import LinearRegression\n",
    "model_nobib = LinearRegression()\n",
    "model_nobib.fit(X_train_nobib, y_train_nobib)\n",
    "\n",
    "# Make predictions\n",
    "\n",
    "predictions_nobib = model_nobib.predict(X_test_nobib)\n",
    "\n",
    "# Plot the residuals\n",
    "\n",
    "plt.scatter(model_nobib.predict(X_train_nobib), model_nobib.predict(X_train_nobib) - y_train_nobib, c=\"blue\", label=\"Training Data\")\n",
    "plt.scatter(model_nobib.predict(X_test_nobib), model_nobib.predict(X_test_nobib) - y_test_nobib, c=\"orange\", label=\"Testing Data\")\n",
    "plt.legend()\n",
    "plt.hlines(y=0, xmin=y_test_nobib.min(), xmax=y_test_nobib.max())\n",
    "plt.title(\"Residual Plot No Bib Model\")\n",
    "plt.show()\n"
   ]
  },
  {
   "cell_type": "code",
   "execution_count": 159,
   "metadata": {},
   "outputs": [
    {
     "name": "stdout",
     "output_type": "stream",
     "text": [
      "MSE: 14624.813882118813, R2: 0.16612181734262532\n"
     ]
    }
   ],
   "source": [
    "# Used X_test, y_test, and model.predict(X_test) to calculate MSE and R2\n",
    "\n",
    "from sklearn.metrics import mean_squared_error\n",
    "\n",
    "MSE = mean_squared_error(y_test_nobib, predictions)\n",
    "r2 = model_nobib.score(X_test_nobib, y_test_nobib)\n",
    "\n",
    "\n",
    "print(f\"MSE: {MSE}, R2: {r2}\")\n",
    "\n",
    "# Model built without Bib numbers has a smaller R2 value"
   ]
  },
  {
   "cell_type": "code",
   "execution_count": 163,
   "metadata": {},
   "outputs": [
    {
     "name": "stdout",
     "output_type": "stream",
     "text": [
      "(26481, 6) (26481, 1)\n"
     ]
    },
    {
     "data": {
      "image/png": "[encoded data removed]",
      "text/plain": [
       "<Figure size 432x288 with 1 Axes>"
      ]
     },
     "metadata": {
      "needs_background": "light"
     },
     "output_type": "display_data"
    }
   ],
   "source": [
    "# Re-run the model with the Bib numbers as a feature and for the 5K split times to predict 10K time\n",
    "\n",
    "### set up data for modeling\n",
    "X_10K = boston2016_clean[['Bib', 'Age','Official Time Duration', 'F', 'M', '5K Duration']]\n",
    "y_10K = boston2016_clean['10K Duration'].values.reshape(-1, 1)\n",
    "print(X_10K.shape, y_10K.shape)\n",
    "\n",
    "# split the data into test and train subsets\n",
    "\n",
    "from sklearn.model_selection import train_test_split\n",
    "\n",
    "X_train_10K, X_test_10K, y_train_10K, y_test_10K = train_test_split(X_10K, y_10K, random_state=29)\n",
    "# X_train_5K.head()\n",
    "\n",
    "# Create a linear regression model and fit it to the training data\n",
    "\n",
    "from sklearn.linear_model import LinearRegression\n",
    "model_10K = LinearRegression()\n",
    "model_10K.fit(X_train_10K, y_train_10K)\n",
    "\n",
    "# Make predictions\n",
    "\n",
    "predictions = model_10K.predict(X_test_10K)\n",
    "\n",
    "# Plot the residuals\n",
    "\n",
    "plt.scatter(model_10K.predict(X_train_10K), model_10K.predict(X_train_10K) - y_train_10K, c=\"blue\", label=\"Training Data\")\n",
    "plt.scatter(model_10K.predict(X_test_10K), model_10K.predict(X_test_10K) - y_test_10K, c=\"orange\", label=\"Testing Data\")\n",
    "plt.legend()\n",
    "plt.hlines(y=0, xmin=y_test_10K.min(), xmax=y_test_10K.max())\n",
    "plt.title(\"Residual Plot 10K\")\n",
    "plt.show()"
   ]
  },
  {
   "cell_type": "code",
   "execution_count": 162,
   "metadata": {},
   "outputs": [
    {
     "name": "stdout",
     "output_type": "stream",
     "text": [
      "MSE: 554457.604242487, R2: 0.34084004792845013\n"
     ]
    }
   ],
   "source": [
    "# Used X_test, y_test, and model.predict(X_test) to calculate MSE and R2\n",
    "\n",
    "from sklearn.metrics import mean_squared_error\n",
    "\n",
    "MSE = mean_squared_error(y_test, predictions)\n",
    "r2 = model_10K.score(X_test_10K, y_test_10K)\n",
    "\n",
    "\n",
    "print(f\"MSE: {MSE}, R2: {r2}\")\n",
    "\n",
    "# Model built without Bib numbers has a smaller R2 value"
   ]
  },
  {
   "cell_type": "code",
   "execution_count": 172,
   "metadata": {},
   "outputs": [
    {
     "data": {
      "text/plain": [
       "['model_10K.pk1']"
      ]
     },
     "execution_count": 172,
     "metadata": {},
     "output_type": "execute_result"
    }
   ],
   "source": [
    "# Save the model as pickle file\n",
    "\n",
    "import pickle\n",
    "from sklearn.externals import joblib\n",
    "\n",
    "joblib.dump(model_10K, 'model_10K.pk1')"
   ]
  },
  {
   "cell_type": "code",
   "execution_count": 168,
   "metadata": {},
   "outputs": [
    {
     "name": "stdout",
     "output_type": "stream",
     "text": [
      "(26481, 7) (26481, 1)\n"
     ]
    },
    {
     "data": {
      "image/png": "[encoded data removed]",
      "text/plain": [
       "<Figure size 432x288 with 1 Axes>"
      ]
     },
     "metadata": {
      "needs_background": "light"
     },
     "output_type": "display_data"
    }
   ],
   "source": [
    "# Re-run the model with the Bib numbers as a feature and for the 5K and 10K split times to predict 15K time\n",
    "\n",
    "### set up data for modeling\n",
    "X_15K = boston2016_clean[['Bib', 'Age','Official Time Duration', 'F', 'M', '5K Duration', '10K Duration']]\n",
    "y_15K = boston2016_clean['15K Duration'].values.reshape(-1, 1)\n",
    "print(X_15K.shape, y_15K.shape)\n",
    "\n",
    "# split the data into test and train subsets\n",
    "\n",
    "from sklearn.model_selection import train_test_split\n",
    "\n",
    "X_train_15K, X_test_15K, y_train_15K, y_test_15K = train_test_split(X_15K, y_15K, random_state=29)\n",
    "# X_train_15K.head()\n",
    "\n",
    "# Create a linear regression model and fit it to the training data\n",
    "\n",
    "from sklearn.linear_model import LinearRegression\n",
    "model_15K = LinearRegression()\n",
    "model_15K.fit(X_train_15K, y_train_15K)\n",
    "\n",
    "# Make predictions\n",
    "\n",
    "predictions_15K = model_15K.predict(X_test_15K)\n",
    "\n",
    "# Plot the residuals\n",
    "\n",
    "plt.scatter(model_15K.predict(X_train_15K), model_15K.predict(X_train_15K) - y_train_15K, c=\"blue\", label=\"Training Data\")\n",
    "plt.scatter(model_15K.predict(X_test_15K), model_15K.predict(X_test_15K) - y_test_15K, c=\"orange\", label=\"Testing Data\")\n",
    "plt.legend()\n",
    "plt.hlines(y=0, xmin=y_test_15K.min(), xmax=y_test_15K.max())\n",
    "plt.title(\"Residual Plot 15K\")\n",
    "plt.show()"
   ]
  },
  {
   "cell_type": "code",
   "execution_count": 169,
   "metadata": {},
   "outputs": [
    {
     "name": "stdout",
     "output_type": "stream",
     "text": [
      "MSE: 476523.05169585306, R2: 0.32922107382887955\n"
     ]
    }
   ],
   "source": [
    "# Used X_test, y_test, and model.predict(X_test) to calculate MSE and R2\n",
    "\n",
    "from sklearn.metrics import mean_squared_error\n",
    "\n",
    "MSE = mean_squared_error(y_test_15K, predictions_15K)\n",
    "r2 = model_15K.score(X_test_15K, y_test_15K)\n",
    "\n",
    "\n",
    "print(f\"MSE: {MSE}, R2: {r2}\")\n",
    "\n",
    "# Model built without Bib numbers has a smaller R2 value"
   ]
  },
  {
   "cell_type": "code",
   "execution_count": 173,
   "metadata": {},
   "outputs": [
    {
     "data": {
      "text/plain": [
       "['model_15K.pk1']"
      ]
     },
     "execution_count": 173,
     "metadata": {},
     "output_type": "execute_result"
    }
   ],
   "source": [
    "# Save the model as pickle file\n",
    "\n",
    "import pickle\n",
    "from sklearn.externals import joblib\n",
    "\n",
    "joblib.dump(model_15K, 'model_15K.pk1')"
   ]
  },
  {
   "cell_type": "code",
   "execution_count": 175,
   "metadata": {},
   "outputs": [
    {
     "name": "stdout",
     "output_type": "stream",
     "text": [
      "(26481, 8) (26481, 1)\n"
     ]
    },
    {
     "data": {
      "image/png": "[encoded data removed]",
      "text/plain": [
       "<Figure size 432x288 with 1 Axes>"
      ]
     },
     "metadata": {
      "needs_background": "light"
     },
     "output_type": "display_data"
    }
   ],
   "source": [
    "# Re-run the model with the Bib numbers as a feature and for the 5K, 10K and 15K split times to predict 20K time\n",
    "\n",
    "### set up data for modeling\n",
    "X_20K = boston2016_clean[['Bib', 'Age','Official Time Duration', 'F', 'M', '5K Duration', '10K Duration', '15K Duration']]\n",
    "y_20K = boston2016_clean['20K Duration'].values.reshape(-1, 1)\n",
    "print(X_20K.shape, y_20K.shape)\n",
    "\n",
    "# split the data into test and train subsets\n",
    "\n",
    "from sklearn.model_selection import train_test_split\n",
    "\n",
    "X_train_20K, X_test_20K, y_train_20K, y_test_20K = train_test_split(X_20K, y_20K, random_state=29)\n",
    "# X_train_20K.head()\n",
    "\n",
    "# Create a linear regression model and fit it to the training data\n",
    "\n",
    "from sklearn.linear_model import LinearRegression\n",
    "model_20K = LinearRegression()\n",
    "model_20K.fit(X_train_20K, y_train_20K)\n",
    "\n",
    "# Make predictions\n",
    "\n",
    "predictions_20K = model_20K.predict(X_test_20K)\n",
    "\n",
    "# Plot the residuals\n",
    "\n",
    "plt.scatter(model_20K.predict(X_train_20K), model_20K.predict(X_train_20K) - y_train_20K, c=\"blue\", label=\"Training Data\")\n",
    "plt.scatter(model_20K.predict(X_test_20K), model_20K.predict(X_test_20K) - y_test_20K, c=\"orange\", label=\"Testing Data\")\n",
    "plt.legend()\n",
    "plt.hlines(y=0, xmin=y_test_20K.min(), xmax=y_test_20K.max())\n",
    "plt.title(\"Residual Plot 20K\")\n",
    "plt.show()"
   ]
  },
  {
   "cell_type": "code",
   "execution_count": 176,
   "metadata": {},
   "outputs": [
    {
     "name": "stdout",
     "output_type": "stream",
     "text": [
      "MSE: 476523.05169585306, R2: 0.6025674827828014\n"
     ]
    }
   ],
   "source": [
    "# Used X_test, y_test, and model.predict(X_test) to calculate MSE and R2\n",
    "\n",
    "from sklearn.metrics import mean_squared_error\n",
    "\n",
    "MSE = mean_squared_error(y_test_15K, predictions_15K)\n",
    "r2 = model_20K.score(X_test_20K, y_test_20K)\n",
    "\n",
    "\n",
    "print(f\"MSE: {MSE}, R2: {r2}\")"
   ]
  },
  {
   "cell_type": "code",
   "execution_count": 177,
   "metadata": {},
   "outputs": [
    {
     "data": {
      "text/plain": [
       "['model_20K.pk1']"
      ]
     },
     "execution_count": 177,
     "metadata": {},
     "output_type": "execute_result"
    }
   ],
   "source": [
    "# Save the model as pickle file\n",
    "\n",
    "import pickle\n",
    "from sklearn.externals import joblib\n",
    "\n",
    "joblib.dump(model_20K, 'model_20K.pk1')"
   ]
  },
  {
   "cell_type": "code",
   "execution_count": 175,
   "metadata": {},
   "outputs": [
    {
     "name": "stdout",
     "output_type": "stream",
     "text": [
      "(26481, 8) (26481, 1)\n"
     ]
    },
    {
     "data": {
      "image/png": "[encoded data removed]",
      "text/plain": [
       "<Figure size 432x288 with 1 Axes>"
      ]
     },
     "metadata": {
      "needs_background": "light"
     },
     "output_type": "display_data"
    }
   ],
   "source": [
    "# Re-run the model with the Bib numbers as a feature and for the 5K, 10K and 15K split times to predict 20K time\n",
    "\n",
    "### set up data for modeling\n",
    "X_20K = boston2016_clean[['Bib', 'Age','Official Time Duration', 'F', 'M', '5K Duration', '10K Duration', '15K Duration']]\n",
    "y_20K = boston2016_clean['20K Duration'].values.reshape(-1, 1)\n",
    "print(X_20K.shape, y_20K.shape)\n",
    "\n",
    "# split the data into test and train subsets\n",
    "\n",
    "from sklearn.model_selection import train_test_split\n",
    "\n",
    "X_train_20K, X_test_20K, y_train_20K, y_test_20K = train_test_split(X_20K, y_20K, random_state=29)\n",
    "# X_train_20K.head()\n",
    "\n",
    "# Create a linear regression model and fit it to the training data\n",
    "\n",
    "from sklearn.linear_model import LinearRegression\n",
    "model_20K = LinearRegression()\n",
    "model_20K.fit(X_train_20K, y_train_20K)\n",
    "\n",
    "# Make predictions\n",
    "\n",
    "predictions_20K = model_20K.predict(X_test_20K)\n",
    "\n",
    "# Plot the residuals\n",
    "\n",
    "plt.scatter(model_20K.predict(X_train_20K), model_20K.predict(X_train_20K) - y_train_20K, c=\"blue\", label=\"Training Data\")\n",
    "plt.scatter(model_20K.predict(X_test_20K), model_20K.predict(X_test_20K) - y_test_20K, c=\"orange\", label=\"Testing Data\")\n",
    "plt.legend()\n",
    "plt.hlines(y=0, xmin=y_test_20K.min(), xmax=y_test_20K.max())\n",
    "plt.title(\"Residual Plot 20K\")\n",
    "plt.show()"
   ]
  },
  {
   "cell_type": "code",
   "execution_count": 176,
   "metadata": {},
   "outputs": [
    {
     "name": "stdout",
     "output_type": "stream",
     "text": [
      "MSE: 476523.05169585306, R2: 0.6025674827828014\n"
     ]
    }
   ],
   "source": [
    "# Used X_test, y_test, and model.predict(X_test) to calculate MSE and R2\n",
    "\n",
    "from sklearn.metrics import mean_squared_error\n",
    "\n",
    "MSE = mean_squared_error(y_test_15K, predictions_15K)\n",
    "r2 = model_20K.score(X_test_20K, y_test_20K)\n",
    "\n",
    "\n",
    "print(f\"MSE: {MSE}, R2: {r2}\")"
   ]
  },
  {
   "cell_type": "code",
   "execution_count": 177,
   "metadata": {},
   "outputs": [
    {
     "data": {
      "text/plain": [
       "['model_20K.pk1']"
      ]
     },
     "execution_count": 177,
     "metadata": {},
     "output_type": "execute_result"
    }
   ],
   "source": [
    "# Save the model as pickle file\n",
    "\n",
    "import pickle\n",
    "from sklearn.externals import joblib\n",
    "\n",
    "joblib.dump(model_20K, 'model_20K.pk1')"
   ]
  },
  {
   "cell_type": "code",
   "execution_count": null,
   "metadata": {},
   "outputs": [],
   "source": []
  }
 ],
 "metadata": {
  "celltoolbar": "Create Assignment",
  "kernelspec": {
   "display_name": "Python 3",
   "language": "python",
   "name": "python3"
  },
  "language_info": {
   "codemirror_mode": {
    "name": "ipython",
    "version": 3
   },
   "file_extension": ".py",
   "mimetype": "text/x-python",
   "name": "python",
   "nbconvert_exporter": "python",
   "pygments_lexer": "ipython3",
   "version": "3.7.0"
  },
  "varInspector": {
   "cols": {
    "lenName": 16,
    "lenType": 16,
    "lenVar": 40
   },
   "kernels_config": {
    "python": {
     "delete_cmd_postfix": "",
     "delete_cmd_prefix": "del ",
     "library": "var_list.py",
     "varRefreshCmd": "print(var_dic_list())"
    },
    "r": {
     "delete_cmd_postfix": ") ",
     "delete_cmd_prefix": "rm(",
     "library": "var_list.r",
     "varRefreshCmd": "cat(var_dic_list()) "
    }
   },
   "types_to_exclude": [
    "module",
    "function",
    "builtin_function_or_method",
    "instance",
    "_Feature"
   ],
   "window_display": false
  }
 },
 "nbformat": 4,
 "nbformat_minor": 2
}
