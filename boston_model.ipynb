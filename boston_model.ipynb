{
 "cells": [
  {
   "cell_type": "code",
   "execution_count": 377,
   "metadata": {},
   "outputs": [],
   "source": [
    "# Import dependencies\n",
    "\n",
    "import matplotlib.pyplot as plt\n",
    "import numpy as np\n",
    "import pandas as pd\n",
    "import sys"
   ]
  },
  {
   "cell_type": "markdown",
   "metadata": {},
   "source": [
    "##### Regression Models \n",
    "\n",
    "**Variables/Columns**\n",
    "\n",
    "- `Age` - years\n",
    "- `5K etc. Duration` - seconds\n",
    "- `Height` - inches\n",
    "- `M/F` - Male or Female\n"
   ]
  },
  {
   "cell_type": "markdown",
   "metadata": {},
   "source": [
    "### Read the csv file into a pandas DataFrame"
   ]
  },
  {
   "cell_type": "code",
   "execution_count": 378,
   "metadata": {},
   "outputs": [
    {
     "data": {
      "text/plain": [
       "Index(['Year', 'Bib', 'Name', 'Age', 'M/F', 'City', 'State', 'Country',\n",
       "       'Citizen', 'Unnamed: 9', '5K', '10K', '15K', '20K', 'Half', '25K',\n",
       "       '30K', '35K', '40K', 'Pace', 'Proj Time', 'Official Time', 'Overall',\n",
       "       'Gender', 'Division', 'Temp (F)'],\n",
       "      dtype='object')"
      ]
     },
     "execution_count": 378,
     "metadata": {},
     "output_type": "execute_result"
    }
   ],
   "source": [
    "boston = pd.read_csv('marathon/Boston_Marathon_2015_to_2017.csv')\n",
    "#boston.head()\n",
    "#boston.shape\n",
    "boston.columns"
   ]
  },
  {
   "cell_type": "markdown",
   "metadata": {},
   "source": [
    "### Use Pandas get_dummies to convert categorical data"
   ]
  },
  {
   "cell_type": "code",
   "execution_count": 379,
   "metadata": {
    "nbgrader": {
     "grade": false,
     "grade_id": "cell-41760f7611f17b25",
     "locked": false,
     "schema_version": 1,
     "solution": true
    }
   },
   "outputs": [
    {
     "data": {
      "text/html": [
       "<div>\n",
       "<style scoped>\n",
       "    .dataframe tbody tr th:only-of-type {\n",
       "        vertical-align: middle;\n",
       "    }\n",
       "\n",
       "    .dataframe tbody tr th {\n",
       "        vertical-align: top;\n",
       "    }\n",
       "\n",
       "    .dataframe thead th {\n",
       "        text-align: right;\n",
       "    }\n",
       "</style>\n",
       "<table border=\"1\" class=\"dataframe\">\n",
       "  <thead>\n",
       "    <tr style=\"text-align: right;\">\n",
       "      <th></th>\n",
       "      <th>Year</th>\n",
       "      <th>Bib</th>\n",
       "      <th>Name</th>\n",
       "      <th>Age</th>\n",
       "      <th>M/F</th>\n",
       "      <th>City</th>\n",
       "      <th>State</th>\n",
       "      <th>Country</th>\n",
       "      <th>Citizen</th>\n",
       "      <th>Unnamed: 9</th>\n",
       "      <th>...</th>\n",
       "      <th>40K</th>\n",
       "      <th>Pace</th>\n",
       "      <th>Proj Time</th>\n",
       "      <th>Official Time</th>\n",
       "      <th>Overall</th>\n",
       "      <th>Gender</th>\n",
       "      <th>Division</th>\n",
       "      <th>Temp (F)</th>\n",
       "      <th>F</th>\n",
       "      <th>M</th>\n",
       "    </tr>\n",
       "  </thead>\n",
       "  <tbody>\n",
       "    <tr>\n",
       "      <th>0</th>\n",
       "      <td>2015</td>\n",
       "      <td>3</td>\n",
       "      <td>Desisa, Lelisa</td>\n",
       "      <td>25</td>\n",
       "      <td>M</td>\n",
       "      <td>Ambo</td>\n",
       "      <td>NaN</td>\n",
       "      <td>ETH</td>\n",
       "      <td>NaN</td>\n",
       "      <td>NaN</td>\n",
       "      <td>...</td>\n",
       "      <td>2:02:39</td>\n",
       "      <td>0:04:56</td>\n",
       "      <td>-</td>\n",
       "      <td>2:09:17</td>\n",
       "      <td>1</td>\n",
       "      <td>1</td>\n",
       "      <td>1</td>\n",
       "      <td>46</td>\n",
       "      <td>0</td>\n",
       "      <td>1</td>\n",
       "    </tr>\n",
       "    <tr>\n",
       "      <th>1</th>\n",
       "      <td>2015</td>\n",
       "      <td>4</td>\n",
       "      <td>Tsegay, Yemane Adhane</td>\n",
       "      <td>30</td>\n",
       "      <td>M</td>\n",
       "      <td>Addis Ababa</td>\n",
       "      <td>NaN</td>\n",
       "      <td>ETH</td>\n",
       "      <td>NaN</td>\n",
       "      <td>NaN</td>\n",
       "      <td>...</td>\n",
       "      <td>2:02:42</td>\n",
       "      <td>0:04:58</td>\n",
       "      <td>-</td>\n",
       "      <td>2:09:48</td>\n",
       "      <td>2</td>\n",
       "      <td>2</td>\n",
       "      <td>2</td>\n",
       "      <td>46</td>\n",
       "      <td>0</td>\n",
       "      <td>1</td>\n",
       "    </tr>\n",
       "    <tr>\n",
       "      <th>2</th>\n",
       "      <td>2015</td>\n",
       "      <td>8</td>\n",
       "      <td>Chebet, Wilson</td>\n",
       "      <td>29</td>\n",
       "      <td>M</td>\n",
       "      <td>Marakwet</td>\n",
       "      <td>NaN</td>\n",
       "      <td>KEN</td>\n",
       "      <td>NaN</td>\n",
       "      <td>NaN</td>\n",
       "      <td>...</td>\n",
       "      <td>2:03:01</td>\n",
       "      <td>0:04:59</td>\n",
       "      <td>-</td>\n",
       "      <td>2:10:22</td>\n",
       "      <td>3</td>\n",
       "      <td>3</td>\n",
       "      <td>3</td>\n",
       "      <td>46</td>\n",
       "      <td>0</td>\n",
       "      <td>1</td>\n",
       "    </tr>\n",
       "    <tr>\n",
       "      <th>3</th>\n",
       "      <td>2015</td>\n",
       "      <td>11</td>\n",
       "      <td>Kipyego, Bernard</td>\n",
       "      <td>28</td>\n",
       "      <td>M</td>\n",
       "      <td>Eldoret</td>\n",
       "      <td>NaN</td>\n",
       "      <td>KEN</td>\n",
       "      <td>NaN</td>\n",
       "      <td>NaN</td>\n",
       "      <td>...</td>\n",
       "      <td>2:03:47</td>\n",
       "      <td>0:05:00</td>\n",
       "      <td>-</td>\n",
       "      <td>2:10:47</td>\n",
       "      <td>4</td>\n",
       "      <td>4</td>\n",
       "      <td>4</td>\n",
       "      <td>46</td>\n",
       "      <td>0</td>\n",
       "      <td>1</td>\n",
       "    </tr>\n",
       "    <tr>\n",
       "      <th>4</th>\n",
       "      <td>2015</td>\n",
       "      <td>10</td>\n",
       "      <td>Korir, Wesley</td>\n",
       "      <td>32</td>\n",
       "      <td>M</td>\n",
       "      <td>Kitale</td>\n",
       "      <td>NaN</td>\n",
       "      <td>KEN</td>\n",
       "      <td>NaN</td>\n",
       "      <td>NaN</td>\n",
       "      <td>...</td>\n",
       "      <td>2:03:27</td>\n",
       "      <td>0:05:00</td>\n",
       "      <td>-</td>\n",
       "      <td>2:10:49</td>\n",
       "      <td>5</td>\n",
       "      <td>5</td>\n",
       "      <td>5</td>\n",
       "      <td>46</td>\n",
       "      <td>0</td>\n",
       "      <td>1</td>\n",
       "    </tr>\n",
       "  </tbody>\n",
       "</table>\n",
       "<p>5 rows × 28 columns</p>\n",
       "</div>"
      ],
      "text/plain": [
       "   Year  Bib                   Name  Age M/F         City State Country  \\\n",
       "0  2015    3         Desisa, Lelisa   25   M         Ambo   NaN     ETH   \n",
       "1  2015    4  Tsegay, Yemane Adhane   30   M  Addis Ababa   NaN     ETH   \n",
       "2  2015    8         Chebet, Wilson   29   M     Marakwet   NaN     KEN   \n",
       "3  2015   11       Kipyego, Bernard   28   M      Eldoret   NaN     KEN   \n",
       "4  2015   10          Korir, Wesley   32   M       Kitale   NaN     KEN   \n",
       "\n",
       "  Citizen Unnamed: 9 ...      40K     Pace Proj Time Official Time Overall  \\\n",
       "0     NaN        NaN ...  2:02:39  0:04:56         -       2:09:17       1   \n",
       "1     NaN        NaN ...  2:02:42  0:04:58         -       2:09:48       2   \n",
       "2     NaN        NaN ...  2:03:01  0:04:59         -       2:10:22       3   \n",
       "3     NaN        NaN ...  2:03:47  0:05:00         -       2:10:47       4   \n",
       "4     NaN        NaN ...  2:03:27  0:05:00         -       2:10:49       5   \n",
       "\n",
       "  Gender Division Temp (F)  F  M  \n",
       "0      1        1       46  0  1  \n",
       "1      2        2       46  0  1  \n",
       "2      3        3       46  0  1  \n",
       "3      4        4       46  0  1  \n",
       "4      5        5       46  0  1  \n",
       "\n",
       "[5 rows x 28 columns]"
      ]
     },
     "execution_count": 379,
     "metadata": {},
     "output_type": "execute_result"
    }
   ],
   "source": [
    "# convert male/female to 0/1s\n",
    "\n",
    "boston_mf=pd.get_dummies(boston['M/F'])\n",
    "\n",
    "# join the two dataframes\n",
    "\n",
    "boston_join=pd.concat([boston, boston_mf], axis=1) \n",
    "\n",
    "boston_join.head()"
   ]
  },
  {
   "cell_type": "code",
   "execution_count": 380,
   "metadata": {},
   "outputs": [
    {
     "data": {
      "text/html": [
       "<div>\n",
       "<style scoped>\n",
       "    .dataframe tbody tr th:only-of-type {\n",
       "        vertical-align: middle;\n",
       "    }\n",
       "\n",
       "    .dataframe tbody tr th {\n",
       "        vertical-align: top;\n",
       "    }\n",
       "\n",
       "    .dataframe thead th {\n",
       "        text-align: right;\n",
       "    }\n",
       "</style>\n",
       "<table border=\"1\" class=\"dataframe\">\n",
       "  <thead>\n",
       "    <tr style=\"text-align: right;\">\n",
       "      <th></th>\n",
       "      <th>Bib</th>\n",
       "      <th>Age</th>\n",
       "      <th>5K Duration</th>\n",
       "      <th>10K Duration</th>\n",
       "      <th>15K Duration</th>\n",
       "      <th>20K Duration</th>\n",
       "      <th>Half Duration</th>\n",
       "      <th>25K Duration</th>\n",
       "      <th>30K Duration</th>\n",
       "      <th>35K Duration</th>\n",
       "      <th>40K Duration</th>\n",
       "      <th>Official Time Duration</th>\n",
       "      <th>Temp (F)</th>\n",
       "      <th>F</th>\n",
       "      <th>M</th>\n",
       "    </tr>\n",
       "  </thead>\n",
       "  <tbody>\n",
       "    <tr>\n",
       "      <th>0</th>\n",
       "      <td>3</td>\n",
       "      <td>25</td>\n",
       "      <td>883</td>\n",
       "      <td>1783</td>\n",
       "      <td>2697</td>\n",
       "      <td>89</td>\n",
       "      <td>302</td>\n",
       "      <td>1027</td>\n",
       "      <td>1980</td>\n",
       "      <td>2939</td>\n",
       "      <td>279</td>\n",
       "      <td>677</td>\n",
       "      <td>46</td>\n",
       "      <td>0</td>\n",
       "      <td>1</td>\n",
       "    </tr>\n",
       "    <tr>\n",
       "      <th>1</th>\n",
       "      <td>4</td>\n",
       "      <td>30</td>\n",
       "      <td>883</td>\n",
       "      <td>1783</td>\n",
       "      <td>2698</td>\n",
       "      <td>88</td>\n",
       "      <td>301</td>\n",
       "      <td>1027</td>\n",
       "      <td>1979</td>\n",
       "      <td>2939</td>\n",
       "      <td>282</td>\n",
       "      <td>708</td>\n",
       "      <td>46</td>\n",
       "      <td>0</td>\n",
       "      <td>1</td>\n",
       "    </tr>\n",
       "    <tr>\n",
       "      <th>2</th>\n",
       "      <td>8</td>\n",
       "      <td>29</td>\n",
       "      <td>883</td>\n",
       "      <td>1783</td>\n",
       "      <td>2697</td>\n",
       "      <td>89</td>\n",
       "      <td>302</td>\n",
       "      <td>1027</td>\n",
       "      <td>1980</td>\n",
       "      <td>2939</td>\n",
       "      <td>301</td>\n",
       "      <td>742</td>\n",
       "      <td>46</td>\n",
       "      <td>0</td>\n",
       "      <td>1</td>\n",
       "    </tr>\n",
       "    <tr>\n",
       "      <th>3</th>\n",
       "      <td>11</td>\n",
       "      <td>28</td>\n",
       "      <td>883</td>\n",
       "      <td>1784</td>\n",
       "      <td>2701</td>\n",
       "      <td>89</td>\n",
       "      <td>302</td>\n",
       "      <td>1027</td>\n",
       "      <td>1980</td>\n",
       "      <td>2943</td>\n",
       "      <td>347</td>\n",
       "      <td>767</td>\n",
       "      <td>46</td>\n",
       "      <td>0</td>\n",
       "      <td>1</td>\n",
       "    </tr>\n",
       "    <tr>\n",
       "      <th>4</th>\n",
       "      <td>10</td>\n",
       "      <td>32</td>\n",
       "      <td>883</td>\n",
       "      <td>1784</td>\n",
       "      <td>2698</td>\n",
       "      <td>88</td>\n",
       "      <td>301</td>\n",
       "      <td>1027</td>\n",
       "      <td>1980</td>\n",
       "      <td>2939</td>\n",
       "      <td>327</td>\n",
       "      <td>769</td>\n",
       "      <td>46</td>\n",
       "      <td>0</td>\n",
       "      <td>1</td>\n",
       "    </tr>\n",
       "    <tr>\n",
       "      <th>5</th>\n",
       "      <td>9</td>\n",
       "      <td>30</td>\n",
       "      <td>884</td>\n",
       "      <td>1785</td>\n",
       "      <td>2699</td>\n",
       "      <td>89</td>\n",
       "      <td>302</td>\n",
       "      <td>1027</td>\n",
       "      <td>1980</td>\n",
       "      <td>2939</td>\n",
       "      <td>318</td>\n",
       "      <td>772</td>\n",
       "      <td>46</td>\n",
       "      <td>0</td>\n",
       "      <td>1</td>\n",
       "    </tr>\n",
       "    <tr>\n",
       "      <th>6</th>\n",
       "      <td>14</td>\n",
       "      <td>32</td>\n",
       "      <td>885</td>\n",
       "      <td>1785</td>\n",
       "      <td>2720</td>\n",
       "      <td>103</td>\n",
       "      <td>303</td>\n",
       "      <td>1025</td>\n",
       "      <td>1979</td>\n",
       "      <td>2946</td>\n",
       "      <td>365</td>\n",
       "      <td>800</td>\n",
       "      <td>46</td>\n",
       "      <td>0</td>\n",
       "      <td>1</td>\n",
       "    </tr>\n",
       "    <tr>\n",
       "      <th>7</th>\n",
       "      <td>1</td>\n",
       "      <td>39</td>\n",
       "      <td>884</td>\n",
       "      <td>1784</td>\n",
       "      <td>2699</td>\n",
       "      <td>90</td>\n",
       "      <td>302</td>\n",
       "      <td>1027</td>\n",
       "      <td>1979</td>\n",
       "      <td>2939</td>\n",
       "      <td>418</td>\n",
       "      <td>882</td>\n",
       "      <td>46</td>\n",
       "      <td>0</td>\n",
       "      <td>1</td>\n",
       "    </tr>\n",
       "    <tr>\n",
       "      <th>8</th>\n",
       "      <td>5</td>\n",
       "      <td>27</td>\n",
       "      <td>883</td>\n",
       "      <td>1783</td>\n",
       "      <td>2698</td>\n",
       "      <td>88</td>\n",
       "      <td>302</td>\n",
       "      <td>1027</td>\n",
       "      <td>1980</td>\n",
       "      <td>2940</td>\n",
       "      <td>399</td>\n",
       "      <td>935</td>\n",
       "      <td>46</td>\n",
       "      <td>0</td>\n",
       "      <td>1</td>\n",
       "    </tr>\n",
       "    <tr>\n",
       "      <th>9</th>\n",
       "      <td>16</td>\n",
       "      <td>33</td>\n",
       "      <td>914</td>\n",
       "      <td>1834</td>\n",
       "      <td>2765</td>\n",
       "      <td>163</td>\n",
       "      <td>367</td>\n",
       "      <td>1098</td>\n",
       "      <td>2051</td>\n",
       "      <td>3043</td>\n",
       "      <td>496</td>\n",
       "      <td>952</td>\n",
       "      <td>46</td>\n",
       "      <td>0</td>\n",
       "      <td>1</td>\n",
       "    </tr>\n",
       "  </tbody>\n",
       "</table>\n",
       "</div>"
      ],
      "text/plain": [
       "   Bib  Age  5K Duration  10K Duration  15K Duration  20K Duration  \\\n",
       "0    3   25          883          1783          2697            89   \n",
       "1    4   30          883          1783          2698            88   \n",
       "2    8   29          883          1783          2697            89   \n",
       "3   11   28          883          1784          2701            89   \n",
       "4   10   32          883          1784          2698            88   \n",
       "5    9   30          884          1785          2699            89   \n",
       "6   14   32          885          1785          2720           103   \n",
       "7    1   39          884          1784          2699            90   \n",
       "8    5   27          883          1783          2698            88   \n",
       "9   16   33          914          1834          2765           163   \n",
       "\n",
       "   Half Duration  25K Duration  30K Duration  35K Duration  40K Duration  \\\n",
       "0            302          1027          1980          2939           279   \n",
       "1            301          1027          1979          2939           282   \n",
       "2            302          1027          1980          2939           301   \n",
       "3            302          1027          1980          2943           347   \n",
       "4            301          1027          1980          2939           327   \n",
       "5            302          1027          1980          2939           318   \n",
       "6            303          1025          1979          2946           365   \n",
       "7            302          1027          1979          2939           418   \n",
       "8            302          1027          1980          2940           399   \n",
       "9            367          1098          2051          3043           496   \n",
       "\n",
       "   Official Time Duration  Temp (F)  F  M  \n",
       "0                     677        46  0  1  \n",
       "1                     708        46  0  1  \n",
       "2                     742        46  0  1  \n",
       "3                     767        46  0  1  \n",
       "4                     769        46  0  1  \n",
       "5                     772        46  0  1  \n",
       "6                     800        46  0  1  \n",
       "7                     882        46  0  1  \n",
       "8                     935        46  0  1  \n",
       "9                     952        46  0  1  "
      ]
     },
     "execution_count": 380,
     "metadata": {},
     "output_type": "execute_result"
    }
   ],
   "source": [
    "# Convert HH:MM:SS to total seconds\n",
    "\n",
    "def time_convert(x):\n",
    "    if x == \"-\":\n",
    "        return None\n",
    "    else:\n",
    "        times = x.split(':')\n",
    "        return (60*int(times[0])+60*int(times[1]))+int(times[2])\n",
    "\n",
    "\n",
    "boston_join['5K Duration'] = boston_join['5K'].apply(time_convert)\n",
    "boston_join['10K Duration'] = boston_join['10K'].apply(time_convert)\n",
    "boston_join['15K Duration'] = boston_join['15K'].apply(time_convert)\n",
    "boston_join['20K Duration'] = boston_join['20K'].apply(time_convert)\n",
    "boston_join['Half Duration'] = boston_join['Half'].apply(time_convert)\n",
    "boston_join['25K Duration'] = boston_join['25K'].apply(time_convert)\n",
    "boston_join['30K Duration'] = boston_join['30K'].apply(time_convert)\n",
    "boston_join['35K Duration'] = boston_join['35K'].apply(time_convert)\n",
    "boston_join['40K Duration'] = boston_join['40K'].apply(time_convert)\n",
    "boston_join['Official Time Duration'] = boston_join['Official Time'].apply(time_convert)\n",
    "\n",
    "# Drop rows with null values\n",
    "\n",
    "boston_join.dropna(inplace=True,subset=['Bib','Age','5K Duration','10K Duration','15K Duration','20K Duration', 'Half Duration', '25K Duration','30K Duration','35K Duration','40K Duration','Official Time Duration', 'Temp (F)'])\n",
    "\n",
    "boston_clean=boston_join[['Bib','Age','5K Duration','10K Duration','15K Duration','20K Duration', 'Half Duration', '25K Duration','30K Duration','35K Duration','40K Duration','Official Time Duration', 'Temp (F)', 'F', 'M']]\n",
    "\n",
    "boston_clean.head(10)"
   ]
  },
  {
   "cell_type": "markdown",
   "metadata": {},
   "source": [
    "### Assign X (data) and y (target)\n",
    "Make sure the data is in the appropriate shape"
   ]
  },
  {
   "cell_type": "code",
   "execution_count": 381,
   "metadata": {},
   "outputs": [
    {
     "name": "stdout",
     "output_type": "stream",
     "text": [
      "(79038, 5) (79038, 1)\n"
     ]
    }
   ],
   "source": [
    "### set up data for modeling\n",
    "X_5K = boston_clean[['Bib','Age','Official Time Duration', 'F', 'M']]\n",
    "y_5K = boston_clean['5K Duration'].values.reshape(-1, 1)\n",
    "print(X_5K.shape, y_5K.shape)"
   ]
  },
  {
   "cell_type": "markdown",
   "metadata": {},
   "source": [
    "### Split the data into training and testing"
   ]
  },
  {
   "cell_type": "code",
   "execution_count": 382,
   "metadata": {
    "nbgrader": {
     "grade": false,
     "grade_id": "cell-62193e4c8caef9c5",
     "locked": false,
     "schema_version": 1,
     "solution": true
    }
   },
   "outputs": [
    {
     "data": {
      "text/html": [
       "<div>\n",
       "<style scoped>\n",
       "    .dataframe tbody tr th:only-of-type {\n",
       "        vertical-align: middle;\n",
       "    }\n",
       "\n",
       "    .dataframe tbody tr th {\n",
       "        vertical-align: top;\n",
       "    }\n",
       "\n",
       "    .dataframe thead th {\n",
       "        text-align: right;\n",
       "    }\n",
       "</style>\n",
       "<table border=\"1\" class=\"dataframe\">\n",
       "  <thead>\n",
       "    <tr style=\"text-align: right;\">\n",
       "      <th></th>\n",
       "      <th>Bib</th>\n",
       "      <th>Age</th>\n",
       "      <th>Official Time Duration</th>\n",
       "      <th>F</th>\n",
       "      <th>M</th>\n",
       "    </tr>\n",
       "  </thead>\n",
       "  <tbody>\n",
       "    <tr>\n",
       "      <th>66445</th>\n",
       "      <td>30824</td>\n",
       "      <td>49</td>\n",
       "      <td>3386</td>\n",
       "      <td>0</td>\n",
       "      <td>1</td>\n",
       "    </tr>\n",
       "    <tr>\n",
       "      <th>56920</th>\n",
       "      <td>12298</td>\n",
       "      <td>26</td>\n",
       "      <td>1236</td>\n",
       "      <td>1</td>\n",
       "      <td>0</td>\n",
       "    </tr>\n",
       "    <tr>\n",
       "      <th>36463</th>\n",
       "      <td>20672</td>\n",
       "      <td>52</td>\n",
       "      <td>2473</td>\n",
       "      <td>1</td>\n",
       "      <td>0</td>\n",
       "    </tr>\n",
       "    <tr>\n",
       "      <th>57842</th>\n",
       "      <td>7090</td>\n",
       "      <td>51</td>\n",
       "      <td>1501</td>\n",
       "      <td>0</td>\n",
       "      <td>1</td>\n",
       "    </tr>\n",
       "    <tr>\n",
       "      <th>30644</th>\n",
       "      <td>4640</td>\n",
       "      <td>40</td>\n",
       "      <td>1233</td>\n",
       "      <td>0</td>\n",
       "      <td>1</td>\n",
       "    </tr>\n",
       "  </tbody>\n",
       "</table>\n",
       "</div>"
      ],
      "text/plain": [
       "         Bib  Age  Official Time Duration  F  M\n",
       "66445  30824   49                    3386  0  1\n",
       "56920  12298   26                    1236  1  0\n",
       "36463  20672   52                    2473  1  0\n",
       "57842   7090   51                    1501  0  1\n",
       "30644   4640   40                    1233  0  1"
      ]
     },
     "execution_count": 382,
     "metadata": {},
     "output_type": "execute_result"
    }
   ],
   "source": [
    "from sklearn.model_selection import train_test_split\n",
    "\n",
    "X_train_5K, X_test_5K, y_train_5K, y_test_5K = train_test_split(X_5K, y_5K, random_state=29)\n",
    "\n",
    "X_train_5K.head()"
   ]
  },
  {
   "cell_type": "markdown",
   "metadata": {},
   "source": [
    "### Create a `StandardScaler` model and fit it to the training data"
   ]
  },
  {
   "cell_type": "code",
   "execution_count": 383,
   "metadata": {
    "nbgrader": {
     "grade": false,
     "grade_id": "cell-a885840c1f62d274",
     "locked": false,
     "schema_version": 1,
     "solution": true
    }
   },
   "outputs": [],
   "source": [
    "# from sklearn.preprocessing import StandardScaler\n",
    "\n",
    "\n",
    "# X_scaler = StandardScaler().fit(X_train)\n",
    "# y_scaler = StandardScaler().fit(y_train)\n",
    "\n",
    "### Transform the training and testing data using the your `StandardScaler` models created above\n",
    "\n",
    "# X_train_scaled = X_scaler.transform(X_train)\n",
    "# X_test_scaled = X_scaler.transform(X_test)\n",
    "# y_train_scaled = y_scaler.transform(y_train)\n",
    "# y_test_scaled = y_scaler.transform(y_test)"
   ]
  },
  {
   "cell_type": "markdown",
   "metadata": {},
   "source": [
    "### Create a LinearRegression model and fit it to the training data"
   ]
  },
  {
   "cell_type": "code",
   "execution_count": 384,
   "metadata": {
    "nbgrader": {
     "grade": false,
     "grade_id": "cell-4df70e615bb36ac1",
     "locked": false,
     "schema_version": 1,
     "solution": true
    }
   },
   "outputs": [
    {
     "data": {
      "text/plain": [
       "LinearRegression(copy_X=True, fit_intercept=True, n_jobs=1, normalize=False)"
      ]
     },
     "execution_count": 384,
     "metadata": {},
     "output_type": "execute_result"
    }
   ],
   "source": [
    "from sklearn.linear_model import LinearRegression\n",
    "model_5K = LinearRegression()\n",
    "model_5K.fit(X_train_5K, y_train_5K)"
   ]
  },
  {
   "cell_type": "markdown",
   "metadata": {},
   "source": [
    "### Make predictions using the test data"
   ]
  },
  {
   "cell_type": "code",
   "execution_count": 385,
   "metadata": {},
   "outputs": [],
   "source": [
    "predictions_5K = model_5K.predict(X_test_5K)"
   ]
  },
  {
   "cell_type": "code",
   "execution_count": 386,
   "metadata": {},
   "outputs": [
    {
     "name": "stdout",
     "output_type": "stream",
     "text": [
      "[[1530.07245074]\n",
      " [1695.07668965]\n",
      " [1822.87503807]\n",
      " ...\n",
      " [1494.81238264]\n",
      " [1795.18380798]\n",
      " [1601.64079225]]\n"
     ]
    }
   ],
   "source": [
    "# Predictions is a list of predicted values\n",
    "print(predictions_5K)"
   ]
  },
  {
   "cell_type": "markdown",
   "metadata": {},
   "source": [
    "### Plot the residual plot for the predictions on the scaled training and test data "
   ]
  },
  {
   "cell_type": "code",
   "execution_count": 387,
   "metadata": {
    "nbgrader": {
     "grade": false,
     "grade_id": "cell-ec6532d8dc790021",
     "locked": false,
     "schema_version": 1,
     "solution": true
    }
   },
   "outputs": [
    {
     "data": {
      "image/png": "[encoded data removed]",
      "text/plain": [
       "<Figure size 432x288 with 1 Axes>"
      ]
     },
     "metadata": {
      "needs_background": "light"
     },
     "output_type": "display_data"
    }
   ],
   "source": [
    "plt.scatter(model.predict(X_train_5K), model.predict(X_train_5K) - y_train_5K, c=\"blue\", label=\"Training Data\")\n",
    "plt.scatter(model.predict(X_test_5K), model.predict(X_test_5K) - y_test_5K, c=\"orange\", label=\"Testing Data\")\n",
    "plt.legend()\n",
    "plt.hlines(y=0, xmin=y_test_5K.min(), xmax=y_test_5K.max())\n",
    "plt.title(\"Residual Plot for 5K\")\n",
    "plt.show()"
   ]
  },
  {
   "cell_type": "markdown",
   "metadata": {},
   "source": [
    "### Calculate MSE and $R^2$ for the model"
   ]
  },
  {
   "cell_type": "code",
   "execution_count": 388,
   "metadata": {
    "nbgrader": {
     "grade": false,
     "grade_id": "cell-deb1d9b663c1883f",
     "locked": false,
     "schema_version": 1,
     "solution": true
    }
   },
   "outputs": [
    {
     "name": "stdout",
     "output_type": "stream",
     "text": [
      "MSE: 14540.283790783578, R2: 0.732926653179319\n"
     ]
    }
   ],
   "source": [
    "# Used X_test_5K, y_test_5K, and model.predict(X_test_5K) to calculate MSE and R2\n",
    "\n",
    "from sklearn.metrics import mean_squared_error\n",
    "\n",
    "MSE = mean_squared_error(y_test_5K, predictions_5K)\n",
    "r2 = model.score(X_test_5K, y_test_5K)\n",
    "\n",
    "\n",
    "print(f\"MSE: {MSE}, R2: {r2}\")"
   ]
  },
  {
   "cell_type": "code",
   "execution_count": 389,
   "metadata": {},
   "outputs": [
    {
     "data": {
      "text/plain": [
       "['model_5K.pk1']"
      ]
     },
     "execution_count": 389,
     "metadata": {},
     "output_type": "execute_result"
    }
   ],
   "source": [
    "# Save the model as pickle file\n",
    "\n",
    "import pickle\n",
    "from sklearn.externals import joblib\n",
    "\n",
    "joblib.dump(model_5K, 'model_5K.pk1')"
   ]
  },
  {
   "cell_type": "code",
   "execution_count": 390,
   "metadata": {},
   "outputs": [],
   "source": [
    "# # To save the model without the training data, in order to make predictions without re-training the model\n",
    "# # Source: https://www.geeksforgeeks.org/saving-a-machine-learning-model/\n",
    "\n",
    "# import pickle\n",
    "# from sklearn.externals import joblib \n",
    "  \n",
    "# # Save the model as a pickle in a file \n",
    "# joblib.dump(model_5K, 'model_5K.pkl') \n",
    "  \n",
    "# # Load the model from the file \n",
    "# model_5K_from_joblib = joblib.load('model_5K.pkl')  \n",
    "  \n",
    "# # Use the loaded model to make predictions \n",
    "# model_5K_from_joblib.predict(X_test_5K) "
   ]
  },
  {
   "cell_type": "markdown",
   "metadata": {},
   "source": [
    "### LASSO model\n",
    "\n",
    "performs feature selection by reducing small coefficient values to absolute zero"
   ]
  },
  {
   "cell_type": "code",
   "execution_count": 391,
   "metadata": {
    "nbgrader": {
     "grade": false,
     "grade_id": "cell-1dbfa38f409ceb7c",
     "locked": false,
     "schema_version": 1,
     "solution": true
    }
   },
   "outputs": [
    {
     "name": "stdout",
     "output_type": "stream",
     "text": [
      "MSE: 14540.333076413786, R2: 0.7380835963027237\n"
     ]
    }
   ],
   "source": [
    "# Note: Use an alpha of .01 when creating the model for this activity\n",
    "from sklearn.linear_model import Lasso\n",
    "\n",
    "lasso = Lasso(alpha=.01).fit(X_train_5K, y_train_5K)\n",
    "\n",
    "predictions = lasso.predict(X_test_5K)\n",
    "\n",
    "MSE = mean_squared_error(y_test_5K, predictions)\n",
    "r2 = lasso.score(X_test_5K, y_test_5K)\n",
    "\n",
    "print(f\"MSE: {MSE}, R2: {r2}\")"
   ]
  },
  {
   "cell_type": "markdown",
   "metadata": {},
   "source": [
    "### Ridge model\n",
    "\n",
    "reduces multicollinearity\n",
    "create plot to show differences in coefficient values\n",
    "use code from here: https://www.analyticsvidhya.com/blog/2017/06/a-comprehensive-guide-for-linear-ridge-and-lasso-regression/"
   ]
  },
  {
   "cell_type": "code",
   "execution_count": 392,
   "metadata": {
    "nbgrader": {
     "grade": false,
     "grade_id": "cell-d7adb5db2fc7b236",
     "locked": false,
     "schema_version": 1,
     "solution": true
    }
   },
   "outputs": [
    {
     "name": "stdout",
     "output_type": "stream",
     "text": [
      "MSE: 14540.333076413786, R2: 0.7380844840704522\n"
     ]
    }
   ],
   "source": [
    "# Note: Use an alpha of .01 when creating the model for this activity\n",
    "from sklearn.linear_model import Ridge\n",
    "\n",
    "### BEGIN SOLUTION\n",
    "ridge_5K = Ridge(alpha=.01).fit(X_train_5K, y_train_5K)\n",
    "\n",
    "predictions_5K = ridge_5K.predict(X_test_5K)\n",
    "\n",
    "MSE = mean_squared_error(y_test_5K, predictions)\n",
    "r2 = ridge_5K.score(X_test_5K, y_test_5K)\n",
    "### END SOLUTION\n",
    "\n",
    "print(f\"MSE: {MSE}, R2: {r2}\")"
   ]
  },
  {
   "cell_type": "markdown",
   "metadata": {},
   "source": [
    "### ElasticNet model"
   ]
  },
  {
   "cell_type": "code",
   "execution_count": 393,
   "metadata": {
    "nbgrader": {
     "grade": false,
     "grade_id": "cell-5b0241abbdaa88e9",
     "locked": false,
     "schema_version": 1,
     "solution": true
    }
   },
   "outputs": [
    {
     "name": "stdout",
     "output_type": "stream",
     "text": [
      "MSE: 14540.333076413786, R2: 0.7380834838530501\n"
     ]
    }
   ],
   "source": [
    "# Note: Use an alpha of .01 when creating the model for this activity\n",
    "from sklearn.linear_model import ElasticNet\n",
    "\n",
    "elasticnet_5K = ElasticNet(alpha=.01).fit(X_train_5K, y_train_5K)\n",
    "\n",
    "predictions_5K = elasticnet_5K.predict(X_test_5K)\n",
    "\n",
    "MSE = mean_squared_error(y_test_5K, predictions)\n",
    "r2 = elasticnet_5K.score(X_test_5K, y_test_5K)\n",
    "\n",
    "\n",
    "print(f\"MSE: {MSE}, R2: {r2}\")"
   ]
  },
  {
   "cell_type": "code",
   "execution_count": 394,
   "metadata": {},
   "outputs": [
    {
     "name": "stdout",
     "output_type": "stream",
     "text": [
      "(79038, 4) (79038, 1)\n"
     ]
    },
    {
     "data": {
      "image/png": "[encoded data removed]",
      "text/plain": [
       "<Figure size 432x288 with 1 Axes>"
      ]
     },
     "metadata": {
      "needs_background": "light"
     },
     "output_type": "display_data"
    }
   ],
   "source": [
    "# Re-run the model without the Bib numbers as a feature to test if Bib numbers are helpful\n",
    "\n",
    "### set up data for modeling\n",
    "X_nobib = boston_clean[['Age','Official Time Duration', 'F', 'M']]\n",
    "y_nobib = boston_clean['5K Duration'].values.reshape(-1, 1)\n",
    "print(X_nobib.shape, y_nobib.shape)\n",
    "\n",
    "# split the data into test and train subsets\n",
    "\n",
    "from sklearn.model_selection import train_test_split\n",
    "\n",
    "X_train_nobib, X_test_nobib, y_train_nobib, y_test_nobib = train_test_split(X_nobib, y_nobib, random_state=29)\n",
    "# X_train_nobib.head()\n",
    "\n",
    "# Create a linear regression model and fit it to the training data\n",
    "\n",
    "from sklearn.linear_model import LinearRegression\n",
    "model_nobib = LinearRegression()\n",
    "model_nobib.fit(X_train_nobib, y_train_nobib)\n",
    "\n",
    "# Make predictions\n",
    "\n",
    "predictions_nobib = model_nobib.predict(X_test_nobib)\n",
    "\n",
    "# Plot the residuals\n",
    "\n",
    "plt.scatter(model_nobib.predict(X_train_nobib), model_nobib.predict(X_train_nobib) - y_train_nobib, c=\"blue\", label=\"Training Data\")\n",
    "plt.scatter(model_nobib.predict(X_test_nobib), model_nobib.predict(X_test_nobib) - y_test_nobib, c=\"orange\", label=\"Testing Data\")\n",
    "plt.legend()\n",
    "plt.hlines(y=0, xmin=y_test_nobib.min(), xmax=y_test_nobib.max())\n",
    "plt.title(\"Residual Plot No Bib Model\")\n",
    "plt.show()\n"
   ]
  },
  {
   "cell_type": "code",
   "execution_count": 395,
   "metadata": {},
   "outputs": [
    {
     "name": "stdout",
     "output_type": "stream",
     "text": [
      "MSE: 14540.333076413786, R2: 0.17248974161919128\n"
     ]
    }
   ],
   "source": [
    "# Used X_test, y_test, and model.predict(X_test) to calculate MSE and R2\n",
    "\n",
    "from sklearn.metrics import mean_squared_error\n",
    "\n",
    "MSE = mean_squared_error(y_test_nobib, predictions)\n",
    "r2 = model_nobib.score(X_test_nobib, y_test_nobib)\n",
    "\n",
    "\n",
    "print(f\"MSE: {MSE}, R2: {r2}\")\n",
    "\n",
    "# Model built without Bib numbers has a smaller R2 value, so Bib numbers was helping model predictions"
   ]
  },
  {
   "cell_type": "code",
   "execution_count": 396,
   "metadata": {},
   "outputs": [
    {
     "name": "stdout",
     "output_type": "stream",
     "text": [
      "(79038, 6) (79038, 1)\n"
     ]
    },
    {
     "data": {
      "image/png": "[encoded data removed]",
      "text/plain": [
       "<Figure size 432x288 with 1 Axes>"
      ]
     },
     "metadata": {
      "needs_background": "light"
     },
     "output_type": "display_data"
    }
   ],
   "source": [
    "# Re-run the model with the Bib numbers as a feature and for the 5K split times to predict 10K time\n",
    "\n",
    "### set up data for modeling\n",
    "X_10K = boston_clean[['Bib', 'Age','Official Time Duration', 'F', 'M', '5K Duration']]\n",
    "y_10K = boston_clean['10K Duration'].values.reshape(-1, 1)\n",
    "print(X_10K.shape, y_10K.shape)\n",
    "\n",
    "# split the data into test and train subsets\n",
    "\n",
    "from sklearn.model_selection import train_test_split\n",
    "\n",
    "X_train_10K, X_test_10K, y_train_10K, y_test_10K = train_test_split(X_10K, y_10K, random_state=29)\n",
    "# X_train_5K.head()\n",
    "\n",
    "# Create a linear regression model and fit it to the training data\n",
    "\n",
    "from sklearn.linear_model import LinearRegression\n",
    "model_10K = LinearRegression()\n",
    "model_10K.fit(X_train_10K, y_train_10K)\n",
    "\n",
    "# Make predictions\n",
    "\n",
    "predictions_10K = model_10K.predict(X_test_10K)\n",
    "\n",
    "# Plot the residuals\n",
    "\n",
    "plt.scatter(model_10K.predict(X_train_10K), model_10K.predict(X_train_10K) - y_train_10K, c=\"blue\", label=\"Training Data\")\n",
    "plt.scatter(model_10K.predict(X_test_10K), model_10K.predict(X_test_10K) - y_test_10K, c=\"orange\", label=\"Testing Data\")\n",
    "plt.legend()\n",
    "plt.hlines(y=0, xmin=y_test_10K.min(), xmax=y_test_10K.max())\n",
    "plt.title(\"Residual Plot 10K\")\n",
    "plt.show()"
   ]
  },
  {
   "cell_type": "code",
   "execution_count": 397,
   "metadata": {},
   "outputs": [
    {
     "name": "stdout",
     "output_type": "stream",
     "text": [
      "MSE: 567269.0713060743, R2: 0.3255416027793261\n"
     ]
    }
   ],
   "source": [
    "# Used X_test, y_test, and model.predict(X_test) to calculate MSE and R2\n",
    "\n",
    "from sklearn.metrics import mean_squared_error\n",
    "\n",
    "MSE = mean_squared_error(y_test_10K, predictions_10K)\n",
    "r2 = model_10K.score(X_test_10K, y_test_10K)\n",
    "\n",
    "\n",
    "print(f\"MSE: {MSE}, R2: {r2}\")\n",
    "\n",
    "# Model built without Bib numbers has a smaller R2 value"
   ]
  },
  {
   "cell_type": "code",
   "execution_count": 398,
   "metadata": {},
   "outputs": [
    {
     "data": {
      "text/plain": [
       "['model_10K.pk1']"
      ]
     },
     "execution_count": 398,
     "metadata": {},
     "output_type": "execute_result"
    }
   ],
   "source": [
    "# Save the model as pickle file\n",
    "\n",
    "import pickle\n",
    "from sklearn.externals import joblib\n",
    "\n",
    "joblib.dump(model_10K, 'model_10K.pk1')"
   ]
  },
  {
   "cell_type": "code",
   "execution_count": 399,
   "metadata": {},
   "outputs": [
    {
     "name": "stdout",
     "output_type": "stream",
     "text": [
      "(79038, 7) (79038, 1)\n"
     ]
    },
    {
     "data": {
      "image/png": "[encoded data removed]",
      "text/plain": [
       "<Figure size 432x288 with 1 Axes>"
      ]
     },
     "metadata": {
      "needs_background": "light"
     },
     "output_type": "display_data"
    }
   ],
   "source": [
    "# Re-run the model with the Bib numbers as a feature and for the 5K and 10K split times to predict 15K time\n",
    "\n",
    "### set up data for modeling\n",
    "X_15K = boston_clean[['Bib', 'Age','Official Time Duration', 'F', 'M', '5K Duration', '10K Duration']]\n",
    "y_15K = boston_clean['15K Duration'].values.reshape(-1, 1)\n",
    "print(X_15K.shape, y_15K.shape)\n",
    "\n",
    "# split the data into test and train subsets\n",
    "\n",
    "from sklearn.model_selection import train_test_split\n",
    "\n",
    "X_train_15K, X_test_15K, y_train_15K, y_test_15K = train_test_split(X_15K, y_15K, random_state=29)\n",
    "# X_train_15K.head()\n",
    "\n",
    "# Create a linear regression model and fit it to the training data\n",
    "\n",
    "from sklearn.linear_model import LinearRegression\n",
    "model_15K = LinearRegression()\n",
    "model_15K.fit(X_train_15K, y_train_15K)\n",
    "\n",
    "# Make predictions\n",
    "\n",
    "predictions_15K = model_15K.predict(X_test_15K)\n",
    "\n",
    "# Plot the residuals\n",
    "\n",
    "plt.scatter(model_15K.predict(X_train_15K), model_15K.predict(X_train_15K) - y_train_15K, c=\"blue\", label=\"Training Data\")\n",
    "plt.scatter(model_15K.predict(X_test_15K), model_15K.predict(X_test_15K) - y_test_15K, c=\"orange\", label=\"Testing Data\")\n",
    "plt.legend()\n",
    "plt.hlines(y=0, xmin=y_test_15K.min(), xmax=y_test_15K.max())\n",
    "plt.title(\"Residual Plot 15K\")\n",
    "plt.show()"
   ]
  },
  {
   "cell_type": "code",
   "execution_count": 400,
   "metadata": {},
   "outputs": [
    {
     "name": "stdout",
     "output_type": "stream",
     "text": [
      "MSE: 452848.5428572952, R2: 0.33841374763138976\n"
     ]
    }
   ],
   "source": [
    "# Used X_test, y_test, and model.predict(X_test) to calculate MSE and R2\n",
    "\n",
    "from sklearn.metrics import mean_squared_error\n",
    "\n",
    "MSE = mean_squared_error(y_test_15K, predictions_15K)\n",
    "r2 = model_15K.score(X_test_15K, y_test_15K)\n",
    "\n",
    "\n",
    "print(f\"MSE: {MSE}, R2: {r2}\")\n",
    "\n",
    "# Model built without Bib numbers has a smaller R2 value"
   ]
  },
  {
   "cell_type": "code",
   "execution_count": 401,
   "metadata": {},
   "outputs": [
    {
     "data": {
      "text/plain": [
       "['model_15K.pk1']"
      ]
     },
     "execution_count": 401,
     "metadata": {},
     "output_type": "execute_result"
    }
   ],
   "source": [
    "# Save the model as pickle file\n",
    "\n",
    "import pickle\n",
    "from sklearn.externals import joblib\n",
    "\n",
    "joblib.dump(model_15K, 'model_15K.pk1')"
   ]
  },
  {
   "cell_type": "code",
   "execution_count": 402,
   "metadata": {},
   "outputs": [
    {
     "name": "stdout",
     "output_type": "stream",
     "text": [
      "(79038, 8) (79038, 1)\n"
     ]
    },
    {
     "data": {
      "image/png": "[encoded data removed]",
      "text/plain": [
       "<Figure size 432x288 with 1 Axes>"
      ]
     },
     "metadata": {
      "needs_background": "light"
     },
     "output_type": "display_data"
    }
   ],
   "source": [
    "# Re-run the model with the Bib numbers as a feature and for the 5K, 10K and 15K split times to predict 20K time\n",
    "\n",
    "### set up data for modeling\n",
    "X_20K = boston_clean[['Bib', 'Age','Official Time Duration', 'F', 'M', '5K Duration', '10K Duration', '15K Duration']]\n",
    "y_20K = boston_clean['20K Duration'].values.reshape(-1, 1)\n",
    "print(X_20K.shape, y_20K.shape)\n",
    "\n",
    "# split the data into test and train subsets\n",
    "\n",
    "from sklearn.model_selection import train_test_split\n",
    "\n",
    "X_train_20K, X_test_20K, y_train_20K, y_test_20K = train_test_split(X_20K, y_20K, random_state=29)\n",
    "# X_train_20K.head()\n",
    "\n",
    "# Create a linear regression model and fit it to the training data\n",
    "\n",
    "from sklearn.linear_model import LinearRegression\n",
    "model_20K = LinearRegression()\n",
    "model_20K.fit(X_train_20K, y_train_20K)\n",
    "\n",
    "# Make predictions\n",
    "\n",
    "predictions_20K = model_20K.predict(X_test_20K)\n",
    "\n",
    "# Plot the residuals\n",
    "\n",
    "plt.scatter(model_20K.predict(X_train_20K), model_20K.predict(X_train_20K) - y_train_20K, c=\"blue\", label=\"Training Data\")\n",
    "plt.scatter(model_20K.predict(X_test_20K), model_20K.predict(X_test_20K) - y_test_20K, c=\"orange\", label=\"Testing Data\")\n",
    "plt.legend()\n",
    "plt.hlines(y=0, xmin=y_test_20K.min(), xmax=y_test_20K.max())\n",
    "plt.title(\"Residual Plot 20K\")\n",
    "plt.show()"
   ]
  },
  {
   "cell_type": "code",
   "execution_count": 403,
   "metadata": {},
   "outputs": [
    {
     "name": "stdout",
     "output_type": "stream",
     "text": [
      "MSE: 279680.93462995003, R2: 0.6014243714921839\n"
     ]
    }
   ],
   "source": [
    "# Used X_test, y_test, and model.predict(X_test) to calculate MSE and R2\n",
    "\n",
    "from sklearn.metrics import mean_squared_error\n",
    "\n",
    "MSE = mean_squared_error(y_test_20K, predictions_20K)\n",
    "r2 = model_20K.score(X_test_20K, y_test_20K)\n",
    "\n",
    "\n",
    "print(f\"MSE: {MSE}, R2: {r2}\")"
   ]
  },
  {
   "cell_type": "code",
   "execution_count": 404,
   "metadata": {},
   "outputs": [
    {
     "data": {
      "text/plain": [
       "['model_20K.pk1']"
      ]
     },
     "execution_count": 404,
     "metadata": {},
     "output_type": "execute_result"
    }
   ],
   "source": [
    "# Save the model as pickle file\n",
    "\n",
    "import pickle\n",
    "from sklearn.externals import joblib\n",
    "\n",
    "joblib.dump(model_20K, 'model_20K.pk1')"
   ]
  },
  {
   "cell_type": "code",
   "execution_count": 405,
   "metadata": {},
   "outputs": [
    {
     "name": "stdout",
     "output_type": "stream",
     "text": [
      "(79038, 9) (79038, 1)\n"
     ]
    },
    {
     "data": {
      "image/png": "[encoded data removed]",
      "text/plain": [
       "<Figure size 432x288 with 1 Axes>"
      ]
     },
     "metadata": {
      "needs_background": "light"
     },
     "output_type": "display_data"
    }
   ],
   "source": [
    "# Re-run the model with the Bib numbers as a feature and for the 5K, 10K 15K and 20K split times to predict 25K time\n",
    "\n",
    "### set up data for modeling\n",
    "X_25K = boston_clean[['Bib', 'Age','Official Time Duration', 'F', 'M', '5K Duration', '10K Duration', '15K Duration', '20K Duration']]\n",
    "y_25K = boston_clean['25K Duration'].values.reshape(-1, 1)\n",
    "print(X_25K.shape, y_25K.shape)\n",
    "\n",
    "# split the data into test and train subsets\n",
    "\n",
    "from sklearn.model_selection import train_test_split\n",
    "\n",
    "X_train_25K, X_test_25K, y_train_25K, y_test_25K = train_test_split(X_25K, y_25K, random_state=29)\n",
    "# X_train_25K.head()\n",
    "\n",
    "# Create a linear regression model and fit it to the training data\n",
    "\n",
    "from sklearn.linear_model import LinearRegression\n",
    "model_25K = LinearRegression()\n",
    "model_25K.fit(X_train_25K, y_train_25K)\n",
    "\n",
    "# Make predictions\n",
    "\n",
    "predictions_25K = model_25K.predict(X_test_25K)\n",
    "\n",
    "# Plot the residuals\n",
    "\n",
    "plt.scatter(model_25K.predict(X_train_25K), model_25K.predict(X_train_25K) - y_train_25K, c=\"blue\", label=\"Training Data\")\n",
    "plt.scatter(model_25K.predict(X_test_25K), model_25K.predict(X_test_25K) - y_test_25K, c=\"orange\", label=\"Testing Data\")\n",
    "plt.legend()\n",
    "plt.hlines(y=0, xmin=y_test_25K.min(), xmax=y_test_25K.max())\n",
    "plt.title(\"Residual Plot 25K\")\n",
    "plt.show()"
   ]
  },
  {
   "cell_type": "code",
   "execution_count": 406,
   "metadata": {},
   "outputs": [
    {
     "name": "stdout",
     "output_type": "stream",
     "text": [
      "MSE: 832226.7620825437, R2: 0.3512000784154765\n"
     ]
    }
   ],
   "source": [
    "# Used X_test, y_test, and model.predict(X_test) to calculate MSE and R2\n",
    "\n",
    "from sklearn.metrics import mean_squared_error\n",
    "\n",
    "MSE = mean_squared_error(y_test_25K, predictions_25K)\n",
    "r2 = model_25K.score(X_test_25K, y_test_25K)\n",
    "\n",
    "\n",
    "print(f\"MSE: {MSE}, R2: {r2}\")"
   ]
  },
  {
   "cell_type": "code",
   "execution_count": 407,
   "metadata": {},
   "outputs": [
    {
     "data": {
      "text/plain": [
       "['model_25K.pk1']"
      ]
     },
     "execution_count": 407,
     "metadata": {},
     "output_type": "execute_result"
    }
   ],
   "source": [
    "# Save the model as pickle file\n",
    "\n",
    "import pickle\n",
    "from sklearn.externals import joblib\n",
    "\n",
    "joblib.dump(model_25K, 'model_25K.pk1')"
   ]
  },
  {
   "cell_type": "code",
   "execution_count": 408,
   "metadata": {},
   "outputs": [
    {
     "name": "stdout",
     "output_type": "stream",
     "text": [
      "(79038, 10) (79038, 1)\n"
     ]
    },
    {
     "data": {
      "image/png": "[encoded data removed]",
      "text/plain": [
       "<Figure size 432x288 with 1 Axes>"
      ]
     },
     "metadata": {
      "needs_background": "light"
     },
     "output_type": "display_data"
    }
   ],
   "source": [
    "# Re-run the model with the Bib numbers as a feature and for the 5K, 10K 15K 20K and 25K split times to predict Half time\n",
    "\n",
    "### set up data for modeling\n",
    "X_Half = boston_clean[['Bib', 'Age','Official Time Duration', 'F', 'M', '5K Duration', '10K Duration', '15K Duration', '20K Duration', '25K Duration']]\n",
    "y_Half = boston_clean['Half Duration'].values.reshape(-1, 1)\n",
    "print(X_Half.shape, y_Half.shape)\n",
    "\n",
    "# split the data into test and train subsets\n",
    "\n",
    "from sklearn.model_selection import train_test_split\n",
    "\n",
    "X_train_Half, X_test_Half, y_train_Half, y_test_Half = train_test_split(X_Half, y_Half, random_state=29)\n",
    "# X_train_Half.head()\n",
    "\n",
    "# Create a linear regression model and fit it to the training data\n",
    "\n",
    "from sklearn.linear_model import LinearRegression\n",
    "model_Half = LinearRegression()\n",
    "model_Half.fit(X_train_Half, y_train_Half)\n",
    "\n",
    "# Make predictions\n",
    "\n",
    "predictions_Half = model_Half.predict(X_test_Half)\n",
    "\n",
    "# Plot the residuals\n",
    "\n",
    "plt.scatter(model_Half.predict(X_train_Half), model_Half.predict(X_train_Half) - y_train_Half, c=\"blue\", label=\"Training Data\")\n",
    "plt.scatter(model_Half.predict(X_test_Half), model_Half.predict(X_test_Half) - y_test_Half, c=\"orange\", label=\"Testing Data\")\n",
    "plt.legend()\n",
    "plt.hlines(y=0, xmin=y_test_Half.min(), xmax=y_test_Half.max())\n",
    "plt.title(\"Residual Plot Half Marathon\")\n",
    "plt.show()"
   ]
  },
  {
   "cell_type": "code",
   "execution_count": 409,
   "metadata": {},
   "outputs": [
    {
     "name": "stdout",
     "output_type": "stream",
     "text": [
      "MSE: 541110.6021685877, R2: 0.3612099644542225\n"
     ]
    }
   ],
   "source": [
    "# Used X_test, y_test, and model.predict(X_test) to calculate MSE and R2\n",
    "\n",
    "from sklearn.metrics import mean_squared_error\n",
    "\n",
    "MSE = mean_squared_error(y_test_Half, predictions_Half)\n",
    "r2 = model_Half.score(X_test_Half, y_test_Half)\n",
    "\n",
    "\n",
    "print(f\"MSE: {MSE}, R2: {r2}\")"
   ]
  },
  {
   "cell_type": "code",
   "execution_count": 410,
   "metadata": {},
   "outputs": [
    {
     "data": {
      "text/plain": [
       "['model_Half.pk1']"
      ]
     },
     "execution_count": 410,
     "metadata": {},
     "output_type": "execute_result"
    }
   ],
   "source": [
    "# Save the model as pickle file\n",
    "\n",
    "import pickle\n",
    "from sklearn.externals import joblib\n",
    "\n",
    "joblib.dump(model_Half, 'model_Half.pk1')"
   ]
  },
  {
   "cell_type": "code",
   "execution_count": null,
   "metadata": {},
   "outputs": [],
   "source": []
  }
 ],
 "metadata": {
  "celltoolbar": "Create Assignment",
  "kernelspec": {
   "display_name": "Python 3",
   "language": "python",
   "name": "python3"
  },
  "language_info": {
   "codemirror_mode": {
    "name": "ipython",
    "version": 3
   },
   "file_extension": ".py",
   "mimetype": "text/x-python",
   "name": "python",
   "nbconvert_exporter": "python",
   "pygments_lexer": "ipython3",
   "version": "3.7.0"
  },
  "varInspector": {
   "cols": {
    "lenName": 16,
    "lenType": 16,
    "lenVar": 40
   },
   "kernels_config": {
    "python": {
     "delete_cmd_postfix": "",
     "delete_cmd_prefix": "del ",
     "library": "var_list.py",
     "varRefreshCmd": "print(var_dic_list())"
    },
    "r": {
     "delete_cmd_postfix": ") ",
     "delete_cmd_prefix": "rm(",
     "library": "var_list.r",
     "varRefreshCmd": "cat(var_dic_list()) "
    }
   },
   "types_to_exclude": [
    "module",
    "function",
    "builtin_function_or_method",
    "instance",
    "_Feature"
   ],
   "window_display": false
  }
 },
 "nbformat": 4,
 "nbformat_minor": 2
}
